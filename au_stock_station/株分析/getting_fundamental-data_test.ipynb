{
 "cells": [
  {
   "cell_type": "markdown",
   "metadata": {},
   "source": [
    "# Yahoo financeから企業の財務諸表データを取得"
   ]
  },
  {
   "cell_type": "code",
   "execution_count": 1,
   "metadata": {},
   "outputs": [],
   "source": [
    "# pip install yfinance\n",
    "import yfinance as yf"
   ]
  },
  {
   "cell_type": "markdown",
   "metadata": {},
   "source": [
    "### yfinaceにはバグがあり、そのままでは財務諸表データを取得できない\n",
    "### yfinance/base.py の 353行あたりの\n",
    "### data = utils.get_json(url+'/financials', proxy)　を\n",
    "## url = \"{}/{}/financials\".format(self._scrape_url,self,tickers)\n",
    "## data = utils.get_json(url, proxy) に変更することで財務諸表データを取得できる"
   ]
  },
  {
   "cell_type": "code",
   "execution_count": 5,
   "metadata": {},
   "outputs": [
    {
     "name": "stdout",
     "output_type": "stream",
     "text": [
      "                    Open          High           Low         Close   Volume  \\\n",
      "Date                                                                          \n",
      "2000-01-04  12704.373219  13657.201210   4213.617118  13000.808594  8794200   \n",
      "2000-01-05  11730.376953  11730.376953  11730.376953  11730.376953  2073200   \n",
      "2000-01-06  11476.288987  11539.810881  10883.417969  10883.417969  9919800   \n",
      "2000-01-07  10036.459961  10205.851690  10036.459961  10036.459961  9360200   \n",
      "2000-01-10  10036.459961  10036.459961  10036.459961  10036.459961        0   \n",
      "...                  ...           ...           ...           ...      ...   \n",
      "2021-01-21  10595.000000  10665.000000  10510.000000  10605.000000  3088000   \n",
      "2021-01-22  10470.000000  10510.000000  10385.000000  10480.000000  3683800   \n",
      "2021-01-25  10460.000000  10490.000000  10155.000000  10300.000000  5221700   \n",
      "2021-01-26  10250.000000  10340.000000  10160.000000  10285.000000  3810700   \n",
      "2021-01-27  10300.000000  10400.000000  10125.000000  10270.000000  4777800   \n",
      "\n",
      "            Dividends  Stock Splits  \n",
      "Date                                 \n",
      "2000-01-04        0.0             0  \n",
      "2000-01-05        0.0             0  \n",
      "2000-01-06        0.0             0  \n",
      "2000-01-07        0.0             0  \n",
      "2000-01-10        0.0             0  \n",
      "...               ...           ...  \n",
      "2021-01-21        0.0             0  \n",
      "2021-01-22        0.0             0  \n",
      "2021-01-25        0.0             0  \n",
      "2021-01-26        0.0             0  \n",
      "2021-01-27        0.0             0  \n",
      "\n",
      "[5272 rows x 7 columns]\n"
     ]
    }
   ],
   "source": [
    "# tickerでデータを取得したい企業の証券コードを指定\n",
    "# ここではSony(6758)を選択\n",
    "# なぜ末尾に.Tが必要なのかはわかんない\n",
    "ticker = yf.Ticker(\"6758.T\")\n",
    "\n",
    "# 株価のヒストリカルデータを取得\n",
    "hist = ticker.history(period=\"max\")\n",
    "print(hist)"
   ]
  },
  {
   "cell_type": "code",
   "execution_count": 6,
   "metadata": {},
   "outputs": [
    {
     "name": "stdout",
     "output_type": "stream",
     "text": [
      "                                         2020-03-31   2019-03-31   2018-03-31  \\\n",
      "Research Development                           None         None         None   \n",
      "Effect Of Accounting Charges                   None         None         None   \n",
      "Income Before Tax                        7.9945e+11  1.01165e+12  6.99049e+11   \n",
      "Minority Interest                       6.71996e+11  6.99114e+11  6.89001e+11   \n",
      "Net Income                              5.82191e+11  9.16271e+11  4.90794e+11   \n",
      "Selling General Administrative          1.48064e+12  1.55485e+12   1.5642e+12   \n",
      "Gross Profit                            2.33646e+12  2.40170e+12  2.30418e+12   \n",
      "Ebit                                    8.57316e+11  8.46852e+11  7.39983e+11   \n",
      "Operating Income                        8.57316e+11  8.46852e+11  7.39983e+11   \n",
      "Other Operating Expenses                 -1.495e+09   -1.495e+09   -1.495e+09   \n",
      "Interest Expense                         -1.109e+10  -1.2467e+10  -1.3566e+10   \n",
      "Extraordinary Items                            None         None         None   \n",
      "Non Recurring                                  None         None         None   \n",
      "Other Items                                    None         None         None   \n",
      "Income Tax Expense                       1.7719e+11   4.5098e+10   1.5177e+11   \n",
      "Total Revenue                           8.25988e+12  8.66569e+12  8.53466e+12   \n",
      "Total Operating Expenses                7.40257e+12  7.81884e+12  7.79468e+12   \n",
      "Cost Of Revenue                         5.92342e+12  6.26398e+12  6.23048e+12   \n",
      "Total Other Income Expense Net          -5.7866e+10  1.64796e+11  -4.0934e+10   \n",
      "Discontinued Operations                        None         None         None   \n",
      "Net Income From Continuing Ops           6.2226e+11   9.6655e+11  5.47279e+11   \n",
      "Net Income Applicable To Common Shares  5.82191e+11  9.16271e+11  4.90794e+11   \n",
      "\n",
      "                                         2017-03-31  \n",
      "Research Development                           None  \n",
      "Effect Of Accounting Charges                   None  \n",
      "Income Before Tax                       2.51619e+11  \n",
      "Minority Interest                       6.50234e+11  \n",
      "Net Income                               7.3289e+10  \n",
      "Selling General Administrative           1.4961e+12  \n",
      "Gross Profit                             1.9365e+12  \n",
      "Ebit                                    4.40393e+11  \n",
      "Operating Income                        4.40393e+11  \n",
      "Other Operating Expenses                 -1.495e+09  \n",
      "Interest Expense                        -1.4544e+10  \n",
      "Extraordinary Items                            None  \n",
      "Non Recurring                                  None  \n",
      "Other Items                                    None  \n",
      "Income Tax Expense                      1.24058e+11  \n",
      "Total Revenue                           7.60325e+12  \n",
      "Total Operating Expenses                7.16286e+12  \n",
      "Cost Of Revenue                         5.66676e+12  \n",
      "Total Other Income Expense Net         -1.88774e+11  \n",
      "Discontinued Operations                        None  \n",
      "Net Income From Continuing Ops          1.27561e+11  \n",
      "Net Income Applicable To Common Shares   7.3289e+10  \n"
     ]
    }
   ],
   "source": [
    "# 損益計算表 およそ過去3年分のデータを取得できる\n",
    "# 返り値はpandas DataFrame\n",
    "financials = ticker.financials\n",
    "print(financials)"
   ]
  },
  {
   "cell_type": "markdown",
   "metadata": {},
   "source": [
    "## 損益計算表のうち大事そうなもの\n",
    "### Total Revenue(売上高)\n",
    "### Operating Income(営業利益)\n",
    "### Net Income(当期純利益)"
   ]
  },
  {
   "cell_type": "code",
   "execution_count": 16,
   "metadata": {},
   "outputs": [
    {
     "data": {
      "text/plain": [
       "Index(['Research Development', 'Effect Of Accounting Charges',\n",
       "       'Income Before Tax', 'Minority Interest', 'Net Income',\n",
       "       'Selling General Administrative', 'Gross Profit', 'Ebit',\n",
       "       'Operating Income', 'Other Operating Expenses', 'Interest Expense',\n",
       "       'Extraordinary Items', 'Non Recurring', 'Other Items',\n",
       "       'Income Tax Expense', 'Total Revenue', 'Total Operating Expenses',\n",
       "       'Cost Of Revenue', 'Total Other Income Expense Net',\n",
       "       'Discontinued Operations', 'Net Income From Continuing Ops',\n",
       "       'Net Income Applicable To Common Shares'],\n",
       "      dtype='object')"
      ]
     },
     "execution_count": 16,
     "metadata": {},
     "output_type": "execute_result"
    }
   ],
   "source": [
    "financials.index"
   ]
  },
  {
   "cell_type": "code",
   "execution_count": 19,
   "metadata": {},
   "outputs": [
    {
     "data": {
      "text/plain": [
       "\n",
       "2020-03-31    8.25988e+12\n",
       "2019-03-31    8.66569e+12\n",
       "2018-03-31    8.53466e+12\n",
       "2017-03-31    7.60325e+12\n",
       "Name: Total Revenue, dtype: object"
      ]
     },
     "execution_count": 19,
     "metadata": {},
     "output_type": "execute_result"
    }
   ],
   "source": [
    "T_Revenue = financials.loc['Total Revenue']\n",
    "T_Revenue"
   ]
  },
  {
   "cell_type": "code",
   "execution_count": 21,
   "metadata": {},
   "outputs": [
    {
     "name": "stdout",
     "output_type": "stream",
     "text": [
      "                                    2020-03-31    2019-03-31    2018-03-31  \\\n",
      "Intangible Assets                 8.564390e+11  8.749980e+11  5.271680e+11   \n",
      "Capital Surplus                   1.289719e+12  1.266874e+12  1.282577e+12   \n",
      "Total Liab                        1.824204e+13  1.653610e+13  1.540917e+13   \n",
      "Total Stockholder Equity          4.125306e+12  3.746377e+12  2.967366e+12   \n",
      "Minority Interest                 6.719960e+11  6.991140e+11  6.890010e+11   \n",
      "Other Current Liab                1.019520e+12  7.811100e+11  7.562380e+11   \n",
      "Total Assets                      2.303934e+13  2.098159e+13  1.906554e+13   \n",
      "Common Stock                      8.802140e+11  8.742910e+11  8.656780e+11   \n",
      "Other Current Assets              4.073100e+10  9.382000e+09  3.697900e+10   \n",
      "Retained Earnings                 2.768856e+12  2.320586e+12  1.440387e+12   \n",
      "Other Liab                        1.111970e+12  7.957890e+11  1.108812e+12   \n",
      "Good Will                         7.730540e+11  7.613270e+11  5.232670e+11   \n",
      "Treasury Stock                   -8.134830e+11 -7.153740e+11 -6.212760e+11   \n",
      "Other Assets                      1.907045e+12  1.779955e+12  7.474270e+11   \n",
      "Cash                              9.623180e+11  9.604780e+11  1.586329e+12   \n",
      "Total Current Liabilities         6.240443e+12  6.079815e+12  5.620541e+12   \n",
      "Deferred Long Term Asset Charges  2.103720e+11  1.989530e+11  9.677200e+10   \n",
      "Short Long Term Debt              2.095000e+10  1.729460e+11  2.259810e+11   \n",
      "Other Stockholder Equity         -5.809800e+11 -6.106700e+11 -6.167460e+11   \n",
      "Property Plant Equipment          1.301254e+12  7.770530e+11  7.394700e+11   \n",
      "Total Current Assets              5.735145e+12  5.246612e+12  5.176096e+12   \n",
      "Long Term Investments             1.180480e+13  1.089265e+13  1.075822e+13   \n",
      "Net Tangible Assets               2.435108e+12  2.059859e+12  1.909706e+12   \n",
      "Net Receivables                   1.191026e+12  1.289422e+12  1.203485e+12   \n",
      "Long Term Debt                    6.224200e+11  5.072920e+11  6.373440e+11   \n",
      "Inventory                         5.899690e+11  6.532780e+11  6.929370e+11   \n",
      "Accounts Payable                  1.848007e+12  2.185172e+12  1.982983e+12   \n",
      "Short Term Investments                     NaN           NaN  1.176601e+12   \n",
      "\n",
      "                                    2017-03-31  \n",
      "Intangible Assets                 5.841850e+11  \n",
      "Capital Surplus                   1.275337e+12  \n",
      "Total Liab                        1.451308e+13  \n",
      "Total Stockholder Equity          2.497246e+12  \n",
      "Minority Interest                 6.502340e+11  \n",
      "Other Current Liab                6.971930e+11  \n",
      "Total Assets                      1.766056e+13  \n",
      "Common Stock                      8.606450e+11  \n",
      "Other Current Assets              2.536300e+10  \n",
      "Retained Earnings                 9.843680e+11  \n",
      "Other Liab                        1.126223e+12  \n",
      "Good Will                         5.201630e+11  \n",
      "Treasury Stock                   -6.231040e+11  \n",
      "Other Assets                      7.575880e+11  \n",
      "Cash                              9.601420e+11  \n",
      "Total Current Liabilities         5.221739e+12  \n",
      "Deferred Long Term Asset Charges  9.895800e+10  \n",
      "Short Long Term Debt              5.414200e+10  \n",
      "Other Stockholder Equity         -6.187690e+11  \n",
      "Property Plant Equipment          7.581990e+11  \n",
      "Total Current Assets              4.355722e+12  \n",
      "Long Term Investments             9.845949e+12  \n",
      "Net Tangible Assets               1.390523e+12  \n",
      "Net Receivables                   1.178125e+12  \n",
      "Long Term Debt                    6.995490e+11  \n",
      "Inventory                         6.408350e+11  \n",
      "Accounts Payable                  1.934658e+12  \n",
      "Short Term Investments            1.051441e+12  \n"
     ]
    }
   ],
   "source": [
    "# 賃借対照表(バランスシート)の取得\n",
    "balance_sheet = ticker.balance_sheet\n",
    "print(balance_sheet)"
   ]
  },
  {
   "cell_type": "code",
   "execution_count": 22,
   "metadata": {},
   "outputs": [
    {
     "name": "stdout",
     "output_type": "stream",
     "text": [
      "                                             2020-03-31    2019-03-31  \\\n",
      "Investments                               -9.293620e+11 -7.373680e+11   \n",
      "Change To Liabilities                     -9.143500e+10  1.853400e+10   \n",
      "Total Cashflows From Investing Activities -1.352278e+12 -1.307445e+12   \n",
      "Net Borrowings                             1.137240e+11 -1.643410e+11   \n",
      "Total Cash From Financing Activities       6.565800e+10 -1.228840e+11   \n",
      "Change To Operating Activities            -4.313000e+09  1.176770e+11   \n",
      "Net Income                                 5.821910e+11  9.162710e+11   \n",
      "Change In Cash                             4.148200e+10 -1.191260e+11   \n",
      "Repurchase Of Stock                       -2.002110e+11 -1.001770e+11   \n",
      "Effect Of Exchange Rate                   -2.164300e+10  5.246500e+10   \n",
      "Total Cash From Operating Activities       1.349745e+12  1.258738e+12   \n",
      "Depreciation                               3.226520e+11  2.940340e+11   \n",
      "Other Cashflows From Investing Activities -1.472900e+10 -3.082100e+10   \n",
      "Dividends Paid                            -4.957400e+10 -3.806700e+10   \n",
      "Change To Inventory                        4.031500e+10  3.045500e+10   \n",
      "Change To Account Receivables              6.265400e+10  1.144000e+09   \n",
      "Other Cashflows From Financing Activities  2.017190e+11  1.797010e+11   \n",
      "Change To Netincome                        1.785520e+11 -4.637030e+11   \n",
      "Capital Expenditures                      -4.397610e+11 -3.126440e+11   \n",
      "\n",
      "                                             2018-03-31    2017-03-31  \n",
      "Investments                               -6.532560e+11 -9.445190e+11  \n",
      "Change To Liabilities                     -8.793900e+10 -1.386000e+09  \n",
      "Total Cashflows From Investing Activities -8.230680e+11 -1.255022e+12  \n",
      "Net Borrowings                             1.156760e+11  3.112230e+11  \n",
      "Total Cash From Financing Activities       2.464560e+11  4.523020e+11  \n",
      "Change To Operating Activities             2.017250e+11  6.710200e+10  \n",
      "Net Income                                 4.907940e+11  7.328900e+10  \n",
      "Change In Cash                             6.243150e+11 -2.625100e+10  \n",
      "Repurchase Of Stock                       -1.980000e+08 -1.140000e+08  \n",
      "Effect Of Exchange Rate                   -5.304400e+10 -3.106100e+10  \n",
      "Total Cash From Operating Activities       1.253971e+12  8.075300e+11  \n",
      "Depreciation                               2.932810e+11  2.904160e+11  \n",
      "Other Cashflows From Investing Activities -1.204600e+10  6.646000e+09  \n",
      "Dividends Paid                            -2.849000e+10 -2.530100e+10  \n",
      "Change To Inventory                       -5.150800e+10  1.119900e+10  \n",
      "Change To Account Receivables             -8.000400e+10 -3.752900e+10  \n",
      "Other Cashflows From Financing Activities  1.594680e+11  1.664940e+11  \n",
      "Change To Netincome                        1.208270e+11  1.255590e+11  \n",
      "Capital Expenditures                      -2.629890e+11 -3.335090e+11  \n"
     ]
    }
   ],
   "source": [
    "# キャッシュフロー計算表の取得\n",
    "cashflow = ticker.cashflow\n",
    "print(cashflow)"
   ]
  },
  {
   "cell_type": "code",
   "execution_count": 23,
   "metadata": {},
   "outputs": [
    {
     "name": "stdout",
     "output_type": "stream",
     "text": [
      "{'zip': '108-0075', 'sector': 'Technology', 'fullTimeEmployees': 111700, 'longBusinessSummary': 'Sony Corporation designs, develops, produces, and sells electronic equipment, instruments, and devices for the consumer, professional, and industrial markets worldwide. The company distributes software titles and add-on content through digital networks by Sony Interactive Entertainment; network services related to game, video, and music content; and home and portable game consoles, packaged software, and peripheral devices. It also develops, produces, markets, and distributes recorded music; publishes music; and produces and distributes animation titles, game applications based on animation titles, and various services for music and visual products. In addition, the company offers live-action and animated motion pictures, as well as scripted and unscripted series, daytime serials, game shows, animated series, television movies, and miniseries and other television programs; operates a visual effects and animation unit; manages a studio facility; and operates television and digital networks. Further, it researches, develops, designs, produces, markets, distributes, sells, and services video and sound products; interchangeable lens, compact digital, and consumer and professional video cameras; display products, such as projectors and medical equipment; mobile phones, tablets, accessories, and applications; and metal oxide semiconductor image sensors, charge-coupled devices, large-scale integration systems, and other semiconductors. Additionally, it offers Internet broadband network services; creates and distributes content for various electronics product platforms, such as PCs and mobile phones; and provides life and non-life insurance, banking, and other services, as well as batteries, recording media, and storage media products. It has collaboration with The UNOPS. The company was formerly known as Tokyo Tsushin Kogyo Kabushiki Kaisha and changed its name to Sony Corporation in January 1958. The company was founded in 1946 and is headquartered in Tokyo, Japan.', 'city': 'Tokyo', 'phone': '81 3 6748 2111', 'country': 'Japan', 'companyOfficers': [], 'website': 'http://www.sony.net', 'maxAge': 1, 'address1': '1-7-1 Konan', 'industry': 'Consumer Electronics', 'address2': 'Minato-ku', 'previousClose': 10285, 'regularMarketOpen': 10300, 'twoHundredDayAverage': 8932.876, 'trailingAnnualDividendYield': 0.004861449, 'payoutRatio': 0.0668, 'volume24Hr': None, 'regularMarketDayHigh': 10400, 'navPrice': None, 'averageDailyVolume10Day': 3336157, 'totalAssets': None, 'regularMarketPreviousClose': 10285, 'fiftyDayAverage': 10273.177, 'trailingAnnualDividendRate': 50, 'open': 10300, 'toCurrency': None, 'averageVolume10days': 3336157, 'expireDate': None, 'yield': None, 'algorithm': None, 'dividendRate': 50, 'exDividendDate': 1601337600, 'beta': 0.885597, 'circulatingSupply': None, 'startDate': None, 'regularMarketDayLow': 10125, 'priceHint': 2, 'currency': 'JPY', 'trailingPE': 13.745474, 'regularMarketVolume': 4777800, 'lastMarket': None, 'maxSupply': None, 'openInterest': None, 'marketCap': 12697725829120, 'volumeAllCurrencies': None, 'strikePrice': None, 'averageVolume': 5425916, 'priceToSalesTrailing12Months': 1.5308965, 'dayLow': 10125, 'ask': 10275, 'ytdReturn': None, 'askSize': 0, 'volume': 4777800, 'fiftyTwoWeekHigh': 10860, 'forwardPE': 22.061825, 'fromCurrency': None, 'fiveYearAvgDividendYield': 0.56, 'fiftyTwoWeekLow': 5297, 'bid': 10260, 'tradeable': False, 'dividendYield': 0.0049, 'bidSize': 0, 'dayHigh': 10400, 'exchange': 'JPX', 'shortName': 'SONY CORP', 'longName': 'Sony Corporation', 'exchangeTimezoneName': 'Asia/Tokyo', 'exchangeTimezoneShortName': 'JST', 'isEsgPopulated': False, 'gmtOffSetMilliseconds': '32400000', 'quoteType': 'EQUITY', 'symbol': '6758.T', 'messageBoardId': 'finmb_23021', 'market': 'jp_market', 'annualHoldingsTurnover': None, 'enterpriseToRevenue': 1.687, 'beta3Year': None, 'profitMargins': 0.11274, 'enterpriseToEbitda': 11.512, '52WeekChange': 0.31269944, 'morningStarRiskRating': None, 'forwardEps': 465.51, 'revenueQuarterlyGrowth': None, 'sharesOutstanding': 1236390016, 'fundInceptionDate': None, 'annualReportExpenseRatio': None, 'bookValue': 4078.045, 'sharesShort': None, 'sharesPercentSharesOut': None, 'fundFamily': None, 'lastFiscalYearEnd': 1585612800, 'heldPercentInstitutions': 0.40327, 'netIncomeToCommon': 935066992640, 'trailingEps': 747.155, 'lastDividendValue': 25, 'SandP52WeekChange': 0.17603111, 'priceToBook': 2.5183637, 'heldPercentInsiders': 0.00113, 'nextFiscalYearEnd': 1648684800, 'mostRecentQuarter': 1601424000, 'shortRatio': None, 'sharesShortPreviousMonthDate': None, 'floatShares': 1217471478, 'enterpriseValue': 13993935634432, 'threeYearAverageReturn': None, 'lastSplitDate': None, 'lastSplitFactor': None, 'legalType': None, 'lastDividendDate': 1601337600, 'morningStarOverallRating': None, 'earningsQuarterlyGrowth': 1.446, 'dateShortInterest': None, 'pegRatio': None, 'lastCapGain': None, 'shortPercentOfFloat': None, 'sharesShortPriorMonth': None, 'impliedSharesOutstanding': None, 'category': None, 'fiveYearAverageReturn': None, 'regularMarketPrice': 10300, 'logo_url': 'https://logo.clearbit.com/sony.net'}\n"
     ]
    }
   ],
   "source": [
    "# 銘柄の基本情報の取得\n",
    "info = ticker.info\n",
    "print(info)"
   ]
  },
  {
   "cell_type": "code",
   "execution_count": null,
   "metadata": {},
   "outputs": [],
   "source": []
  }
 ],
 "metadata": {
  "kernelspec": {
   "display_name": "Python 3",
   "language": "python",
   "name": "python3"
  },
  "language_info": {
   "codemirror_mode": {
    "name": "ipython",
    "version": 3
   },
   "file_extension": ".py",
   "mimetype": "text/x-python",
   "name": "python",
   "nbconvert_exporter": "python",
   "pygments_lexer": "ipython3",
   "version": "3.7.4"
  }
 },
 "nbformat": 4,
 "nbformat_minor": 2
}
