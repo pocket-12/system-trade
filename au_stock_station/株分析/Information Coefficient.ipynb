{
 "cells": [
  {
   "cell_type": "markdown",
   "metadata": {},
   "source": [
    "# 投資指標について情報係数を求めてその投資指標がどれだけ役にたつか評価する(RSIについて)"
   ]
  },
  {
   "cell_type": "code",
   "execution_count": 1,
   "metadata": {},
   "outputs": [],
   "source": [
    "import pandas as pd\n",
    "import numpy as np\n",
    "from pandas_datareader import data\n",
    "import talib as ta\n",
    "import seaborn as sns\n",
    "import matplotlib.pyplot as plt\n",
    "import japanize_matplotlib\n",
    "%matplotlib inline\n",
    "\n",
    "sns.set_style(\"whitegrid\")"
   ]
  },
  {
   "cell_type": "code",
   "execution_count": 2,
   "metadata": {},
   "outputs": [],
   "source": [
    "start = '2016-01-01'\n",
    "end = '2021-01-28'\n",
    "\n",
    "dt = data.DataReader('^N225','yahoo',start,end)"
   ]
  },
  {
   "cell_type": "code",
   "execution_count": 3,
   "metadata": {},
   "outputs": [
    {
     "data": {
      "text/html": [
       "<div>\n",
       "<style scoped>\n",
       "    .dataframe tbody tr th:only-of-type {\n",
       "        vertical-align: middle;\n",
       "    }\n",
       "\n",
       "    .dataframe tbody tr th {\n",
       "        vertical-align: top;\n",
       "    }\n",
       "\n",
       "    .dataframe thead th {\n",
       "        text-align: right;\n",
       "    }\n",
       "</style>\n",
       "<table border=\"1\" class=\"dataframe\">\n",
       "  <thead>\n",
       "    <tr style=\"text-align: right;\">\n",
       "      <th></th>\n",
       "      <th>High</th>\n",
       "      <th>Low</th>\n",
       "      <th>Open</th>\n",
       "      <th>Close</th>\n",
       "      <th>Volume</th>\n",
       "      <th>Adj Close</th>\n",
       "    </tr>\n",
       "    <tr>\n",
       "      <th>Date</th>\n",
       "      <th></th>\n",
       "      <th></th>\n",
       "      <th></th>\n",
       "      <th></th>\n",
       "      <th></th>\n",
       "      <th></th>\n",
       "    </tr>\n",
       "  </thead>\n",
       "  <tbody>\n",
       "    <tr>\n",
       "      <td>2016-01-04</td>\n",
       "      <td>18951.119141</td>\n",
       "      <td>18394.429688</td>\n",
       "      <td>18818.580078</td>\n",
       "      <td>18450.980469</td>\n",
       "      <td>140200000.0</td>\n",
       "      <td>18450.980469</td>\n",
       "    </tr>\n",
       "    <tr>\n",
       "      <td>2016-01-05</td>\n",
       "      <td>18547.380859</td>\n",
       "      <td>18327.519531</td>\n",
       "      <td>18398.759766</td>\n",
       "      <td>18374.000000</td>\n",
       "      <td>132300000.0</td>\n",
       "      <td>18374.000000</td>\n",
       "    </tr>\n",
       "    <tr>\n",
       "      <td>2016-01-06</td>\n",
       "      <td>18469.380859</td>\n",
       "      <td>18064.300781</td>\n",
       "      <td>18410.570312</td>\n",
       "      <td>18191.320312</td>\n",
       "      <td>142200000.0</td>\n",
       "      <td>18191.320312</td>\n",
       "    </tr>\n",
       "    <tr>\n",
       "      <td>2016-01-07</td>\n",
       "      <td>18172.039062</td>\n",
       "      <td>17767.339844</td>\n",
       "      <td>18139.769531</td>\n",
       "      <td>17767.339844</td>\n",
       "      <td>168000000.0</td>\n",
       "      <td>17767.339844</td>\n",
       "    </tr>\n",
       "    <tr>\n",
       "      <td>2016-01-08</td>\n",
       "      <td>17975.310547</td>\n",
       "      <td>17509.640625</td>\n",
       "      <td>17562.230469</td>\n",
       "      <td>17697.960938</td>\n",
       "      <td>184300000.0</td>\n",
       "      <td>17697.960938</td>\n",
       "    </tr>\n",
       "    <tr>\n",
       "      <td>2016-01-12</td>\n",
       "      <td>17546.570312</td>\n",
       "      <td>17184.779297</td>\n",
       "      <td>17470.929688</td>\n",
       "      <td>17218.960938</td>\n",
       "      <td>178400000.0</td>\n",
       "      <td>17218.960938</td>\n",
       "    </tr>\n",
       "    <tr>\n",
       "      <td>2016-01-13</td>\n",
       "      <td>17717.750000</td>\n",
       "      <td>17414.550781</td>\n",
       "      <td>17449.119141</td>\n",
       "      <td>17715.630859</td>\n",
       "      <td>145900000.0</td>\n",
       "      <td>17715.630859</td>\n",
       "    </tr>\n",
       "    <tr>\n",
       "      <td>2016-01-14</td>\n",
       "      <td>17393.830078</td>\n",
       "      <td>16944.410156</td>\n",
       "      <td>17384.929688</td>\n",
       "      <td>17240.949219</td>\n",
       "      <td>178300000.0</td>\n",
       "      <td>17240.949219</td>\n",
       "    </tr>\n",
       "    <tr>\n",
       "      <td>2016-01-15</td>\n",
       "      <td>17597.869141</td>\n",
       "      <td>17057.599609</td>\n",
       "      <td>17522.460938</td>\n",
       "      <td>17147.109375</td>\n",
       "      <td>167800000.0</td>\n",
       "      <td>17147.109375</td>\n",
       "    </tr>\n",
       "    <tr>\n",
       "      <td>2016-01-18</td>\n",
       "      <td>17037.259766</td>\n",
       "      <td>16665.050781</td>\n",
       "      <td>16826.929688</td>\n",
       "      <td>16955.570312</td>\n",
       "      <td>157200000.0</td>\n",
       "      <td>16955.570312</td>\n",
       "    </tr>\n",
       "  </tbody>\n",
       "</table>\n",
       "</div>"
      ],
      "text/plain": [
       "                    High           Low          Open         Close  \\\n",
       "Date                                                                 \n",
       "2016-01-04  18951.119141  18394.429688  18818.580078  18450.980469   \n",
       "2016-01-05  18547.380859  18327.519531  18398.759766  18374.000000   \n",
       "2016-01-06  18469.380859  18064.300781  18410.570312  18191.320312   \n",
       "2016-01-07  18172.039062  17767.339844  18139.769531  17767.339844   \n",
       "2016-01-08  17975.310547  17509.640625  17562.230469  17697.960938   \n",
       "2016-01-12  17546.570312  17184.779297  17470.929688  17218.960938   \n",
       "2016-01-13  17717.750000  17414.550781  17449.119141  17715.630859   \n",
       "2016-01-14  17393.830078  16944.410156  17384.929688  17240.949219   \n",
       "2016-01-15  17597.869141  17057.599609  17522.460938  17147.109375   \n",
       "2016-01-18  17037.259766  16665.050781  16826.929688  16955.570312   \n",
       "\n",
       "                 Volume     Adj Close  \n",
       "Date                                   \n",
       "2016-01-04  140200000.0  18450.980469  \n",
       "2016-01-05  132300000.0  18374.000000  \n",
       "2016-01-06  142200000.0  18191.320312  \n",
       "2016-01-07  168000000.0  17767.339844  \n",
       "2016-01-08  184300000.0  17697.960938  \n",
       "2016-01-12  178400000.0  17218.960938  \n",
       "2016-01-13  145900000.0  17715.630859  \n",
       "2016-01-14  178300000.0  17240.949219  \n",
       "2016-01-15  167800000.0  17147.109375  \n",
       "2016-01-18  157200000.0  16955.570312  "
      ]
     },
     "execution_count": 3,
     "metadata": {},
     "output_type": "execute_result"
    }
   ],
   "source": [
    "dt.head(10)"
   ]
  },
  {
   "cell_type": "code",
   "execution_count": 4,
   "metadata": {},
   "outputs": [],
   "source": [
    "# RSIの計算\n",
    "close = dt['Adj Close']\n",
    "dt['RSI']=ta.RSI(close,timeperiod=14)"
   ]
  },
  {
   "cell_type": "code",
   "execution_count": 5,
   "metadata": {},
   "outputs": [
    {
     "data": {
      "text/html": [
       "<div>\n",
       "<style scoped>\n",
       "    .dataframe tbody tr th:only-of-type {\n",
       "        vertical-align: middle;\n",
       "    }\n",
       "\n",
       "    .dataframe tbody tr th {\n",
       "        vertical-align: top;\n",
       "    }\n",
       "\n",
       "    .dataframe thead th {\n",
       "        text-align: right;\n",
       "    }\n",
       "</style>\n",
       "<table border=\"1\" class=\"dataframe\">\n",
       "  <thead>\n",
       "    <tr style=\"text-align: right;\">\n",
       "      <th></th>\n",
       "      <th>High</th>\n",
       "      <th>Low</th>\n",
       "      <th>Open</th>\n",
       "      <th>Close</th>\n",
       "      <th>Volume</th>\n",
       "      <th>Adj Close</th>\n",
       "      <th>RSI</th>\n",
       "    </tr>\n",
       "    <tr>\n",
       "      <th>Date</th>\n",
       "      <th></th>\n",
       "      <th></th>\n",
       "      <th></th>\n",
       "      <th></th>\n",
       "      <th></th>\n",
       "      <th></th>\n",
       "      <th></th>\n",
       "    </tr>\n",
       "  </thead>\n",
       "  <tbody>\n",
       "    <tr>\n",
       "      <td>2021-01-22</td>\n",
       "      <td>28698.179688</td>\n",
       "      <td>28527.160156</td>\n",
       "      <td>28580.199219</td>\n",
       "      <td>28631.449219</td>\n",
       "      <td>66900000.0</td>\n",
       "      <td>28631.449219</td>\n",
       "      <td>70.720734</td>\n",
       "    </tr>\n",
       "    <tr>\n",
       "      <td>2021-01-25</td>\n",
       "      <td>28822.289062</td>\n",
       "      <td>28566.849609</td>\n",
       "      <td>28698.890625</td>\n",
       "      <td>28822.289062</td>\n",
       "      <td>57300000.0</td>\n",
       "      <td>28822.289062</td>\n",
       "      <td>72.783933</td>\n",
       "    </tr>\n",
       "    <tr>\n",
       "      <td>2021-01-26</td>\n",
       "      <td>28740.710938</td>\n",
       "      <td>28527.810547</td>\n",
       "      <td>28696.300781</td>\n",
       "      <td>28546.179688</td>\n",
       "      <td>63500000.0</td>\n",
       "      <td>28546.179688</td>\n",
       "      <td>65.583293</td>\n",
       "    </tr>\n",
       "    <tr>\n",
       "      <td>2021-01-27</td>\n",
       "      <td>28754.990234</td>\n",
       "      <td>28542.000000</td>\n",
       "      <td>28665.339844</td>\n",
       "      <td>28635.210938</td>\n",
       "      <td>69000000.0</td>\n",
       "      <td>28635.210938</td>\n",
       "      <td>66.726386</td>\n",
       "    </tr>\n",
       "    <tr>\n",
       "      <td>2021-01-28</td>\n",
       "      <td>28360.480469</td>\n",
       "      <td>27975.849609</td>\n",
       "      <td>28169.269531</td>\n",
       "      <td>28197.419922</td>\n",
       "      <td>123900000.0</td>\n",
       "      <td>28197.419922</td>\n",
       "      <td>56.745820</td>\n",
       "    </tr>\n",
       "  </tbody>\n",
       "</table>\n",
       "</div>"
      ],
      "text/plain": [
       "                    High           Low          Open         Close  \\\n",
       "Date                                                                 \n",
       "2021-01-22  28698.179688  28527.160156  28580.199219  28631.449219   \n",
       "2021-01-25  28822.289062  28566.849609  28698.890625  28822.289062   \n",
       "2021-01-26  28740.710938  28527.810547  28696.300781  28546.179688   \n",
       "2021-01-27  28754.990234  28542.000000  28665.339844  28635.210938   \n",
       "2021-01-28  28360.480469  27975.849609  28169.269531  28197.419922   \n",
       "\n",
       "                 Volume     Adj Close        RSI  \n",
       "Date                                              \n",
       "2021-01-22   66900000.0  28631.449219  70.720734  \n",
       "2021-01-25   57300000.0  28822.289062  72.783933  \n",
       "2021-01-26   63500000.0  28546.179688  65.583293  \n",
       "2021-01-27   69000000.0  28635.210938  66.726386  \n",
       "2021-01-28  123900000.0  28197.419922  56.745820  "
      ]
     },
     "execution_count": 5,
     "metadata": {},
     "output_type": "execute_result"
    }
   ],
   "source": [
    "dt.tail()"
   ]
  },
  {
   "cell_type": "code",
   "execution_count": 6,
   "metadata": {},
   "outputs": [],
   "source": [
    "dt['daily return']=close.pct_change()"
   ]
  },
  {
   "cell_type": "code",
   "execution_count": 7,
   "metadata": {},
   "outputs": [
    {
     "data": {
      "text/html": [
       "<div>\n",
       "<style scoped>\n",
       "    .dataframe tbody tr th:only-of-type {\n",
       "        vertical-align: middle;\n",
       "    }\n",
       "\n",
       "    .dataframe tbody tr th {\n",
       "        vertical-align: top;\n",
       "    }\n",
       "\n",
       "    .dataframe thead th {\n",
       "        text-align: right;\n",
       "    }\n",
       "</style>\n",
       "<table border=\"1\" class=\"dataframe\">\n",
       "  <thead>\n",
       "    <tr style=\"text-align: right;\">\n",
       "      <th></th>\n",
       "      <th>High</th>\n",
       "      <th>Low</th>\n",
       "      <th>Open</th>\n",
       "      <th>Close</th>\n",
       "      <th>Volume</th>\n",
       "      <th>Adj Close</th>\n",
       "      <th>RSI</th>\n",
       "      <th>daily return</th>\n",
       "    </tr>\n",
       "    <tr>\n",
       "      <th>Date</th>\n",
       "      <th></th>\n",
       "      <th></th>\n",
       "      <th></th>\n",
       "      <th></th>\n",
       "      <th></th>\n",
       "      <th></th>\n",
       "      <th></th>\n",
       "      <th></th>\n",
       "    </tr>\n",
       "  </thead>\n",
       "  <tbody>\n",
       "    <tr>\n",
       "      <td>2021-01-22</td>\n",
       "      <td>28698.179688</td>\n",
       "      <td>28527.160156</td>\n",
       "      <td>28580.199219</td>\n",
       "      <td>28631.449219</td>\n",
       "      <td>66900000.0</td>\n",
       "      <td>28631.449219</td>\n",
       "      <td>70.720734</td>\n",
       "      <td>-0.004361</td>\n",
       "    </tr>\n",
       "    <tr>\n",
       "      <td>2021-01-25</td>\n",
       "      <td>28822.289062</td>\n",
       "      <td>28566.849609</td>\n",
       "      <td>28698.890625</td>\n",
       "      <td>28822.289062</td>\n",
       "      <td>57300000.0</td>\n",
       "      <td>28822.289062</td>\n",
       "      <td>72.783933</td>\n",
       "      <td>0.006665</td>\n",
       "    </tr>\n",
       "    <tr>\n",
       "      <td>2021-01-26</td>\n",
       "      <td>28740.710938</td>\n",
       "      <td>28527.810547</td>\n",
       "      <td>28696.300781</td>\n",
       "      <td>28546.179688</td>\n",
       "      <td>63500000.0</td>\n",
       "      <td>28546.179688</td>\n",
       "      <td>65.583293</td>\n",
       "      <td>-0.009580</td>\n",
       "    </tr>\n",
       "    <tr>\n",
       "      <td>2021-01-27</td>\n",
       "      <td>28754.990234</td>\n",
       "      <td>28542.000000</td>\n",
       "      <td>28665.339844</td>\n",
       "      <td>28635.210938</td>\n",
       "      <td>69000000.0</td>\n",
       "      <td>28635.210938</td>\n",
       "      <td>66.726386</td>\n",
       "      <td>0.003119</td>\n",
       "    </tr>\n",
       "    <tr>\n",
       "      <td>2021-01-28</td>\n",
       "      <td>28360.480469</td>\n",
       "      <td>27975.849609</td>\n",
       "      <td>28169.269531</td>\n",
       "      <td>28197.419922</td>\n",
       "      <td>123900000.0</td>\n",
       "      <td>28197.419922</td>\n",
       "      <td>56.745820</td>\n",
       "      <td>-0.015289</td>\n",
       "    </tr>\n",
       "  </tbody>\n",
       "</table>\n",
       "</div>"
      ],
      "text/plain": [
       "                    High           Low          Open         Close  \\\n",
       "Date                                                                 \n",
       "2021-01-22  28698.179688  28527.160156  28580.199219  28631.449219   \n",
       "2021-01-25  28822.289062  28566.849609  28698.890625  28822.289062   \n",
       "2021-01-26  28740.710938  28527.810547  28696.300781  28546.179688   \n",
       "2021-01-27  28754.990234  28542.000000  28665.339844  28635.210938   \n",
       "2021-01-28  28360.480469  27975.849609  28169.269531  28197.419922   \n",
       "\n",
       "                 Volume     Adj Close        RSI  daily return  \n",
       "Date                                                            \n",
       "2021-01-22   66900000.0  28631.449219  70.720734     -0.004361  \n",
       "2021-01-25   57300000.0  28822.289062  72.783933      0.006665  \n",
       "2021-01-26   63500000.0  28546.179688  65.583293     -0.009580  \n",
       "2021-01-27   69000000.0  28635.210938  66.726386      0.003119  \n",
       "2021-01-28  123900000.0  28197.419922  56.745820     -0.015289  "
      ]
     },
     "execution_count": 7,
     "metadata": {},
     "output_type": "execute_result"
    }
   ],
   "source": [
    "dt.tail()"
   ]
  },
  {
   "cell_type": "code",
   "execution_count": 8,
   "metadata": {},
   "outputs": [
    {
     "data": {
      "text/plain": [
       "1225"
      ]
     },
     "execution_count": 8,
     "metadata": {},
     "output_type": "execute_result"
    }
   ],
   "source": [
    "X = dt['RSI'][15:]\n",
    "Y = dt['daily return'][14:-1]\n",
    "len(Y)"
   ]
  },
  {
   "cell_type": "code",
   "execution_count": 15,
   "metadata": {},
   "outputs": [
    {
     "data": {
      "text/plain": [
       "Text(0, 0.5, 'Daily return')"
      ]
     },
     "execution_count": 15,
     "metadata": {},
     "output_type": "execute_result"
    },
    {
     "data": {
      "image/png": "[encoded data removed]",
      "text/plain": [
       "<Figure size 432x288 with 1 Axes>"
      ]
     },
     "metadata": {
      "needs_background": "light"
     },
     "output_type": "display_data"
    }
   ],
   "source": [
    "plt.scatter(X,Y)\n",
    "plt.title(\"Information Coffiecient\",fontsize=16)\n",
    "plt.xlabel(\"RSI\",fontsize=13)\n",
    "plt.ylabel(\"Daily return\",fontsize=13)"
   ]
  },
  {
   "cell_type": "code",
   "execution_count": 16,
   "metadata": {},
   "outputs": [],
   "source": [
    "from sklearn.linear_model import LinearRegression"
   ]
  },
  {
   "cell_type": "code",
   "execution_count": 38,
   "metadata": {},
   "outputs": [
    {
     "data": {
      "text/plain": [
       "[<matplotlib.lines.Line2D at 0x7ff2e0c72dd0>]"
      ]
     },
     "execution_count": 38,
     "metadata": {},
     "output_type": "execute_result"
    },
    {
     "data": {
      "image/png": "[encoded data removed]",
      "text/plain": [
       "<Figure size 432x288 with 1 Axes>"
      ]
     },
     "metadata": {
      "needs_background": "light"
     },
     "output_type": "display_data"
    }
   ],
   "source": [
    "mod = LinearRegression()\n",
    "x = pd.DataFrame(X)\n",
    "y = pd.DataFrame(Y)\n",
    "\n",
    "mod_lin = mod.fit(x,y)\n",
    "y_lin_fit = mod_lin.predict(x)\n",
    "coef = mod_lin.coef_\n",
    "\n",
    "plt.scatter(X,Y)\n",
    "plt.title(\"Information Coffiecient\",fontsize=16)\n",
    "plt.xlabel(\"RSI\",fontsize=13)\n",
    "plt.ylabel(\"Daily return\",fontsize=13)\n",
    "plt.text(70,-0.05,'coefficient='+str(np.round(coef,4)))\n",
    "plt.plot(x,y_lin_fit,color='red',linewidth=0.5)"
   ]
  },
  {
   "cell_type": "markdown",
   "metadata": {},
   "source": [
    "### 情報係数は0.0003\n",
    "##### 情報係数(IC)は0.05以上あれば優秀らしいのでRSIのみを投資指標として使うのはほとんど役に立たないことがわかる"
   ]
  },
  {
   "cell_type": "code",
   "execution_count": null,
   "metadata": {},
   "outputs": [],
   "source": []
  }
 ],
 "metadata": {
  "kernelspec": {
   "display_name": "Python 3",
   "language": "python",
   "name": "python3"
  },
  "language_info": {
   "codemirror_mode": {
    "name": "ipython",
    "version": 3
   },
   "file_extension": ".py",
   "mimetype": "text/x-python",
   "name": "python",
   "nbconvert_exporter": "python",
   "pygments_lexer": "ipython3",
   "version": "3.7.4"
  }
 },
 "nbformat": 4,
 "nbformat_minor": 2
}
