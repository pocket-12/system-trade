{
 "cells": [
  {
   "cell_type": "markdown",
   "metadata": {},
   "source": [
    "# Yahoo financeから企業の財務諸表データを取得"
   ]
  },
  {
   "cell_type": "code",
   "execution_count": 2,
   "metadata": {},
   "outputs": [],
   "source": [
    "# pip install yfinance\n",
    "import yfinance as yf"
   ]
  },
  {
   "cell_type": "markdown",
   "metadata": {},
   "source": [
    "### yfinaceにはバグがあり、そのままでは財務諸表データを取得できない\n",
    "### yfinance/base.py の 353行あたりの\n",
    "### data = utils.get_json(url+'/financials', proxy)　を\n",
    "## url = \"{}/{}/financials\".format(self._scrape_url,self,tickers)\n",
    "## data = utils.get_json(url, proxy) に変更することで財務諸表データを取得できる"
   ]
  },
  {
   "cell_type": "code",
   "execution_count": 3,
   "metadata": {},
   "outputs": [
    {
     "name": "stdout",
     "output_type": "stream",
     "text": [
      "                    Open          High           Low         Close   Volume  \\\n",
      "Date                                                                          \n",
      "2000-01-04  12704.373219  13657.201210   4213.617118  13000.808594  8794200   \n",
      "2000-01-05  11730.376953  11730.376953  11730.376953  11730.376953  2073200   \n",
      "2000-01-06  11476.288987  11539.810881  10883.417969  10883.417969  9919800   \n",
      "2000-01-07  10036.459961  10205.851690  10036.459961  10036.459961  9360200   \n",
      "2000-01-10  10036.459961  10036.459961  10036.459961  10036.459961        0   \n",
      "...                  ...           ...           ...           ...      ...   \n",
      "2021-01-22  10470.000000  10510.000000  10385.000000  10480.000000  3683800   \n",
      "2021-01-25  10460.000000  10490.000000  10155.000000  10300.000000  5221700   \n",
      "2021-01-26  10250.000000  10340.000000  10160.000000  10285.000000  3810700   \n",
      "2021-01-27  10300.000000  10400.000000  10125.000000  10270.000000  4777800   \n",
      "2021-01-28   9950.000000  10075.000000   9915.000000  10035.000000  6602500   \n",
      "\n",
      "            Dividends  Stock Splits  \n",
      "Date                                 \n",
      "2000-01-04        0.0             0  \n",
      "2000-01-05        0.0             0  \n",
      "2000-01-06        0.0             0  \n",
      "2000-01-07        0.0             0  \n",
      "2000-01-10        0.0             0  \n",
      "...               ...           ...  \n",
      "2021-01-22        0.0             0  \n",
      "2021-01-25        0.0             0  \n",
      "2021-01-26        0.0             0  \n",
      "2021-01-27        0.0             0  \n",
      "2021-01-28        0.0             0  \n",
      "\n",
      "[5273 rows x 7 columns]\n"
     ]
    }
   ],
   "source": [
    "# tickerでデータを取得したい企業の証券コードを指定\n",
    "# ここではSony(6758)を選択\n",
    "# なぜ末尾に.Tが必要なのかはわかんない\n",
    "ticker = yf.Ticker(\"6758.T\")\n",
    "\n",
    "# 株価のヒストリカルデータを取得\n",
    "hist = ticker.history(period=\"max\")\n",
    "print(hist)"
   ]
  },
  {
   "cell_type": "code",
   "execution_count": 4,
   "metadata": {},
   "outputs": [
    {
     "name": "stdout",
     "output_type": "stream",
     "text": [
      "Empty DataFrame\n",
      "Columns: [Open, High, Low, Close, Adj Close, Volume]\n",
      "Index: []\n"
     ]
    }
   ],
   "source": [
    "# 損益計算表 およそ過去3年分のデータを取得できる\n",
    "# 返り値はpandas DataFrame\n",
    "financials = ticker.financials\n",
    "print(financials)"
   ]
  },
  {
   "cell_type": "markdown",
   "metadata": {},
   "source": [
    "## 損益計算表のうち大事そうなもの\n",
    "### Total Revenue(売上高)\n",
    "### Operating Income(営業利益)\n",
    "### Net Income(当期純利益)"
   ]
  },
  {
   "cell_type": "code",
   "execution_count": null,
   "metadata": {},
   "outputs": [],
   "source": [
    "financials.index"
   ]
  },
  {
   "cell_type": "code",
   "execution_count": null,
   "metadata": {},
   "outputs": [],
   "source": [
    "T_Revenue = financials.loc['Total Revenue']\n",
    "T_Revenue"
   ]
  },
  {
   "cell_type": "code",
   "execution_count": null,
   "metadata": {},
   "outputs": [],
   "source": [
    "# 賃借対照表(バランスシート)の取得\n",
    "balance_sheet = ticker.balance_sheet\n",
    "print(balance_sheet)"
   ]
  },
  {
   "cell_type": "code",
   "execution_count": null,
   "metadata": {},
   "outputs": [],
   "source": [
    "# キャッシュフロー計算表の取得\n",
    "cashflow = ticker.cashflow\n",
    "print(cashflow)"
   ]
  },
  {
   "cell_type": "code",
   "execution_count": null,
   "metadata": {},
   "outputs": [],
   "source": [
    "# 銘柄の基本情報の取得\n",
    "info = ticker.info\n",
    "print(info)"
   ]
  },
  {
   "cell_type": "code",
   "execution_count": null,
   "metadata": {},
   "outputs": [],
   "source": []
  }
 ],
 "metadata": {
  "kernelspec": {
   "display_name": "Python 3",
   "language": "python",
   "name": "python3"
  },
  "language_info": {
   "codemirror_mode": {
    "name": "ipython",
    "version": 3
   },
   "file_extension": ".py",
   "mimetype": "text/x-python",
   "name": "python",
   "nbconvert_exporter": "python",
   "pygments_lexer": "ipython3",
   "version": "3.8.3"
  }
 },
 "nbformat": 4,
 "nbformat_minor": 2
}
