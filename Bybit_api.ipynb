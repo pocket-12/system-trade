{
 "cells": [
  {
   "cell_type": "code",
   "execution_count": 15,
   "id": "aecb0095",
   "metadata": {},
   "outputs": [],
   "source": [
    "# Bybitが提供している公式のライブラリを用いる\n",
    "# 使い方は以下のURL参照\n",
    "# https://bybit-exchange.github.io/docs/linear/#t-constructingtherequest\n",
    "import bybit\n",
    "from datetime import datetime\n",
    "import matplotlib.pyplot as plt\n",
    "import plotly.graph_objs as go\n",
    "import pandas as pd\n",
    "\n",
    "%matplotlib inline"
   ]
  },
  {
   "cell_type": "code",
   "execution_count": 16,
   "id": "d08c3ca2",
   "metadata": {},
   "outputs": [],
   "source": [
    "# Bybit API Key (test net)\n",
    "api_key = \"your api \"\n",
    "api_secret = \"your secret key\"\n",
    "\n",
    "\n",
    "# クラスのインスタンス化\n",
    "# Bybitにはdemo用のtest環境と取引用の本番環境の2種類があり、それぞれでAPI_keyが異なる\n",
    "# test = Trueにすることでdemo用環境を指定できる\n",
    "\n",
    "client = bybit.bybit(test=True, api_key = api_key, api_secret = api_secret)"
   ]
  },
  {
   "cell_type": "code",
   "execution_count": 17,
   "id": "e20cae4f",
   "metadata": {},
   "outputs": [
    {
     "name": "stdout",
     "output_type": "stream",
     "text": [
      "1630422000.0\n"
     ]
    }
   ],
   "source": [
    "# ローソク足データを取得する 取得できるのは一度に最大200件まで\n",
    "# 取得したいデータの期間 ここで指定した日時から最大200件のローソク足データが手に入る\n",
    "date_str = '2021/9/1 00:00'\n",
    "date_dt = datetime.strptime(date_str, '%Y/%m/%d %H:%M')\n",
    "target_unix = date_dt.timestamp()\n",
    "print(target_unix)"
   ]
  },
  {
   "cell_type": "code",
   "execution_count": 18,
   "id": "756ddc04",
   "metadata": {},
   "outputs": [],
   "source": [
    "# ローソク足の時間足はintervalで指定 60 = 1時間足\n",
    "# 1時間足以外に1分足から日足 月足 色々ある　詳細は公式github参照\n",
    "# 取得したいデータの期間をunix時間で指定しないといけないことがやや面倒\n",
    "\n",
    "Historical_data = client.LinearKline.LinearKline_get(\n",
    "    symbol=\"BTCUSDT\",interval=\"60\", **{'from': target_unix}).result()"
   ]
  },
  {
   "cell_type": "code",
   "execution_count": 19,
   "id": "cfacd0ea",
   "metadata": {},
   "outputs": [
    {
     "name": "stdout",
     "output_type": "stream",
     "text": [
      "({'ret_code': 0, 'ret_msg': 'OK', 'ext_code': '', 'ext_info': '', 'result': [{'id': 21990413, 'symbol': 'BTCUSDT', 'period': '60', 'interval': '60', 'start_at': 1630422000, 'open_time': 1630422000, 'volume': 124.369, 'open': 47256, 'high': 47484.5, 'low': 47242, 'close': 47443, 'turnover': 5900438.467}, {'id': 21992919, 'symbol': 'BTCUSDT', 'period': '60', 'interval': '60', 'start_at': 1630425600, 'open_time': 1630425600, 'volume': 165.491, 'open': 47443, 'high': 47580, 'low': 47323.5, 'close': 47387, 'turnover': 7842122.017}, {'id': 21995430, 'symbol': 'BTCUSDT', 'period': '60', 'interval': '60', 'start_at': 1630429200, 'open_time': 1630429200, 'volume': 116.118, 'open': 47387, 'high': 47439.5, 'low': 47079.5, 'close': 47145.5, 'turnover': 5474441.169}, {'id': 21997918, 'symbol': 'BTCUSDT', 'period': '60', 'interval': '60', 'start_at': 1630432800, 'open_time': 1630432800, 'volume': 202.217, 'open': 47145.5, 'high': 47399.5, 'low': 47083.5, 'close': 47350.5, 'turnover': 9575076.0585}, {'id': 22000452, 'symbol': 'BTCUSDT', 'period': '60', 'interval': '60', 'start_at': 1630436400, 'open_time': 1630436400, 'volume': 74.082, 'open': 47350.5, 'high': 47399.5, 'low': 47249.5, 'close': 47352.5, 'turnover': 3507967.905}, {'id': 22002941, 'symbol': 'BTCUSDT', 'period': '60', 'interval': '60', 'start_at': 1630440000, 'open_time': 1630440000, 'volume': 111.585, 'open': 47352.5, 'high': 47352.5, 'low': 46967, 'close': 47025.5, 'turnover': 5247340.4175}, {'id': 22005454, 'symbol': 'BTCUSDT', 'period': '60', 'interval': '60', 'start_at': 1630443600, 'open_time': 1630443600, 'volume': 55.727, 'open': 47025.5, 'high': 47233, 'low': 46919.5, 'close': 47020, 'turnover': 2620283.54}, {'id': 22007954, 'symbol': 'BTCUSDT', 'period': '60', 'interval': '60', 'start_at': 1630447200, 'open_time': 1630447200, 'volume': 112.031, 'open': 47020, 'high': 47119, 'low': 46822.5, 'close': 47106, 'turnover': 5277332.286}, {'id': 22010448, 'symbol': 'BTCUSDT', 'period': '60', 'interval': '60', 'start_at': 1630450800, 'open_time': 1630450800, 'volume': 241.066, 'open': 47106, 'high': 48300, 'low': 47039, 'close': 47172.5, 'turnover': 11371685.885}, {'id': 22012889, 'symbol': 'BTCUSDT', 'period': '60', 'interval': '60', 'start_at': 1630454400, 'open_time': 1630454400, 'volume': 146.32, 'open': 47172.5, 'high': 47328.5, 'low': 46750, 'close': 46782.5, 'turnover': 6845215.4}, {'id': 22015566, 'symbol': 'BTCUSDT', 'period': '60', 'interval': '60', 'start_at': 1630458000, 'open_time': 1630458000, 'volume': 422.024, 'open': 46782.5, 'high': 46872, 'low': 46545, 'close': 46869, 'turnover': 19779842.856}, {'id': 22018049, 'symbol': 'BTCUSDT', 'period': '60', 'interval': '60', 'start_at': 1630461600, 'open_time': 1630461600, 'volume': 340.719, 'open': 46869, 'high': 47088, 'low': 46769.5, 'close': 46913.5, 'turnover': 15984320.8065}, {'id': 22020542, 'symbol': 'BTCUSDT', 'period': '60', 'interval': '60', 'start_at': 1630465200, 'open_time': 1630465200, 'volume': 214.724, 'open': 46913.5, 'high': 47008.5, 'low': 46759.5, 'close': 47008, 'turnover': 10093745.792}, {'id': 22023048, 'symbol': 'BTCUSDT', 'period': '60', 'interval': '60', 'start_at': 1630468800, 'open_time': 1630468800, 'volume': 117.001, 'open': 47008, 'high': 47248, 'low': 47008, 'close': 47154.5, 'turnover': 5517123.6545}, {'id': 22025533, 'symbol': 'BTCUSDT', 'period': '60', 'interval': '60', 'start_at': 1630472400, 'open_time': 1630472400, 'volume': 131.056, 'open': 47154.5, 'high': 47455.5, 'low': 47154.5, 'close': 47402.5, 'turnover': 6212382.04}, {'id': 22028047, 'symbol': 'BTCUSDT', 'period': '60', 'interval': '60', 'start_at': 1630476000, 'open_time': 1630476000, 'volume': 181.569, 'open': 47402.5, 'high': 47488.5, 'low': 47248.5, 'close': 47338, 'turnover': 8595113.322}, {'id': 22030575, 'symbol': 'BTCUSDT', 'period': '60', 'interval': '60', 'start_at': 1630479600, 'open_time': 1630479600, 'volume': 137.303, 'open': 47338, 'high': 47448.5, 'low': 47128.5, 'close': 47195, 'turnover': 6480015.085}, {'id': 22033063, 'symbol': 'BTCUSDT', 'period': '60', 'interval': '60', 'start_at': 1630483200, 'open_time': 1630483200, 'volume': 145.923, 'open': 47195, 'high': 47408.5, 'low': 47152, 'close': 47385.5, 'turnover': 6914634.3165}, {'id': 22035571, 'symbol': 'BTCUSDT', 'period': '60', 'interval': '60', 'start_at': 1630486800, 'open_time': 1630486800, 'volume': 132.856, 'open': 47385.5, 'high': 47699.5, 'low': 47368.5, 'close': 47683.5, 'turnover': 6335039.076}, {'id': 22038076, 'symbol': 'BTCUSDT', 'period': '60', 'interval': '60', 'start_at': 1630490400, 'open_time': 1630490400, 'volume': 360.376, 'open': 47683.5, 'high': 47757, 'low': 47549.5, 'close': 47549.5, 'turnover': 17135698.612}, {'id': 22040573, 'symbol': 'BTCUSDT', 'period': '60', 'interval': '60', 'start_at': 1630494000, 'open_time': 1630494000, 'volume': 244.893, 'open': 47549.5, 'high': 47755, 'low': 47549.5, 'close': 47749.5, 'turnover': 11693518.3035}, {'id': 22043070, 'symbol': 'BTCUSDT', 'period': '60', 'interval': '60', 'start_at': 1630497600, 'open_time': 1630497600, 'volume': 193.174, 'open': 47749.5, 'high': 48300, 'low': 47666.5, 'close': 47747, 'turnover': 9223478.978}, {'id': 22045618, 'symbol': 'BTCUSDT', 'period': '60', 'interval': '60', 'start_at': 1630501200, 'open_time': 1630501200, 'volume': 190.944, 'open': 47747, 'high': 47785, 'low': 47437.5, 'close': 47500.5, 'turnover': 9069935.472}, {'id': 22048122, 'symbol': 'BTCUSDT', 'period': '60', 'interval': '60', 'start_at': 1630504800, 'open_time': 1630504800, 'volume': 257.989, 'open': 47500.5, 'high': 47661.5, 'low': 47309.5, 'close': 47341.5, 'turnover': 12213586.2435}, {'id': 22050617, 'symbol': 'BTCUSDT', 'period': '60', 'interval': '60', 'start_at': 1630508400, 'open_time': 1630508400, 'volume': 359.127, 'open': 47341.5, 'high': 47546, 'low': 47341.5, 'close': 47531, 'turnover': 17069665.437}, {'id': 22053124, 'symbol': 'BTCUSDT', 'period': '60', 'interval': '60', 'start_at': 1630512000, 'open_time': 1630512000, 'volume': 404.436, 'open': 47531, 'high': 48630, 'low': 47460, 'close': 48461.5, 'turnover': 19599575.214}, {'id': 22055630, 'symbol': 'BTCUSDT', 'period': '60', 'interval': '60', 'start_at': 1630515600, 'open_time': 1630515600, 'volume': 414.062, 'open': 48461.5, 'high': 49109.5, 'low': 46596, 'close': 48784, 'turnover': 20199600.608}, {'id': 22058122, 'symbol': 'BTCUSDT', 'period': '60', 'interval': '60', 'start_at': 1630519200, 'open_time': 1630519200, 'volume': 68.767, 'open': 48784, 'high': 48906, 'low': 48705, 'close': 48720, 'turnover': 3350328.24}, {'id': 22060656, 'symbol': 'BTCUSDT', 'period': '60', 'interval': '60', 'start_at': 1630522800, 'open_time': 1630522800, 'volume': 129.533, 'open': 48720, 'high': 48739.5, 'low': 48100, 'close': 48226.5, 'turnover': 6246923.2245}, {'id': 22063139, 'symbol': 'BTCUSDT', 'period': '60', 'interval': '60', 'start_at': 1630526400, 'open_time': 1630526400, 'volume': 104.555, 'open': 48226.5, 'high': 48300, 'low': 48205, 'close': 48292, 'turnover': 5049170.06}, {'id': 22065653, 'symbol': 'BTCUSDT', 'period': '60', 'interval': '60', 'start_at': 1630530000, 'open_time': 1630530000, 'volume': 427.923, 'open': 48292, 'high': 48551.5, 'low': 48284.5, 'close': 48454, 'turnover': 20734581.042}, {'id': 22068151, 'symbol': 'BTCUSDT', 'period': '60', 'interval': '60', 'start_at': 1630533600, 'open_time': 1630533600, 'volume': 175.494, 'open': 48454, 'high': 48758.5, 'low': 48313, 'close': 48462.5, 'turnover': 8504877.975}, {'id': 22070648, 'symbol': 'BTCUSDT', 'period': '60', 'interval': '60', 'start_at': 1630537200, 'open_time': 1630537200, 'volume': 217.703, 'open': 48462.5, 'high': 48906, 'low': 48436, 'close': 48865, 'turnover': 10638057.095}, {'id': 22073149, 'symbol': 'BTCUSDT', 'period': '60', 'interval': '60', 'start_at': 1630540800, 'open_time': 1630540800, 'volume': 339.124, 'open': 48865, 'high': 48993, 'low': 48309, 'close': 48816, 'turnover': 16554677.184}, {'id': 22075743, 'symbol': 'BTCUSDT', 'period': '60', 'interval': '60', 'start_at': 1630544400, 'open_time': 1630544400, 'volume': 678.956, 'open': 48816, 'high': 51500, 'low': 48717, 'close': 49760.5, 'turnover': 33785190.038}, {'id': 22078221, 'symbol': 'BTCUSDT', 'period': '60', 'interval': '60', 'start_at': 1630548000, 'open_time': 1630548000, 'volume': 831.178, 'open': 49760.5, 'high': 52500, 'low': 48481.5, 'close': 49656.5, 'turnover': 41273390.357}, {'id': 22080718, 'symbol': 'BTCUSDT', 'period': '60', 'interval': '60', 'start_at': 1630551600, 'open_time': 1630551600, 'volume': 60.619, 'open': 49656.5, 'high': 49694, 'low': 49643.5, 'close': 49644.5, 'turnover': 3009399.9455}, {'id': 22083186, 'symbol': 'BTCUSDT', 'period': '60', 'interval': '60', 'start_at': 1630555200, 'open_time': 1630555200, 'volume': 128.979, 'open': 49644.5, 'high': 49683.5, 'low': 49408.5, 'close': 49444.5, 'turnover': 6377302.1655}, {'id': 22085736, 'symbol': 'BTCUSDT', 'period': '60', 'interval': '60', 'start_at': 1630558800, 'open_time': 1630558800, 'volume': 67.371, 'open': 49444.5, 'high': 49707, 'low': 49444.5, 'close': 49480.5, 'turnover': 3333550.7655}, {'id': 22088219, 'symbol': 'BTCUSDT', 'period': '60', 'interval': '60', 'start_at': 1630562400, 'open_time': 1630562400, 'volume': 169.551, 'open': 49480.5, 'high': 50038, 'low': 49470, 'close': 49958, 'turnover': 8470428.858}, {'id': 22090757, 'symbol': 'BTCUSDT', 'period': '60', 'interval': '60', 'start_at': 1630566000, 'open_time': 1630566000, 'volume': 470.14, 'open': 49958, 'high': 50397.5, 'low': 49800, 'close': 49904.5, 'turnover': 23462101.63}, {'id': 22093237, 'symbol': 'BTCUSDT', 'period': '60', 'interval': '60', 'start_at': 1630569600, 'open_time': 1630569600, 'volume': 205.212, 'open': 49904.5, 'high': 50246.5, 'low': 49843.5, 'close': 50132.5, 'turnover': 10287790.59}, {'id': 22095757, 'symbol': 'BTCUSDT', 'period': '60', 'interval': '60', 'start_at': 1630573200, 'open_time': 1630573200, 'volume': 157.291, 'open': 50132.5, 'high': 50175, 'low': 49793.5, 'close': 49862, 'turnover': 7842843.842}, {'id': 22098233, 'symbol': 'BTCUSDT', 'period': '60', 'interval': '60', 'start_at': 1630576800, 'open_time': 1630576800, 'volume': 241.161, 'open': 49862, 'high': 50149.5, 'low': 49790.5, 'close': 50092, 'turnover': 12080236.812}, {'id': 22100749, 'symbol': 'BTCUSDT', 'period': '60', 'interval': '60', 'start_at': 1630580400, 'open_time': 1630580400, 'volume': 260.406, 'open': 50092, 'high': 50223.5, 'low': 49938, 'close': 50152.5, 'turnover': 13060011.915}, {'id': 22103242, 'symbol': 'BTCUSDT', 'period': '60', 'interval': '60', 'start_at': 1630584000, 'open_time': 1630584000, 'volume': 391.505, 'open': 50152.5, 'high': 50300, 'low': 49800, 'close': 50080.5, 'turnover': 19606766.1525}, {'id': 22105814, 'symbol': 'BTCUSDT', 'period': '60', 'interval': '60', 'start_at': 1630587600, 'open_time': 1630587600, 'volume': 306.838, 'open': 50080.5, 'high': 50242.5, 'low': 50022.5, 'close': 50180, 'turnover': 15397130.84}, {'id': 22108279, 'symbol': 'BTCUSDT', 'period': '60', 'interval': '60', 'start_at': 1630591200, 'open_time': 1630591200, 'volume': 581.728, 'open': 50180, 'high': 50418.5, 'low': 49507, 'close': 49576.5, 'turnover': 28840038.192}, {'id': 22110796, 'symbol': 'BTCUSDT', 'period': '60', 'interval': '60', 'start_at': 1630594800, 'open_time': 1630594800, 'volume': 371.245, 'open': 49576.5, 'high': 49792.5, 'low': 49334.5, 'close': 49611, 'turnover': 18417835.695}, {'id': 22113265, 'symbol': 'BTCUSDT', 'period': '60', 'interval': '60', 'start_at': 1630598400, 'open_time': 1630598400, 'volume': 95.629, 'open': 49611, 'high': 49793, 'low': 49519.5, 'close': 49631.5, 'turnover': 4746210.7135}, {'id': 22115812, 'symbol': 'BTCUSDT', 'period': '60', 'interval': '60', 'start_at': 1630602000, 'open_time': 1630602000, 'volume': 94.172, 'open': 49631.5, 'high': 49640, 'low': 49372.5, 'close': 49569.5, 'turnover': 4668058.954}, {'id': 22118298, 'symbol': 'BTCUSDT', 'period': '60', 'interval': '60', 'start_at': 1630605600, 'open_time': 1630605600, 'volume': 105.631, 'open': 49569.5, 'high': 49615.5, 'low': 49242, 'close': 49409.5, 'turnover': 5219174.8945}, {'id': 22120831, 'symbol': 'BTCUSDT', 'period': '60', 'interval': '60', 'start_at': 1630609200, 'open_time': 1630609200, 'volume': 80.946, 'open': 49409.5, 'high': 49459.5, 'low': 49279.5, 'close': 49374.5, 'turnover': 3996668.277}, {'id': 22123316, 'symbol': 'BTCUSDT', 'period': '60', 'interval': '60', 'start_at': 1630612800, 'open_time': 1630612800, 'volume': 108.409, 'open': 49374.5, 'high': 49653, 'low': 49325, 'close': 49590.5, 'turnover': 5376056.5145}, {'id': 22125830, 'symbol': 'BTCUSDT', 'period': '60', 'interval': '60', 'start_at': 1630616400, 'open_time': 1630616400, 'volume': 75.355, 'open': 49590.5, 'high': 49867, 'low': 49581.5, 'close': 49850, 'turnover': 3756446.75}, {'id': 22128334, 'symbol': 'BTCUSDT', 'period': '60', 'interval': '60', 'start_at': 1630620000, 'open_time': 1630620000, 'volume': 80.74, 'open': 49850, 'high': 49855.5, 'low': 49678, 'close': 49751, 'turnover': 4016895.74}, {'id': 22130828, 'symbol': 'BTCUSDT', 'period': '60', 'interval': '60', 'start_at': 1630623600, 'open_time': 1630623600, 'volume': 352.213, 'open': 49751, 'high': 49794, 'low': 49302.5, 'close': 49328, 'turnover': 17373962.864}, {'id': 22133326, 'symbol': 'BTCUSDT', 'period': '60', 'interval': '60', 'start_at': 1630627200, 'open_time': 1630627200, 'volume': 783.972, 'open': 49328, 'high': 50292, 'low': 47623, 'close': 48602, 'turnover': 38102607.144}, {'id': 22135939, 'symbol': 'BTCUSDT', 'period': '60', 'interval': '60', 'start_at': 1630630800, 'open_time': 1630630800, 'volume': 296.734, 'open': 48602, 'high': 48666.5, 'low': 47436, 'close': 48570, 'turnover': 14412370.38}, {'id': 22138416, 'symbol': 'BTCUSDT', 'period': '60', 'interval': '60', 'start_at': 1630634400, 'open_time': 1630634400, 'volume': 178.485, 'open': 48570, 'high': 49000, 'low': 48528.5, 'close': 48985, 'turnover': 8743087.725}, {'id': 22140947, 'symbol': 'BTCUSDT', 'period': '60', 'interval': '60', 'start_at': 1630638000, 'open_time': 1630638000, 'volume': 140.07, 'open': 48985, 'high': 49534, 'low': 48950.5, 'close': 49492.5, 'turnover': 6932414.475}, {'id': 22143417, 'symbol': 'BTCUSDT', 'period': '60', 'interval': '60', 'start_at': 1630641600, 'open_time': 1630641600, 'volume': 162.812, 'open': 49492.5, 'high': 49773.5, 'low': 49433.5, 'close': 49734.5, 'turnover': 8097373.414}, {'id': 22145934, 'symbol': 'BTCUSDT', 'period': '60', 'interval': '60', 'start_at': 1630645200, 'open_time': 1630645200, 'volume': 90.446, 'open': 49734.5, 'high': 49753, 'low': 49432, 'close': 49507, 'turnover': 4477710.122}, {'id': 22148420, 'symbol': 'BTCUSDT', 'period': '60', 'interval': '60', 'start_at': 1630648800, 'open_time': 1630648800, 'volume': 76.206, 'open': 49507, 'high': 49627, 'low': 49347.5, 'close': 49436.5, 'turnover': 3767357.919}, {'id': 22150953, 'symbol': 'BTCUSDT', 'period': '60', 'interval': '60', 'start_at': 1630652400, 'open_time': 1630652400, 'volume': 115.678, 'open': 49436.5, 'high': 49520.5, 'low': 49258, 'close': 49337, 'turnover': 5707205.486}, {'id': 22153435, 'symbol': 'BTCUSDT', 'period': '60', 'interval': '60', 'start_at': 1630656000, 'open_time': 1630656000, 'volume': 479.077, 'open': 49337, 'high': 56668, 'low': 47992.5, 'close': 50031.5, 'turnover': 23968940.9255}, {'id': 22155948, 'symbol': 'BTCUSDT', 'period': '60', 'interval': '60', 'start_at': 1630659600, 'open_time': 1630659600, 'volume': 143.242, 'open': 50031.5, 'high': 50143.5, 'low': 49874, 'close': 50138, 'turnover': 7181867.396}, {'id': 22158446, 'symbol': 'BTCUSDT', 'period': '60', 'interval': '60', 'start_at': 1630663200, 'open_time': 1630663200, 'volume': 402.542, 'open': 50138, 'high': 53000, 'low': 49692.5, 'close': 49843, 'turnover': 20063900.906}, {'id': 22160945, 'symbol': 'BTCUSDT', 'period': '60', 'interval': '60', 'start_at': 1630666800, 'open_time': 1630666800, 'volume': 98.587, 'open': 49843, 'high': 50250, 'low': 49595, 'close': 50215.5, 'turnover': 4950595.4985}, {'id': 22163408, 'symbol': 'BTCUSDT', 'period': '60', 'interval': '60', 'start_at': 1630670400, 'open_time': 1630670400, 'volume': 220.22, 'open': 50215.5, 'high': 50953, 'low': 49937.5, 'close': 50711, 'turnover': 11167576.42}, {'id': 22166015, 'symbol': 'BTCUSDT', 'period': '60', 'interval': '60', 'start_at': 1630674000, 'open_time': 1630674000, 'volume': 147.007, 'open': 50711, 'high': 50987, 'low': 50623, 'close': 50773.5, 'turnover': 7464059.9145}, {'id': 22168492, 'symbol': 'BTCUSDT', 'period': '60', 'interval': '60', 'start_at': 1630677600, 'open_time': 1630677600, 'volume': 405.298, 'open': 50773.5, 'high': 51103, 'low': 47700, 'close': 50755, 'turnover': 20570899.99}, {'id': 22170992, 'symbol': 'BTCUSDT', 'period': '60', 'interval': '60', 'start_at': 1630681200, 'open_time': 1630681200, 'volume': 194.449, 'open': 50755, 'high': 50880.5, 'low': 50600.5, 'close': 50641.5, 'turnover': 9847189.0335}, {'id': 22173496, 'symbol': 'BTCUSDT', 'period': '60', 'interval': '60', 'start_at': 1630684800, 'open_time': 1630684800, 'volume': 242.204, 'open': 50641.5, 'high': 51180, 'low': 50548, 'close': 50554.5, 'turnover': 12244502.118}, {'id': 22176008, 'symbol': 'BTCUSDT', 'period': '60', 'interval': '60', 'start_at': 1630688400, 'open_time': 1630688400, 'volume': 87.63, 'open': 50554.5, 'high': 50654.5, 'low': 50425, 'close': 50486, 'turnover': 4424088.18}, {'id': 22178483, 'symbol': 'BTCUSDT', 'period': '60', 'interval': '60', 'start_at': 1630692000, 'open_time': 1630692000, 'volume': 165.909, 'open': 50486, 'high': 50618.5, 'low': 50327, 'close': 50531, 'turnover': 8383547.679}, {'id': 22181024, 'symbol': 'BTCUSDT', 'period': '60', 'interval': '60', 'start_at': 1630695600, 'open_time': 1630695600, 'volume': 132.205, 'open': 50531, 'high': 50587, 'low': 50342.5, 'close': 50586, 'turnover': 6687722.13}, {'id': 22183508, 'symbol': 'BTCUSDT', 'period': '60', 'interval': '60', 'start_at': 1630699200, 'open_time': 1630699200, 'volume': 104.062, 'open': 50586, 'high': 50586, 'low': 50119, 'close': 50229, 'turnover': 5226930.198}, {'id': 22186026, 'symbol': 'BTCUSDT', 'period': '60', 'interval': '60', 'start_at': 1630702800, 'open_time': 1630702800, 'volume': 81.699, 'open': 50229, 'high': 50306, 'low': 50104.5, 'close': 50298.5, 'turnover': 4109337.1515}, {'id': 22188525, 'symbol': 'BTCUSDT', 'period': '60', 'interval': '60', 'start_at': 1630706400, 'open_time': 1630706400, 'volume': 117.468, 'open': 50298.5, 'high': 50298.5, 'low': 49656, 'close': 49726.5, 'turnover': 5841272.502}, {'id': 22191025, 'symbol': 'BTCUSDT', 'period': '60', 'interval': '60', 'start_at': 1630710000, 'open_time': 1630710000, 'volume': 243.487, 'open': 49726.5, 'high': 50072, 'low': 49637, 'close': 50028.5, 'turnover': 12181289.3795}, {'id': 22193525, 'symbol': 'BTCUSDT', 'period': '60', 'interval': '60', 'start_at': 1630713600, 'open_time': 1630713600, 'volume': 121.293, 'open': 50028.5, 'high': 50168.5, 'low': 49744, 'close': 49959.5, 'turnover': 6059737.6335}, {'id': 22196092, 'symbol': 'BTCUSDT', 'period': '60', 'interval': '60', 'start_at': 1630717200, 'open_time': 1630717200, 'volume': 113.533, 'open': 49959.5, 'high': 49959.5, 'low': 49620.5, 'close': 49744, 'turnover': 5647585.552}, {'id': 22198596, 'symbol': 'BTCUSDT', 'period': '60', 'interval': '60', 'start_at': 1630720800, 'open_time': 1630720800, 'volume': 106.066, 'open': 49744, 'high': 50100, 'low': 49645.5, 'close': 50100, 'turnover': 5313906.6}, {'id': 22201068, 'symbol': 'BTCUSDT', 'period': '60', 'interval': '60', 'start_at': 1630724400, 'open_time': 1630724400, 'volume': 250.4, 'open': 50100, 'high': 51700, 'low': 50071.5, 'close': 50325.5, 'turnover': 12601505.2}, {'id': 22203567, 'symbol': 'BTCUSDT', 'period': '60', 'interval': '60', 'start_at': 1630728000, 'open_time': 1630728000, 'volume': 153.132, 'open': 50325.5, 'high': 50473.5, 'low': 50267, 'close': 50402, 'turnover': 7718159.064}, {'id': 22206106, 'symbol': 'BTCUSDT', 'period': '60', 'interval': '60', 'start_at': 1630731600, 'open_time': 1630731600, 'volume': 107.557, 'open': 50402, 'high': 50402, 'low': 50253, 'close': 50318.5, 'turnover': 5412106.9045}, {'id': 22208565, 'symbol': 'BTCUSDT', 'period': '60', 'interval': '60', 'start_at': 1630735200, 'open_time': 1630735200, 'volume': 111.318, 'open': 50318.5, 'high': 50385.5, 'low': 50252.5, 'close': 50370, 'turnover': 5607087.66}, {'id': 22211130, 'symbol': 'BTCUSDT', 'period': '60', 'interval': '60', 'start_at': 1630738800, 'open_time': 1630738800, 'volume': 176.045, 'open': 50370, 'high': 50452.5, 'low': 50178, 'close': 50244.5, 'turnover': 8845293.0025}, {'id': 22213612, 'symbol': 'BTCUSDT', 'period': '60', 'interval': '60', 'start_at': 1630742400, 'open_time': 1630742400, 'volume': 81.613, 'open': 50244.5, 'high': 50244.5, 'low': 50018.5, 'close': 50169.5, 'turnover': 4094483.4035}, {'id': 22216128, 'symbol': 'BTCUSDT', 'period': '60', 'interval': '60', 'start_at': 1630746000, 'open_time': 1630746000, 'volume': 80.614, 'open': 50169.5, 'high': 50426, 'low': 50146.5, 'close': 50426, 'turnover': 4065041.564}, {'id': 22218626, 'symbol': 'BTCUSDT', 'period': '60', 'interval': '60', 'start_at': 1630749600, 'open_time': 1630749600, 'volume': 119.409, 'open': 50426, 'high': 50526, 'low': 49852.5, 'close': 49868.5, 'turnover': 5954747.7165}, {'id': 22221123, 'symbol': 'BTCUSDT', 'period': '60', 'interval': '60', 'start_at': 1630753200, 'open_time': 1630753200, 'volume': 135.811, 'open': 49868.5, 'high': 50053.5, 'low': 49769.5, 'close': 49932.5, 'turnover': 6781382.7575}, {'id': 22223618, 'symbol': 'BTCUSDT', 'period': '60', 'interval': '60', 'start_at': 1630756800, 'open_time': 1630756800, 'volume': 138.58, 'open': 49932.5, 'high': 50360.5, 'low': 49930.5, 'close': 50294, 'turnover': 6969742.52}, {'id': 22226193, 'symbol': 'BTCUSDT', 'period': '60', 'interval': '60', 'start_at': 1630760400, 'open_time': 1630760400, 'volume': 214.011, 'open': 50294, 'high': 50322.5, 'low': 50129, 'close': 50251, 'turnover': 10754266.761}, {'id': 22228673, 'symbol': 'BTCUSDT', 'period': '60', 'interval': '60', 'start_at': 1630764000, 'open_time': 1630764000, 'volume': 199.526, 'open': 50251, 'high': 50251, 'low': 49894, 'close': 50016, 'turnover': 9979492.416}, {'id': 22231167, 'symbol': 'BTCUSDT', 'period': '60', 'interval': '60', 'start_at': 1630767600, 'open_time': 1630767600, 'volume': 725.181, 'open': 50016, 'high': 50165, 'low': 49795.5, 'close': 49911, 'turnover': 36194508.891}, {'id': 22233671, 'symbol': 'BTCUSDT', 'period': '60', 'interval': '60', 'start_at': 1630771200, 'open_time': 1630771200, 'volume': 100.498, 'open': 49911, 'high': 50077.5, 'low': 49828, 'close': 49858, 'turnover': 5010629.284}, {'id': 22236187, 'symbol': 'BTCUSDT', 'period': '60', 'interval': '60', 'start_at': 1630774800, 'open_time': 1630774800, 'volume': 211.941, 'open': 49858, 'high': 50007, 'low': 49471.5, 'close': 50007, 'turnover': 10598533.587}, {'id': 22238659, 'symbol': 'BTCUSDT', 'period': '60', 'interval': '60', 'start_at': 1630778400, 'open_time': 1630778400, 'volume': 108.245, 'open': 50007, 'high': 50050, 'low': 49895, 'close': 49922, 'turnover': 5403806.89}, {'id': 22241206, 'symbol': 'BTCUSDT', 'period': '60', 'interval': '60', 'start_at': 1630782000, 'open_time': 1630782000, 'volume': 101.877, 'open': 49922, 'high': 50046.5, 'low': 49669.5, 'close': 50035, 'turnover': 5097415.695}, {'id': 22243691, 'symbol': 'BTCUSDT', 'period': '60', 'interval': '60', 'start_at': 1630785600, 'open_time': 1630785600, 'volume': 123.629, 'open': 50035, 'high': 50268, 'low': 50021, 'close': 50218.5, 'turnover': 6208462.9365}, {'id': 22246206, 'symbol': 'BTCUSDT', 'period': '60', 'interval': '60', 'start_at': 1630789200, 'open_time': 1630789200, 'volume': 51.46, 'open': 50218.5, 'high': 50265, 'low': 50134, 'close': 50257.5, 'turnover': 2586250.95}, {'id': 22248704, 'symbol': 'BTCUSDT', 'period': '60', 'interval': '60', 'start_at': 1630792800, 'open_time': 1630792800, 'volume': 104.462, 'open': 50257.5, 'high': 50311, 'low': 49938, 'close': 49950.5, 'turnover': 5217929.131}, {'id': 22251199, 'symbol': 'BTCUSDT', 'period': '60', 'interval': '60', 'start_at': 1630796400, 'open_time': 1630796400, 'volume': 127.052, 'open': 49950.5, 'high': 50049, 'low': 49785.5, 'close': 49960, 'turnover': 6347517.92}, {'id': 22253702, 'symbol': 'BTCUSDT', 'period': '60', 'interval': '60', 'start_at': 1630800000, 'open_time': 1630800000, 'volume': 270.465, 'open': 49960, 'high': 50276.5, 'low': 49550.5, 'close': 50212, 'turnover': 13580588.58}, {'id': 22256293, 'symbol': 'BTCUSDT', 'period': '60', 'interval': '60', 'start_at': 1630803600, 'open_time': 1630803600, 'volume': 106.057, 'open': 50212, 'high': 50244.5, 'low': 50000, 'close': 50169, 'turnover': 5320773.633}, {'id': 22258771, 'symbol': 'BTCUSDT', 'period': '60', 'interval': '60', 'start_at': 1630807200, 'open_time': 1630807200, 'volume': 127.089, 'open': 50169, 'high': 50280, 'low': 50142.5, 'close': 50207.5, 'turnover': 6380820.9675}, {'id': 22261268, 'symbol': 'BTCUSDT', 'period': '60', 'interval': '60', 'start_at': 1630810800, 'open_time': 1630810800, 'volume': 156.33, 'open': 50207.5, 'high': 50207.5, 'low': 49708.5, 'close': 49713, 'turnover': 7771633.29}, {'id': 22263739, 'symbol': 'BTCUSDT', 'period': '60', 'interval': '60', 'start_at': 1630814400, 'open_time': 1630814400, 'volume': 98.121, 'open': 49713, 'high': 49891.5, 'low': 49693, 'close': 49862, 'turnover': 4892509.302}, {'id': 22266286, 'symbol': 'BTCUSDT', 'period': '60', 'interval': '60', 'start_at': 1630818000, 'open_time': 1630818000, 'volume': 94.724, 'open': 49862, 'high': 49883.5, 'low': 49675, 'close': 49731, 'turnover': 4710719.244}, {'id': 22268752, 'symbol': 'BTCUSDT', 'period': '60', 'interval': '60', 'start_at': 1630821600, 'open_time': 1630821600, 'volume': 80.88, 'open': 49731, 'high': 49948.5, 'low': 49529.5, 'close': 49880.5, 'turnover': 4034334.84}, {'id': 22271306, 'symbol': 'BTCUSDT', 'period': '60', 'interval': '60', 'start_at': 1630825200, 'open_time': 1630825200, 'volume': 235.903, 'open': 49880.5, 'high': 50023.5, 'low': 49880, 'close': 49902.5, 'turnover': 11772149.4575}, {'id': 22273789, 'symbol': 'BTCUSDT', 'period': '60', 'interval': '60', 'start_at': 1630828800, 'open_time': 1630828800, 'volume': 96.131, 'open': 49902.5, 'high': 50173, 'low': 49896, 'close': 50173, 'turnover': 4823180.663}, {'id': 22276306, 'symbol': 'BTCUSDT', 'period': '60', 'interval': '60', 'start_at': 1630832400, 'open_time': 1630832400, 'volume': 167.214, 'open': 50173, 'high': 50269, 'low': 50094.5, 'close': 50219, 'turnover': 8397319.866}, {'id': 22278805, 'symbol': 'BTCUSDT', 'period': '60', 'interval': '60', 'start_at': 1630836000, 'open_time': 1630836000, 'volume': 153.585, 'open': 50219, 'high': 50293.5, 'low': 50012.5, 'close': 50058.5, 'turnover': 7688234.7225}, {'id': 22281288, 'symbol': 'BTCUSDT', 'period': '60', 'interval': '60', 'start_at': 1630839600, 'open_time': 1630839600, 'volume': 111.13, 'open': 50058.5, 'high': 50426, 'low': 49956, 'close': 50230, 'turnover': 5582059.9}, {'id': 22283794, 'symbol': 'BTCUSDT', 'period': '60', 'interval': '60', 'start_at': 1630843200, 'open_time': 1630843200, 'volume': 286.364, 'open': 50230, 'high': 50299.5, 'low': 50067.5, 'close': 50146, 'turnover': 14360009.144}, {'id': 22286370, 'symbol': 'BTCUSDT', 'period': '60', 'interval': '60', 'start_at': 1630846800, 'open_time': 1630846800, 'volume': 89.226, 'open': 50146, 'high': 50251, 'low': 50102.5, 'close': 50232.5, 'turnover': 4482045.045}, {'id': 22288833, 'symbol': 'BTCUSDT', 'period': '60', 'interval': '60', 'start_at': 1630850400, 'open_time': 1630850400, 'volume': 204.387, 'open': 50232.5, 'high': 50520, 'low': 50197, 'close': 50268.5, 'turnover': 10274227.9095}, {'id': 22291343, 'symbol': 'BTCUSDT', 'period': '60', 'interval': '60', 'start_at': 1630854000, 'open_time': 1630854000, 'volume': 69.486, 'open': 50268.5, 'high': 50364.5, 'low': 50118.5, 'close': 50251, 'turnover': 3491740.986}, {'id': 22293849, 'symbol': 'BTCUSDT', 'period': '60', 'interval': '60', 'start_at': 1630857600, 'open_time': 1630857600, 'volume': 242.023, 'open': 50251, 'high': 50394.5, 'low': 50171, 'close': 50394.5, 'turnover': 12196628.0735}, {'id': 22296362, 'symbol': 'BTCUSDT', 'period': '60', 'interval': '60', 'start_at': 1630861200, 'open_time': 1630861200, 'volume': 82.2, 'open': 50394.5, 'high': 50440.5, 'low': 50334, 'close': 50357, 'turnover': 4139345.4}, {'id': 22298845, 'symbol': 'BTCUSDT', 'period': '60', 'interval': '60', 'start_at': 1630864800, 'open_time': 1630864800, 'volume': 58.202, 'open': 50357, 'high': 50476, 'low': 50310.5, 'close': 50463.5, 'turnover': 2937076.627}, {'id': 22301384, 'symbol': 'BTCUSDT', 'period': '60', 'interval': '60', 'start_at': 1630868400, 'open_time': 1630868400, 'volume': 122.51, 'open': 50463.5, 'high': 50941, 'low': 50419.5, 'close': 50725, 'turnover': 6214319.75}, {'id': 22303868, 'symbol': 'BTCUSDT', 'period': '60', 'interval': '60', 'start_at': 1630872000, 'open_time': 1630872000, 'volume': 445.039, 'open': 50725, 'high': 51824.5, 'low': 50710.5, 'close': 51757, 'turnover': 23033883.523}, {'id': 22306379, 'symbol': 'BTCUSDT', 'period': '60', 'interval': '60', 'start_at': 1630875600, 'open_time': 1630875600, 'volume': 193.303, 'open': 51757, 'high': 51967.5, 'low': 51610, 'close': 51798, 'turnover': 10012708.794}, {'id': 22308880, 'symbol': 'BTCUSDT', 'period': '60', 'interval': '60', 'start_at': 1630879200, 'open_time': 1630879200, 'volume': 270.363, 'open': 51798, 'high': 51900, 'low': 51656.5, 'close': 51851.5, 'turnover': 14018727.0945}, {'id': 22311394, 'symbol': 'BTCUSDT', 'period': '60', 'interval': '60', 'start_at': 1630882800, 'open_time': 1630882800, 'volume': 124.336, 'open': 51851.5, 'high': 51900, 'low': 51677, 'close': 51816, 'turnover': 6442594.176}, {'id': 22313886, 'symbol': 'BTCUSDT', 'period': '60', 'interval': '60', 'start_at': 1630886400, 'open_time': 1630886400, 'volume': 345.867, 'open': 51816, 'high': 51900, 'low': 51610.5, 'close': 51826.5, 'turnover': 17925076.0755}, {'id': 22316488, 'symbol': 'BTCUSDT', 'period': '60', 'interval': '60', 'start_at': 1630890000, 'open_time': 1630890000, 'volume': 64.847, 'open': 51826.5, 'high': 51915.5, 'low': 51748, 'close': 51857.5, 'turnover': 3362803.3025}, {'id': 22318995, 'symbol': 'BTCUSDT', 'period': '60', 'interval': '60', 'start_at': 1630893600, 'open_time': 1630893600, 'volume': 84.388, 'open': 51857.5, 'high': 51874.5, 'low': 51667.5, 'close': 51686, 'turnover': 4361678.168}, {'id': 22321488, 'symbol': 'BTCUSDT', 'period': '60', 'interval': '60', 'start_at': 1630897200, 'open_time': 1630897200, 'volume': 92.33, 'open': 51686, 'high': 51776.5, 'low': 51542.5, 'close': 51648, 'turnover': 4768659.84}, {'id': 22323996, 'symbol': 'BTCUSDT', 'period': '60', 'interval': '60', 'start_at': 1630900800, 'open_time': 1630900800, 'volume': 86.712, 'open': 51648, 'high': 51778, 'low': 51618.5, 'close': 51760.5, 'turnover': 4488256.476}, {'id': 22326503, 'symbol': 'BTCUSDT', 'period': '60', 'interval': '60', 'start_at': 1630904400, 'open_time': 1630904400, 'volume': 49.659, 'open': 51760.5, 'high': 51796.5, 'low': 51685.5, 'close': 51796, 'turnover': 2572137.564}, {'id': 22328993, 'symbol': 'BTCUSDT', 'period': '60', 'interval': '60', 'start_at': 1630908000, 'open_time': 1630908000, 'volume': 55.619, 'open': 51796, 'high': 51924, 'low': 51795.5, 'close': 51881, 'turnover': 2885569.339}, {'id': 22331527, 'symbol': 'BTCUSDT', 'period': '60', 'interval': '60', 'start_at': 1630911600, 'open_time': 1630911600, 'volume': 106.711, 'open': 51881, 'high': 52000, 'low': 51797, 'close': 51851.5, 'turnover': 5533125.4165}, {'id': 22333995, 'symbol': 'BTCUSDT', 'period': '60', 'interval': '60', 'start_at': 1630915200, 'open_time': 1630915200, 'volume': 53.042, 'open': 51851.5, 'high': 51852, 'low': 51722.5, 'close': 51724.5, 'turnover': 2743570.929}, {'id': 22336527, 'symbol': 'BTCUSDT', 'period': '60', 'interval': '60', 'start_at': 1630918800, 'open_time': 1630918800, 'volume': 52.195, 'open': 51724.5, 'high': 51914.5, 'low': 51719.5, 'close': 51905, 'turnover': 2709181.475}, {'id': 22339001, 'symbol': 'BTCUSDT', 'period': '60', 'interval': '60', 'start_at': 1630922400, 'open_time': 1630922400, 'volume': 33.557, 'open': 51905, 'high': 51905.5, 'low': 51812, 'close': 51813.5, 'turnover': 1738705.6195}, {'id': 22341495, 'symbol': 'BTCUSDT', 'period': '60', 'interval': '60', 'start_at': 1630926000, 'open_time': 1630926000, 'volume': 521.792, 'open': 51813.5, 'high': 52280.5, 'low': 47111, 'close': 51419.5, 'turnover': 26830283.744}, {'id': 22344018, 'symbol': 'BTCUSDT', 'period': '60', 'interval': '60', 'start_at': 1630929600, 'open_time': 1630929600, 'volume': 131.879, 'open': 51419.5, 'high': 51545, 'low': 51065.5, 'close': 51364.5, 'turnover': 6773898.8955}, {'id': 22346587, 'symbol': 'BTCUSDT', 'period': '60', 'interval': '60', 'start_at': 1630933200, 'open_time': 1630933200, 'volume': 154.671, 'open': 51364.5, 'high': 51549, 'low': 51220, 'close': 51532.5, 'turnover': 7970583.3075}, {'id': 22349072, 'symbol': 'BTCUSDT', 'period': '60', 'interval': '60', 'start_at': 1630936800, 'open_time': 1630936800, 'volume': 99.856, 'open': 51532.5, 'high': 51756, 'low': 51501.5, 'close': 51711.5, 'turnover': 5163703.544}, {'id': 22351545, 'symbol': 'BTCUSDT', 'period': '60', 'interval': '60', 'start_at': 1630940400, 'open_time': 1630940400, 'volume': 128.654, 'open': 51711.5, 'high': 51728, 'low': 51588, 'close': 51647, 'turnover': 6644593.138}, {'id': 22354069, 'symbol': 'BTCUSDT', 'period': '60', 'interval': '60', 'start_at': 1630944000, 'open_time': 1630944000, 'volume': 67.003, 'open': 51647, 'high': 51767.5, 'low': 51562.5, 'close': 51585, 'turnover': 3456349.755}, {'id': 22356585, 'symbol': 'BTCUSDT', 'period': '60', 'interval': '60', 'start_at': 1630947600, 'open_time': 1630947600, 'volume': 59.536, 'open': 51585, 'high': 51745.5, 'low': 51583.5, 'close': 51713.5, 'turnover': 3078814.936}, {'id': 22359069, 'symbol': 'BTCUSDT', 'period': '60', 'interval': '60', 'start_at': 1630951200, 'open_time': 1630951200, 'volume': 71.693, 'open': 51713.5, 'high': 51920, 'low': 51654, 'close': 51883, 'turnover': 3719647.919}, {'id': 22361604, 'symbol': 'BTCUSDT', 'period': '60', 'interval': '60', 'start_at': 1630954800, 'open_time': 1630954800, 'volume': 115.834, 'open': 51883, 'high': 52093.5, 'low': 51772, 'close': 51815, 'turnover': 6001938.71}, {'id': 22364062, 'symbol': 'BTCUSDT', 'period': '60', 'interval': '60', 'start_at': 1630958400, 'open_time': 1630958400, 'volume': 93.073, 'open': 51815, 'high': 51987, 'low': 51691, 'close': 51944, 'turnover': 4834583.912}, {'id': 22366602, 'symbol': 'BTCUSDT', 'period': '60', 'interval': '60', 'start_at': 1630962000, 'open_time': 1630962000, 'volume': 115.403, 'open': 51944, 'high': 52154, 'low': 51928.5, 'close': 52129.5, 'turnover': 6015900.6885}, {'id': 22369103, 'symbol': 'BTCUSDT', 'period': '60', 'interval': '60', 'start_at': 1630965600, 'open_time': 1630965600, 'volume': 274.226, 'open': 52129.5, 'high': 52700.5, 'low': 52129.5, 'close': 52543.5, 'turnover': 14408793.831}, {'id': 22371589, 'symbol': 'BTCUSDT', 'period': '60', 'interval': '60', 'start_at': 1630969200, 'open_time': 1630969200, 'volume': 204.646, 'open': 52543.5, 'high': 52850, 'low': 52400.5, 'close': 52701, 'turnover': 10785048.846}, {'id': 22374044, 'symbol': 'BTCUSDT', 'period': '60', 'interval': '60', 'start_at': 1630972800, 'open_time': 1630972800, 'volume': 66.453, 'open': 52701, 'high': 52739, 'low': 52433.5, 'close': 52524.5, 'turnover': 3490410.5985}, {'id': 22376659, 'symbol': 'BTCUSDT', 'period': '60', 'interval': '60', 'start_at': 1630976400, 'open_time': 1630976400, 'volume': 92.728, 'open': 52524.5, 'high': 52693.5, 'low': 52495, 'close': 52509, 'turnover': 4869054.552}, {'id': 22379170, 'symbol': 'BTCUSDT', 'period': '60', 'interval': '60', 'start_at': 1630980000, 'open_time': 1630980000, 'volume': 57.34, 'open': 52509, 'high': 52827, 'low': 52509, 'close': 52738.5, 'turnover': 3024025.59}, {'id': 22381667, 'symbol': 'BTCUSDT', 'period': '60', 'interval': '60', 'start_at': 1630983600, 'open_time': 1630983600, 'volume': 159.733, 'open': 52738.5, 'high': 53500, 'low': 52694, 'close': 52709.5, 'turnover': 8419446.5635}, {'id': 22384171, 'symbol': 'BTCUSDT', 'period': '60', 'interval': '60', 'start_at': 1630987200, 'open_time': 1630987200, 'volume': 124.739, 'open': 52709.5, 'high': 52713, 'low': 52542, 'close': 52570.5, 'turnover': 6557591.5995}, {'id': 22386658, 'symbol': 'BTCUSDT', 'period': '60', 'interval': '60', 'start_at': 1630990800, 'open_time': 1630990800, 'volume': 90.718, 'open': 52570.5, 'high': 52725.5, 'low': 52442.5, 'close': 52725.5, 'turnover': 4783151.909}, {'id': 22389170, 'symbol': 'BTCUSDT', 'period': '60', 'interval': '60', 'start_at': 1630994400, 'open_time': 1630994400, 'volume': 98.409, 'open': 52725.5, 'high': 52734, 'low': 52460, 'close': 52460, 'turnover': 5162536.14}, {'id': 22391698, 'symbol': 'BTCUSDT', 'period': '60', 'interval': '60', 'start_at': 1630998000, 'open_time': 1630998000, 'volume': 126.819, 'open': 52460, 'high': 52475, 'low': 52198, 'close': 52375.5, 'turnover': 6642208.5345}, {'id': 22394187, 'symbol': 'BTCUSDT', 'period': '60', 'interval': '60', 'start_at': 1631001600, 'open_time': 1631001600, 'volume': 329.986, 'open': 52375.5, 'high': 53500, 'low': 51280.5, 'close': 51328.5, 'turnover': 16937686.401}, {'id': 22396703, 'symbol': 'BTCUSDT', 'period': '60', 'interval': '60', 'start_at': 1631005200, 'open_time': 1631005200, 'volume': 469.534, 'open': 51328.5, 'high': 51477.5, 'low': 50597, 'close': 50870, 'turnover': 23885194.58}, {'id': 22399215, 'symbol': 'BTCUSDT', 'period': '60', 'interval': '60', 'start_at': 1631008800, 'open_time': 1631008800, 'volume': 170.613, 'open': 50870, 'high': 51246.5, 'low': 50870, 'close': 51148.5, 'turnover': 8726599.0305}, {'id': 22401696, 'symbol': 'BTCUSDT', 'period': '60', 'interval': '60', 'start_at': 1631012400, 'open_time': 1631012400, 'volume': 82.959, 'open': 51148.5, 'high': 51204, 'low': 50975, 'close': 51043.5, 'turnover': 4234517.7165}, {'id': 22404180, 'symbol': 'BTCUSDT', 'period': '60', 'interval': '60', 'start_at': 1631016000, 'open_time': 1631016000, 'volume': 252.662, 'open': 51043.5, 'high': 51097, 'low': 50659.5, 'close': 51007, 'turnover': 12887530.634}, {'id': 22406768, 'symbol': 'BTCUSDT', 'period': '60', 'interval': '60', 'start_at': 1631019600, 'open_time': 1631019600, 'volume': 201.28, 'open': 51007, 'high': 51095.5, 'low': 50650, 'close': 50650, 'turnover': 10194832}, {'id': 22409247, 'symbol': 'BTCUSDT', 'period': '60', 'interval': '60', 'start_at': 1631023200, 'open_time': 1631023200, 'volume': 1185.497, 'open': 50650, 'high': 50792, 'low': 47200, 'close': 47200.5, 'turnover': 55956051.1485}, {'id': 22411714, 'symbol': 'BTCUSDT', 'period': '60', 'interval': '60', 'start_at': 1631026800, 'open_time': 1631026800, 'volume': 1753.12, 'open': 47200.5, 'high': 49562, 'low': 42532, 'close': 46709, 'turnover': 81886482.08}, {'id': 22414213, 'symbol': 'BTCUSDT', 'period': '60', 'interval': '60', 'start_at': 1631030400, 'open_time': 1631030400, 'volume': 313.022, 'open': 46709, 'high': 49397, 'low': 46429, 'close': 47477.5, 'turnover': 14861502.005}, {'id': 22416761, 'symbol': 'BTCUSDT', 'period': '60', 'interval': '60', 'start_at': 1631034000, 'open_time': 1631034000, 'volume': 104.576, 'open': 47477.5, 'high': 47535, 'low': 46638.5, 'close': 46685, 'turnover': 4882130.56}, {'id': 22419240, 'symbol': 'BTCUSDT', 'period': '60', 'interval': '60', 'start_at': 1631037600, 'open_time': 1631037600, 'volume': 93.299, 'open': 46685, 'high': 46831.5, 'low': 46020, 'close': 46494, 'turnover': 4337843.706}], 'time_now': '1631039013.558126'}, <bravado.requests_client.RequestsResponseAdapter object at 0x7fbb803c6d90>)\n"
     ]
    }
   ],
   "source": [
    "print(Historical_data)"
   ]
  },
  {
   "cell_type": "markdown",
   "id": "57f5279c",
   "metadata": {},
   "source": [
    "# 返り値のparameter\n",
    "id: 多分データ管理用に割り振られた番号　そんな重要じゃなさそう\n",
    "'ret_code': 0, 'ret_msg': 'OK', 'ext_code': '', 'ext_info これらはAPIリクエストが成功したかどうかのメッセージ\n",
    "\n",
    "データはresult以降に格納されている\n",
    "以下 result内部のparameterについて\n",
    "\n",
    "symbol: 取引ペア\n",
    "\n",
    "period: 時間足\n",
    "\n",
    "start_at, open_time: 時間 unix timeで入ってる startとopenでどう違うのかは不明\n",
    "\n",
    "open,high,low,close: 始値,高値,安値,終値\n",
    "\n",
    "volume: 取引数量\n",
    "\n",
    "turnover: ? 売り上げという意味らしいがvolumeと何が違うのか不明\n",
    "\n",
    "time_now:　プログラムを実行したときのunix時間"
   ]
  },
  {
   "cell_type": "code",
   "execution_count": 20,
   "id": "503fac74",
   "metadata": {},
   "outputs": [
    {
     "name": "stdout",
     "output_type": "stream",
     "text": [
      "[{'id': 21990413, 'symbol': 'BTCUSDT', 'period': '60', 'interval': '60', 'start_at': 1630422000, 'open_time': 1630422000, 'volume': 124.369, 'open': 47256, 'high': 47484.5, 'low': 47242, 'close': 47443, 'turnover': 5900438.467}, {'id': 21992919, 'symbol': 'BTCUSDT', 'period': '60', 'interval': '60', 'start_at': 1630425600, 'open_time': 1630425600, 'volume': 165.491, 'open': 47443, 'high': 47580, 'low': 47323.5, 'close': 47387, 'turnover': 7842122.017}, {'id': 21995430, 'symbol': 'BTCUSDT', 'period': '60', 'interval': '60', 'start_at': 1630429200, 'open_time': 1630429200, 'volume': 116.118, 'open': 47387, 'high': 47439.5, 'low': 47079.5, 'close': 47145.5, 'turnover': 5474441.169}, {'id': 21997918, 'symbol': 'BTCUSDT', 'period': '60', 'interval': '60', 'start_at': 1630432800, 'open_time': 1630432800, 'volume': 202.217, 'open': 47145.5, 'high': 47399.5, 'low': 47083.5, 'close': 47350.5, 'turnover': 9575076.0585}, {'id': 22000452, 'symbol': 'BTCUSDT', 'period': '60', 'interval': '60', 'start_at': 1630436400, 'open_time': 1630436400, 'volume': 74.082, 'open': 47350.5, 'high': 47399.5, 'low': 47249.5, 'close': 47352.5, 'turnover': 3507967.905}, {'id': 22002941, 'symbol': 'BTCUSDT', 'period': '60', 'interval': '60', 'start_at': 1630440000, 'open_time': 1630440000, 'volume': 111.585, 'open': 47352.5, 'high': 47352.5, 'low': 46967, 'close': 47025.5, 'turnover': 5247340.4175}, {'id': 22005454, 'symbol': 'BTCUSDT', 'period': '60', 'interval': '60', 'start_at': 1630443600, 'open_time': 1630443600, 'volume': 55.727, 'open': 47025.5, 'high': 47233, 'low': 46919.5, 'close': 47020, 'turnover': 2620283.54}, {'id': 22007954, 'symbol': 'BTCUSDT', 'period': '60', 'interval': '60', 'start_at': 1630447200, 'open_time': 1630447200, 'volume': 112.031, 'open': 47020, 'high': 47119, 'low': 46822.5, 'close': 47106, 'turnover': 5277332.286}, {'id': 22010448, 'symbol': 'BTCUSDT', 'period': '60', 'interval': '60', 'start_at': 1630450800, 'open_time': 1630450800, 'volume': 241.066, 'open': 47106, 'high': 48300, 'low': 47039, 'close': 47172.5, 'turnover': 11371685.885}, {'id': 22012889, 'symbol': 'BTCUSDT', 'period': '60', 'interval': '60', 'start_at': 1630454400, 'open_time': 1630454400, 'volume': 146.32, 'open': 47172.5, 'high': 47328.5, 'low': 46750, 'close': 46782.5, 'turnover': 6845215.4}, {'id': 22015566, 'symbol': 'BTCUSDT', 'period': '60', 'interval': '60', 'start_at': 1630458000, 'open_time': 1630458000, 'volume': 422.024, 'open': 46782.5, 'high': 46872, 'low': 46545, 'close': 46869, 'turnover': 19779842.856}, {'id': 22018049, 'symbol': 'BTCUSDT', 'period': '60', 'interval': '60', 'start_at': 1630461600, 'open_time': 1630461600, 'volume': 340.719, 'open': 46869, 'high': 47088, 'low': 46769.5, 'close': 46913.5, 'turnover': 15984320.8065}, {'id': 22020542, 'symbol': 'BTCUSDT', 'period': '60', 'interval': '60', 'start_at': 1630465200, 'open_time': 1630465200, 'volume': 214.724, 'open': 46913.5, 'high': 47008.5, 'low': 46759.5, 'close': 47008, 'turnover': 10093745.792}, {'id': 22023048, 'symbol': 'BTCUSDT', 'period': '60', 'interval': '60', 'start_at': 1630468800, 'open_time': 1630468800, 'volume': 117.001, 'open': 47008, 'high': 47248, 'low': 47008, 'close': 47154.5, 'turnover': 5517123.6545}, {'id': 22025533, 'symbol': 'BTCUSDT', 'period': '60', 'interval': '60', 'start_at': 1630472400, 'open_time': 1630472400, 'volume': 131.056, 'open': 47154.5, 'high': 47455.5, 'low': 47154.5, 'close': 47402.5, 'turnover': 6212382.04}, {'id': 22028047, 'symbol': 'BTCUSDT', 'period': '60', 'interval': '60', 'start_at': 1630476000, 'open_time': 1630476000, 'volume': 181.569, 'open': 47402.5, 'high': 47488.5, 'low': 47248.5, 'close': 47338, 'turnover': 8595113.322}, {'id': 22030575, 'symbol': 'BTCUSDT', 'period': '60', 'interval': '60', 'start_at': 1630479600, 'open_time': 1630479600, 'volume': 137.303, 'open': 47338, 'high': 47448.5, 'low': 47128.5, 'close': 47195, 'turnover': 6480015.085}, {'id': 22033063, 'symbol': 'BTCUSDT', 'period': '60', 'interval': '60', 'start_at': 1630483200, 'open_time': 1630483200, 'volume': 145.923, 'open': 47195, 'high': 47408.5, 'low': 47152, 'close': 47385.5, 'turnover': 6914634.3165}, {'id': 22035571, 'symbol': 'BTCUSDT', 'period': '60', 'interval': '60', 'start_at': 1630486800, 'open_time': 1630486800, 'volume': 132.856, 'open': 47385.5, 'high': 47699.5, 'low': 47368.5, 'close': 47683.5, 'turnover': 6335039.076}, {'id': 22038076, 'symbol': 'BTCUSDT', 'period': '60', 'interval': '60', 'start_at': 1630490400, 'open_time': 1630490400, 'volume': 360.376, 'open': 47683.5, 'high': 47757, 'low': 47549.5, 'close': 47549.5, 'turnover': 17135698.612}, {'id': 22040573, 'symbol': 'BTCUSDT', 'period': '60', 'interval': '60', 'start_at': 1630494000, 'open_time': 1630494000, 'volume': 244.893, 'open': 47549.5, 'high': 47755, 'low': 47549.5, 'close': 47749.5, 'turnover': 11693518.3035}, {'id': 22043070, 'symbol': 'BTCUSDT', 'period': '60', 'interval': '60', 'start_at': 1630497600, 'open_time': 1630497600, 'volume': 193.174, 'open': 47749.5, 'high': 48300, 'low': 47666.5, 'close': 47747, 'turnover': 9223478.978}, {'id': 22045618, 'symbol': 'BTCUSDT', 'period': '60', 'interval': '60', 'start_at': 1630501200, 'open_time': 1630501200, 'volume': 190.944, 'open': 47747, 'high': 47785, 'low': 47437.5, 'close': 47500.5, 'turnover': 9069935.472}, {'id': 22048122, 'symbol': 'BTCUSDT', 'period': '60', 'interval': '60', 'start_at': 1630504800, 'open_time': 1630504800, 'volume': 257.989, 'open': 47500.5, 'high': 47661.5, 'low': 47309.5, 'close': 47341.5, 'turnover': 12213586.2435}, {'id': 22050617, 'symbol': 'BTCUSDT', 'period': '60', 'interval': '60', 'start_at': 1630508400, 'open_time': 1630508400, 'volume': 359.127, 'open': 47341.5, 'high': 47546, 'low': 47341.5, 'close': 47531, 'turnover': 17069665.437}, {'id': 22053124, 'symbol': 'BTCUSDT', 'period': '60', 'interval': '60', 'start_at': 1630512000, 'open_time': 1630512000, 'volume': 404.436, 'open': 47531, 'high': 48630, 'low': 47460, 'close': 48461.5, 'turnover': 19599575.214}, {'id': 22055630, 'symbol': 'BTCUSDT', 'period': '60', 'interval': '60', 'start_at': 1630515600, 'open_time': 1630515600, 'volume': 414.062, 'open': 48461.5, 'high': 49109.5, 'low': 46596, 'close': 48784, 'turnover': 20199600.608}, {'id': 22058122, 'symbol': 'BTCUSDT', 'period': '60', 'interval': '60', 'start_at': 1630519200, 'open_time': 1630519200, 'volume': 68.767, 'open': 48784, 'high': 48906, 'low': 48705, 'close': 48720, 'turnover': 3350328.24}, {'id': 22060656, 'symbol': 'BTCUSDT', 'period': '60', 'interval': '60', 'start_at': 1630522800, 'open_time': 1630522800, 'volume': 129.533, 'open': 48720, 'high': 48739.5, 'low': 48100, 'close': 48226.5, 'turnover': 6246923.2245}, {'id': 22063139, 'symbol': 'BTCUSDT', 'period': '60', 'interval': '60', 'start_at': 1630526400, 'open_time': 1630526400, 'volume': 104.555, 'open': 48226.5, 'high': 48300, 'low': 48205, 'close': 48292, 'turnover': 5049170.06}, {'id': 22065653, 'symbol': 'BTCUSDT', 'period': '60', 'interval': '60', 'start_at': 1630530000, 'open_time': 1630530000, 'volume': 427.923, 'open': 48292, 'high': 48551.5, 'low': 48284.5, 'close': 48454, 'turnover': 20734581.042}, {'id': 22068151, 'symbol': 'BTCUSDT', 'period': '60', 'interval': '60', 'start_at': 1630533600, 'open_time': 1630533600, 'volume': 175.494, 'open': 48454, 'high': 48758.5, 'low': 48313, 'close': 48462.5, 'turnover': 8504877.975}, {'id': 22070648, 'symbol': 'BTCUSDT', 'period': '60', 'interval': '60', 'start_at': 1630537200, 'open_time': 1630537200, 'volume': 217.703, 'open': 48462.5, 'high': 48906, 'low': 48436, 'close': 48865, 'turnover': 10638057.095}, {'id': 22073149, 'symbol': 'BTCUSDT', 'period': '60', 'interval': '60', 'start_at': 1630540800, 'open_time': 1630540800, 'volume': 339.124, 'open': 48865, 'high': 48993, 'low': 48309, 'close': 48816, 'turnover': 16554677.184}, {'id': 22075743, 'symbol': 'BTCUSDT', 'period': '60', 'interval': '60', 'start_at': 1630544400, 'open_time': 1630544400, 'volume': 678.956, 'open': 48816, 'high': 51500, 'low': 48717, 'close': 49760.5, 'turnover': 33785190.038}, {'id': 22078221, 'symbol': 'BTCUSDT', 'period': '60', 'interval': '60', 'start_at': 1630548000, 'open_time': 1630548000, 'volume': 831.178, 'open': 49760.5, 'high': 52500, 'low': 48481.5, 'close': 49656.5, 'turnover': 41273390.357}, {'id': 22080718, 'symbol': 'BTCUSDT', 'period': '60', 'interval': '60', 'start_at': 1630551600, 'open_time': 1630551600, 'volume': 60.619, 'open': 49656.5, 'high': 49694, 'low': 49643.5, 'close': 49644.5, 'turnover': 3009399.9455}, {'id': 22083186, 'symbol': 'BTCUSDT', 'period': '60', 'interval': '60', 'start_at': 1630555200, 'open_time': 1630555200, 'volume': 128.979, 'open': 49644.5, 'high': 49683.5, 'low': 49408.5, 'close': 49444.5, 'turnover': 6377302.1655}, {'id': 22085736, 'symbol': 'BTCUSDT', 'period': '60', 'interval': '60', 'start_at': 1630558800, 'open_time': 1630558800, 'volume': 67.371, 'open': 49444.5, 'high': 49707, 'low': 49444.5, 'close': 49480.5, 'turnover': 3333550.7655}, {'id': 22088219, 'symbol': 'BTCUSDT', 'period': '60', 'interval': '60', 'start_at': 1630562400, 'open_time': 1630562400, 'volume': 169.551, 'open': 49480.5, 'high': 50038, 'low': 49470, 'close': 49958, 'turnover': 8470428.858}, {'id': 22090757, 'symbol': 'BTCUSDT', 'period': '60', 'interval': '60', 'start_at': 1630566000, 'open_time': 1630566000, 'volume': 470.14, 'open': 49958, 'high': 50397.5, 'low': 49800, 'close': 49904.5, 'turnover': 23462101.63}, {'id': 22093237, 'symbol': 'BTCUSDT', 'period': '60', 'interval': '60', 'start_at': 1630569600, 'open_time': 1630569600, 'volume': 205.212, 'open': 49904.5, 'high': 50246.5, 'low': 49843.5, 'close': 50132.5, 'turnover': 10287790.59}, {'id': 22095757, 'symbol': 'BTCUSDT', 'period': '60', 'interval': '60', 'start_at': 1630573200, 'open_time': 1630573200, 'volume': 157.291, 'open': 50132.5, 'high': 50175, 'low': 49793.5, 'close': 49862, 'turnover': 7842843.842}, {'id': 22098233, 'symbol': 'BTCUSDT', 'period': '60', 'interval': '60', 'start_at': 1630576800, 'open_time': 1630576800, 'volume': 241.161, 'open': 49862, 'high': 50149.5, 'low': 49790.5, 'close': 50092, 'turnover': 12080236.812}, {'id': 22100749, 'symbol': 'BTCUSDT', 'period': '60', 'interval': '60', 'start_at': 1630580400, 'open_time': 1630580400, 'volume': 260.406, 'open': 50092, 'high': 50223.5, 'low': 49938, 'close': 50152.5, 'turnover': 13060011.915}, {'id': 22103242, 'symbol': 'BTCUSDT', 'period': '60', 'interval': '60', 'start_at': 1630584000, 'open_time': 1630584000, 'volume': 391.505, 'open': 50152.5, 'high': 50300, 'low': 49800, 'close': 50080.5, 'turnover': 19606766.1525}, {'id': 22105814, 'symbol': 'BTCUSDT', 'period': '60', 'interval': '60', 'start_at': 1630587600, 'open_time': 1630587600, 'volume': 306.838, 'open': 50080.5, 'high': 50242.5, 'low': 50022.5, 'close': 50180, 'turnover': 15397130.84}, {'id': 22108279, 'symbol': 'BTCUSDT', 'period': '60', 'interval': '60', 'start_at': 1630591200, 'open_time': 1630591200, 'volume': 581.728, 'open': 50180, 'high': 50418.5, 'low': 49507, 'close': 49576.5, 'turnover': 28840038.192}, {'id': 22110796, 'symbol': 'BTCUSDT', 'period': '60', 'interval': '60', 'start_at': 1630594800, 'open_time': 1630594800, 'volume': 371.245, 'open': 49576.5, 'high': 49792.5, 'low': 49334.5, 'close': 49611, 'turnover': 18417835.695}, {'id': 22113265, 'symbol': 'BTCUSDT', 'period': '60', 'interval': '60', 'start_at': 1630598400, 'open_time': 1630598400, 'volume': 95.629, 'open': 49611, 'high': 49793, 'low': 49519.5, 'close': 49631.5, 'turnover': 4746210.7135}, {'id': 22115812, 'symbol': 'BTCUSDT', 'period': '60', 'interval': '60', 'start_at': 1630602000, 'open_time': 1630602000, 'volume': 94.172, 'open': 49631.5, 'high': 49640, 'low': 49372.5, 'close': 49569.5, 'turnover': 4668058.954}, {'id': 22118298, 'symbol': 'BTCUSDT', 'period': '60', 'interval': '60', 'start_at': 1630605600, 'open_time': 1630605600, 'volume': 105.631, 'open': 49569.5, 'high': 49615.5, 'low': 49242, 'close': 49409.5, 'turnover': 5219174.8945}, {'id': 22120831, 'symbol': 'BTCUSDT', 'period': '60', 'interval': '60', 'start_at': 1630609200, 'open_time': 1630609200, 'volume': 80.946, 'open': 49409.5, 'high': 49459.5, 'low': 49279.5, 'close': 49374.5, 'turnover': 3996668.277}, {'id': 22123316, 'symbol': 'BTCUSDT', 'period': '60', 'interval': '60', 'start_at': 1630612800, 'open_time': 1630612800, 'volume': 108.409, 'open': 49374.5, 'high': 49653, 'low': 49325, 'close': 49590.5, 'turnover': 5376056.5145}, {'id': 22125830, 'symbol': 'BTCUSDT', 'period': '60', 'interval': '60', 'start_at': 1630616400, 'open_time': 1630616400, 'volume': 75.355, 'open': 49590.5, 'high': 49867, 'low': 49581.5, 'close': 49850, 'turnover': 3756446.75}, {'id': 22128334, 'symbol': 'BTCUSDT', 'period': '60', 'interval': '60', 'start_at': 1630620000, 'open_time': 1630620000, 'volume': 80.74, 'open': 49850, 'high': 49855.5, 'low': 49678, 'close': 49751, 'turnover': 4016895.74}, {'id': 22130828, 'symbol': 'BTCUSDT', 'period': '60', 'interval': '60', 'start_at': 1630623600, 'open_time': 1630623600, 'volume': 352.213, 'open': 49751, 'high': 49794, 'low': 49302.5, 'close': 49328, 'turnover': 17373962.864}, {'id': 22133326, 'symbol': 'BTCUSDT', 'period': '60', 'interval': '60', 'start_at': 1630627200, 'open_time': 1630627200, 'volume': 783.972, 'open': 49328, 'high': 50292, 'low': 47623, 'close': 48602, 'turnover': 38102607.144}, {'id': 22135939, 'symbol': 'BTCUSDT', 'period': '60', 'interval': '60', 'start_at': 1630630800, 'open_time': 1630630800, 'volume': 296.734, 'open': 48602, 'high': 48666.5, 'low': 47436, 'close': 48570, 'turnover': 14412370.38}, {'id': 22138416, 'symbol': 'BTCUSDT', 'period': '60', 'interval': '60', 'start_at': 1630634400, 'open_time': 1630634400, 'volume': 178.485, 'open': 48570, 'high': 49000, 'low': 48528.5, 'close': 48985, 'turnover': 8743087.725}, {'id': 22140947, 'symbol': 'BTCUSDT', 'period': '60', 'interval': '60', 'start_at': 1630638000, 'open_time': 1630638000, 'volume': 140.07, 'open': 48985, 'high': 49534, 'low': 48950.5, 'close': 49492.5, 'turnover': 6932414.475}, {'id': 22143417, 'symbol': 'BTCUSDT', 'period': '60', 'interval': '60', 'start_at': 1630641600, 'open_time': 1630641600, 'volume': 162.812, 'open': 49492.5, 'high': 49773.5, 'low': 49433.5, 'close': 49734.5, 'turnover': 8097373.414}, {'id': 22145934, 'symbol': 'BTCUSDT', 'period': '60', 'interval': '60', 'start_at': 1630645200, 'open_time': 1630645200, 'volume': 90.446, 'open': 49734.5, 'high': 49753, 'low': 49432, 'close': 49507, 'turnover': 4477710.122}, {'id': 22148420, 'symbol': 'BTCUSDT', 'period': '60', 'interval': '60', 'start_at': 1630648800, 'open_time': 1630648800, 'volume': 76.206, 'open': 49507, 'high': 49627, 'low': 49347.5, 'close': 49436.5, 'turnover': 3767357.919}, {'id': 22150953, 'symbol': 'BTCUSDT', 'period': '60', 'interval': '60', 'start_at': 1630652400, 'open_time': 1630652400, 'volume': 115.678, 'open': 49436.5, 'high': 49520.5, 'low': 49258, 'close': 49337, 'turnover': 5707205.486}, {'id': 22153435, 'symbol': 'BTCUSDT', 'period': '60', 'interval': '60', 'start_at': 1630656000, 'open_time': 1630656000, 'volume': 479.077, 'open': 49337, 'high': 56668, 'low': 47992.5, 'close': 50031.5, 'turnover': 23968940.9255}, {'id': 22155948, 'symbol': 'BTCUSDT', 'period': '60', 'interval': '60', 'start_at': 1630659600, 'open_time': 1630659600, 'volume': 143.242, 'open': 50031.5, 'high': 50143.5, 'low': 49874, 'close': 50138, 'turnover': 7181867.396}, {'id': 22158446, 'symbol': 'BTCUSDT', 'period': '60', 'interval': '60', 'start_at': 1630663200, 'open_time': 1630663200, 'volume': 402.542, 'open': 50138, 'high': 53000, 'low': 49692.5, 'close': 49843, 'turnover': 20063900.906}, {'id': 22160945, 'symbol': 'BTCUSDT', 'period': '60', 'interval': '60', 'start_at': 1630666800, 'open_time': 1630666800, 'volume': 98.587, 'open': 49843, 'high': 50250, 'low': 49595, 'close': 50215.5, 'turnover': 4950595.4985}, {'id': 22163408, 'symbol': 'BTCUSDT', 'period': '60', 'interval': '60', 'start_at': 1630670400, 'open_time': 1630670400, 'volume': 220.22, 'open': 50215.5, 'high': 50953, 'low': 49937.5, 'close': 50711, 'turnover': 11167576.42}, {'id': 22166015, 'symbol': 'BTCUSDT', 'period': '60', 'interval': '60', 'start_at': 1630674000, 'open_time': 1630674000, 'volume': 147.007, 'open': 50711, 'high': 50987, 'low': 50623, 'close': 50773.5, 'turnover': 7464059.9145}, {'id': 22168492, 'symbol': 'BTCUSDT', 'period': '60', 'interval': '60', 'start_at': 1630677600, 'open_time': 1630677600, 'volume': 405.298, 'open': 50773.5, 'high': 51103, 'low': 47700, 'close': 50755, 'turnover': 20570899.99}, {'id': 22170992, 'symbol': 'BTCUSDT', 'period': '60', 'interval': '60', 'start_at': 1630681200, 'open_time': 1630681200, 'volume': 194.449, 'open': 50755, 'high': 50880.5, 'low': 50600.5, 'close': 50641.5, 'turnover': 9847189.0335}, {'id': 22173496, 'symbol': 'BTCUSDT', 'period': '60', 'interval': '60', 'start_at': 1630684800, 'open_time': 1630684800, 'volume': 242.204, 'open': 50641.5, 'high': 51180, 'low': 50548, 'close': 50554.5, 'turnover': 12244502.118}, {'id': 22176008, 'symbol': 'BTCUSDT', 'period': '60', 'interval': '60', 'start_at': 1630688400, 'open_time': 1630688400, 'volume': 87.63, 'open': 50554.5, 'high': 50654.5, 'low': 50425, 'close': 50486, 'turnover': 4424088.18}, {'id': 22178483, 'symbol': 'BTCUSDT', 'period': '60', 'interval': '60', 'start_at': 1630692000, 'open_time': 1630692000, 'volume': 165.909, 'open': 50486, 'high': 50618.5, 'low': 50327, 'close': 50531, 'turnover': 8383547.679}, {'id': 22181024, 'symbol': 'BTCUSDT', 'period': '60', 'interval': '60', 'start_at': 1630695600, 'open_time': 1630695600, 'volume': 132.205, 'open': 50531, 'high': 50587, 'low': 50342.5, 'close': 50586, 'turnover': 6687722.13}, {'id': 22183508, 'symbol': 'BTCUSDT', 'period': '60', 'interval': '60', 'start_at': 1630699200, 'open_time': 1630699200, 'volume': 104.062, 'open': 50586, 'high': 50586, 'low': 50119, 'close': 50229, 'turnover': 5226930.198}, {'id': 22186026, 'symbol': 'BTCUSDT', 'period': '60', 'interval': '60', 'start_at': 1630702800, 'open_time': 1630702800, 'volume': 81.699, 'open': 50229, 'high': 50306, 'low': 50104.5, 'close': 50298.5, 'turnover': 4109337.1515}, {'id': 22188525, 'symbol': 'BTCUSDT', 'period': '60', 'interval': '60', 'start_at': 1630706400, 'open_time': 1630706400, 'volume': 117.468, 'open': 50298.5, 'high': 50298.5, 'low': 49656, 'close': 49726.5, 'turnover': 5841272.502}, {'id': 22191025, 'symbol': 'BTCUSDT', 'period': '60', 'interval': '60', 'start_at': 1630710000, 'open_time': 1630710000, 'volume': 243.487, 'open': 49726.5, 'high': 50072, 'low': 49637, 'close': 50028.5, 'turnover': 12181289.3795}, {'id': 22193525, 'symbol': 'BTCUSDT', 'period': '60', 'interval': '60', 'start_at': 1630713600, 'open_time': 1630713600, 'volume': 121.293, 'open': 50028.5, 'high': 50168.5, 'low': 49744, 'close': 49959.5, 'turnover': 6059737.6335}, {'id': 22196092, 'symbol': 'BTCUSDT', 'period': '60', 'interval': '60', 'start_at': 1630717200, 'open_time': 1630717200, 'volume': 113.533, 'open': 49959.5, 'high': 49959.5, 'low': 49620.5, 'close': 49744, 'turnover': 5647585.552}, {'id': 22198596, 'symbol': 'BTCUSDT', 'period': '60', 'interval': '60', 'start_at': 1630720800, 'open_time': 1630720800, 'volume': 106.066, 'open': 49744, 'high': 50100, 'low': 49645.5, 'close': 50100, 'turnover': 5313906.6}, {'id': 22201068, 'symbol': 'BTCUSDT', 'period': '60', 'interval': '60', 'start_at': 1630724400, 'open_time': 1630724400, 'volume': 250.4, 'open': 50100, 'high': 51700, 'low': 50071.5, 'close': 50325.5, 'turnover': 12601505.2}, {'id': 22203567, 'symbol': 'BTCUSDT', 'period': '60', 'interval': '60', 'start_at': 1630728000, 'open_time': 1630728000, 'volume': 153.132, 'open': 50325.5, 'high': 50473.5, 'low': 50267, 'close': 50402, 'turnover': 7718159.064}, {'id': 22206106, 'symbol': 'BTCUSDT', 'period': '60', 'interval': '60', 'start_at': 1630731600, 'open_time': 1630731600, 'volume': 107.557, 'open': 50402, 'high': 50402, 'low': 50253, 'close': 50318.5, 'turnover': 5412106.9045}, {'id': 22208565, 'symbol': 'BTCUSDT', 'period': '60', 'interval': '60', 'start_at': 1630735200, 'open_time': 1630735200, 'volume': 111.318, 'open': 50318.5, 'high': 50385.5, 'low': 50252.5, 'close': 50370, 'turnover': 5607087.66}, {'id': 22211130, 'symbol': 'BTCUSDT', 'period': '60', 'interval': '60', 'start_at': 1630738800, 'open_time': 1630738800, 'volume': 176.045, 'open': 50370, 'high': 50452.5, 'low': 50178, 'close': 50244.5, 'turnover': 8845293.0025}, {'id': 22213612, 'symbol': 'BTCUSDT', 'period': '60', 'interval': '60', 'start_at': 1630742400, 'open_time': 1630742400, 'volume': 81.613, 'open': 50244.5, 'high': 50244.5, 'low': 50018.5, 'close': 50169.5, 'turnover': 4094483.4035}, {'id': 22216128, 'symbol': 'BTCUSDT', 'period': '60', 'interval': '60', 'start_at': 1630746000, 'open_time': 1630746000, 'volume': 80.614, 'open': 50169.5, 'high': 50426, 'low': 50146.5, 'close': 50426, 'turnover': 4065041.564}, {'id': 22218626, 'symbol': 'BTCUSDT', 'period': '60', 'interval': '60', 'start_at': 1630749600, 'open_time': 1630749600, 'volume': 119.409, 'open': 50426, 'high': 50526, 'low': 49852.5, 'close': 49868.5, 'turnover': 5954747.7165}, {'id': 22221123, 'symbol': 'BTCUSDT', 'period': '60', 'interval': '60', 'start_at': 1630753200, 'open_time': 1630753200, 'volume': 135.811, 'open': 49868.5, 'high': 50053.5, 'low': 49769.5, 'close': 49932.5, 'turnover': 6781382.7575}, {'id': 22223618, 'symbol': 'BTCUSDT', 'period': '60', 'interval': '60', 'start_at': 1630756800, 'open_time': 1630756800, 'volume': 138.58, 'open': 49932.5, 'high': 50360.5, 'low': 49930.5, 'close': 50294, 'turnover': 6969742.52}, {'id': 22226193, 'symbol': 'BTCUSDT', 'period': '60', 'interval': '60', 'start_at': 1630760400, 'open_time': 1630760400, 'volume': 214.011, 'open': 50294, 'high': 50322.5, 'low': 50129, 'close': 50251, 'turnover': 10754266.761}, {'id': 22228673, 'symbol': 'BTCUSDT', 'period': '60', 'interval': '60', 'start_at': 1630764000, 'open_time': 1630764000, 'volume': 199.526, 'open': 50251, 'high': 50251, 'low': 49894, 'close': 50016, 'turnover': 9979492.416}, {'id': 22231167, 'symbol': 'BTCUSDT', 'period': '60', 'interval': '60', 'start_at': 1630767600, 'open_time': 1630767600, 'volume': 725.181, 'open': 50016, 'high': 50165, 'low': 49795.5, 'close': 49911, 'turnover': 36194508.891}, {'id': 22233671, 'symbol': 'BTCUSDT', 'period': '60', 'interval': '60', 'start_at': 1630771200, 'open_time': 1630771200, 'volume': 100.498, 'open': 49911, 'high': 50077.5, 'low': 49828, 'close': 49858, 'turnover': 5010629.284}, {'id': 22236187, 'symbol': 'BTCUSDT', 'period': '60', 'interval': '60', 'start_at': 1630774800, 'open_time': 1630774800, 'volume': 211.941, 'open': 49858, 'high': 50007, 'low': 49471.5, 'close': 50007, 'turnover': 10598533.587}, {'id': 22238659, 'symbol': 'BTCUSDT', 'period': '60', 'interval': '60', 'start_at': 1630778400, 'open_time': 1630778400, 'volume': 108.245, 'open': 50007, 'high': 50050, 'low': 49895, 'close': 49922, 'turnover': 5403806.89}, {'id': 22241206, 'symbol': 'BTCUSDT', 'period': '60', 'interval': '60', 'start_at': 1630782000, 'open_time': 1630782000, 'volume': 101.877, 'open': 49922, 'high': 50046.5, 'low': 49669.5, 'close': 50035, 'turnover': 5097415.695}, {'id': 22243691, 'symbol': 'BTCUSDT', 'period': '60', 'interval': '60', 'start_at': 1630785600, 'open_time': 1630785600, 'volume': 123.629, 'open': 50035, 'high': 50268, 'low': 50021, 'close': 50218.5, 'turnover': 6208462.9365}, {'id': 22246206, 'symbol': 'BTCUSDT', 'period': '60', 'interval': '60', 'start_at': 1630789200, 'open_time': 1630789200, 'volume': 51.46, 'open': 50218.5, 'high': 50265, 'low': 50134, 'close': 50257.5, 'turnover': 2586250.95}, {'id': 22248704, 'symbol': 'BTCUSDT', 'period': '60', 'interval': '60', 'start_at': 1630792800, 'open_time': 1630792800, 'volume': 104.462, 'open': 50257.5, 'high': 50311, 'low': 49938, 'close': 49950.5, 'turnover': 5217929.131}, {'id': 22251199, 'symbol': 'BTCUSDT', 'period': '60', 'interval': '60', 'start_at': 1630796400, 'open_time': 1630796400, 'volume': 127.052, 'open': 49950.5, 'high': 50049, 'low': 49785.5, 'close': 49960, 'turnover': 6347517.92}, {'id': 22253702, 'symbol': 'BTCUSDT', 'period': '60', 'interval': '60', 'start_at': 1630800000, 'open_time': 1630800000, 'volume': 270.465, 'open': 49960, 'high': 50276.5, 'low': 49550.5, 'close': 50212, 'turnover': 13580588.58}, {'id': 22256293, 'symbol': 'BTCUSDT', 'period': '60', 'interval': '60', 'start_at': 1630803600, 'open_time': 1630803600, 'volume': 106.057, 'open': 50212, 'high': 50244.5, 'low': 50000, 'close': 50169, 'turnover': 5320773.633}, {'id': 22258771, 'symbol': 'BTCUSDT', 'period': '60', 'interval': '60', 'start_at': 1630807200, 'open_time': 1630807200, 'volume': 127.089, 'open': 50169, 'high': 50280, 'low': 50142.5, 'close': 50207.5, 'turnover': 6380820.9675}, {'id': 22261268, 'symbol': 'BTCUSDT', 'period': '60', 'interval': '60', 'start_at': 1630810800, 'open_time': 1630810800, 'volume': 156.33, 'open': 50207.5, 'high': 50207.5, 'low': 49708.5, 'close': 49713, 'turnover': 7771633.29}, {'id': 22263739, 'symbol': 'BTCUSDT', 'period': '60', 'interval': '60', 'start_at': 1630814400, 'open_time': 1630814400, 'volume': 98.121, 'open': 49713, 'high': 49891.5, 'low': 49693, 'close': 49862, 'turnover': 4892509.302}, {'id': 22266286, 'symbol': 'BTCUSDT', 'period': '60', 'interval': '60', 'start_at': 1630818000, 'open_time': 1630818000, 'volume': 94.724, 'open': 49862, 'high': 49883.5, 'low': 49675, 'close': 49731, 'turnover': 4710719.244}, {'id': 22268752, 'symbol': 'BTCUSDT', 'period': '60', 'interval': '60', 'start_at': 1630821600, 'open_time': 1630821600, 'volume': 80.88, 'open': 49731, 'high': 49948.5, 'low': 49529.5, 'close': 49880.5, 'turnover': 4034334.84}, {'id': 22271306, 'symbol': 'BTCUSDT', 'period': '60', 'interval': '60', 'start_at': 1630825200, 'open_time': 1630825200, 'volume': 235.903, 'open': 49880.5, 'high': 50023.5, 'low': 49880, 'close': 49902.5, 'turnover': 11772149.4575}, {'id': 22273789, 'symbol': 'BTCUSDT', 'period': '60', 'interval': '60', 'start_at': 1630828800, 'open_time': 1630828800, 'volume': 96.131, 'open': 49902.5, 'high': 50173, 'low': 49896, 'close': 50173, 'turnover': 4823180.663}, {'id': 22276306, 'symbol': 'BTCUSDT', 'period': '60', 'interval': '60', 'start_at': 1630832400, 'open_time': 1630832400, 'volume': 167.214, 'open': 50173, 'high': 50269, 'low': 50094.5, 'close': 50219, 'turnover': 8397319.866}, {'id': 22278805, 'symbol': 'BTCUSDT', 'period': '60', 'interval': '60', 'start_at': 1630836000, 'open_time': 1630836000, 'volume': 153.585, 'open': 50219, 'high': 50293.5, 'low': 50012.5, 'close': 50058.5, 'turnover': 7688234.7225}, {'id': 22281288, 'symbol': 'BTCUSDT', 'period': '60', 'interval': '60', 'start_at': 1630839600, 'open_time': 1630839600, 'volume': 111.13, 'open': 50058.5, 'high': 50426, 'low': 49956, 'close': 50230, 'turnover': 5582059.9}, {'id': 22283794, 'symbol': 'BTCUSDT', 'period': '60', 'interval': '60', 'start_at': 1630843200, 'open_time': 1630843200, 'volume': 286.364, 'open': 50230, 'high': 50299.5, 'low': 50067.5, 'close': 50146, 'turnover': 14360009.144}, {'id': 22286370, 'symbol': 'BTCUSDT', 'period': '60', 'interval': '60', 'start_at': 1630846800, 'open_time': 1630846800, 'volume': 89.226, 'open': 50146, 'high': 50251, 'low': 50102.5, 'close': 50232.5, 'turnover': 4482045.045}, {'id': 22288833, 'symbol': 'BTCUSDT', 'period': '60', 'interval': '60', 'start_at': 1630850400, 'open_time': 1630850400, 'volume': 204.387, 'open': 50232.5, 'high': 50520, 'low': 50197, 'close': 50268.5, 'turnover': 10274227.9095}, {'id': 22291343, 'symbol': 'BTCUSDT', 'period': '60', 'interval': '60', 'start_at': 1630854000, 'open_time': 1630854000, 'volume': 69.486, 'open': 50268.5, 'high': 50364.5, 'low': 50118.5, 'close': 50251, 'turnover': 3491740.986}, {'id': 22293849, 'symbol': 'BTCUSDT', 'period': '60', 'interval': '60', 'start_at': 1630857600, 'open_time': 1630857600, 'volume': 242.023, 'open': 50251, 'high': 50394.5, 'low': 50171, 'close': 50394.5, 'turnover': 12196628.0735}, {'id': 22296362, 'symbol': 'BTCUSDT', 'period': '60', 'interval': '60', 'start_at': 1630861200, 'open_time': 1630861200, 'volume': 82.2, 'open': 50394.5, 'high': 50440.5, 'low': 50334, 'close': 50357, 'turnover': 4139345.4}, {'id': 22298845, 'symbol': 'BTCUSDT', 'period': '60', 'interval': '60', 'start_at': 1630864800, 'open_time': 1630864800, 'volume': 58.202, 'open': 50357, 'high': 50476, 'low': 50310.5, 'close': 50463.5, 'turnover': 2937076.627}, {'id': 22301384, 'symbol': 'BTCUSDT', 'period': '60', 'interval': '60', 'start_at': 1630868400, 'open_time': 1630868400, 'volume': 122.51, 'open': 50463.5, 'high': 50941, 'low': 50419.5, 'close': 50725, 'turnover': 6214319.75}, {'id': 22303868, 'symbol': 'BTCUSDT', 'period': '60', 'interval': '60', 'start_at': 1630872000, 'open_time': 1630872000, 'volume': 445.039, 'open': 50725, 'high': 51824.5, 'low': 50710.5, 'close': 51757, 'turnover': 23033883.523}, {'id': 22306379, 'symbol': 'BTCUSDT', 'period': '60', 'interval': '60', 'start_at': 1630875600, 'open_time': 1630875600, 'volume': 193.303, 'open': 51757, 'high': 51967.5, 'low': 51610, 'close': 51798, 'turnover': 10012708.794}, {'id': 22308880, 'symbol': 'BTCUSDT', 'period': '60', 'interval': '60', 'start_at': 1630879200, 'open_time': 1630879200, 'volume': 270.363, 'open': 51798, 'high': 51900, 'low': 51656.5, 'close': 51851.5, 'turnover': 14018727.0945}, {'id': 22311394, 'symbol': 'BTCUSDT', 'period': '60', 'interval': '60', 'start_at': 1630882800, 'open_time': 1630882800, 'volume': 124.336, 'open': 51851.5, 'high': 51900, 'low': 51677, 'close': 51816, 'turnover': 6442594.176}, {'id': 22313886, 'symbol': 'BTCUSDT', 'period': '60', 'interval': '60', 'start_at': 1630886400, 'open_time': 1630886400, 'volume': 345.867, 'open': 51816, 'high': 51900, 'low': 51610.5, 'close': 51826.5, 'turnover': 17925076.0755}, {'id': 22316488, 'symbol': 'BTCUSDT', 'period': '60', 'interval': '60', 'start_at': 1630890000, 'open_time': 1630890000, 'volume': 64.847, 'open': 51826.5, 'high': 51915.5, 'low': 51748, 'close': 51857.5, 'turnover': 3362803.3025}, {'id': 22318995, 'symbol': 'BTCUSDT', 'period': '60', 'interval': '60', 'start_at': 1630893600, 'open_time': 1630893600, 'volume': 84.388, 'open': 51857.5, 'high': 51874.5, 'low': 51667.5, 'close': 51686, 'turnover': 4361678.168}, {'id': 22321488, 'symbol': 'BTCUSDT', 'period': '60', 'interval': '60', 'start_at': 1630897200, 'open_time': 1630897200, 'volume': 92.33, 'open': 51686, 'high': 51776.5, 'low': 51542.5, 'close': 51648, 'turnover': 4768659.84}, {'id': 22323996, 'symbol': 'BTCUSDT', 'period': '60', 'interval': '60', 'start_at': 1630900800, 'open_time': 1630900800, 'volume': 86.712, 'open': 51648, 'high': 51778, 'low': 51618.5, 'close': 51760.5, 'turnover': 4488256.476}, {'id': 22326503, 'symbol': 'BTCUSDT', 'period': '60', 'interval': '60', 'start_at': 1630904400, 'open_time': 1630904400, 'volume': 49.659, 'open': 51760.5, 'high': 51796.5, 'low': 51685.5, 'close': 51796, 'turnover': 2572137.564}, {'id': 22328993, 'symbol': 'BTCUSDT', 'period': '60', 'interval': '60', 'start_at': 1630908000, 'open_time': 1630908000, 'volume': 55.619, 'open': 51796, 'high': 51924, 'low': 51795.5, 'close': 51881, 'turnover': 2885569.339}, {'id': 22331527, 'symbol': 'BTCUSDT', 'period': '60', 'interval': '60', 'start_at': 1630911600, 'open_time': 1630911600, 'volume': 106.711, 'open': 51881, 'high': 52000, 'low': 51797, 'close': 51851.5, 'turnover': 5533125.4165}, {'id': 22333995, 'symbol': 'BTCUSDT', 'period': '60', 'interval': '60', 'start_at': 1630915200, 'open_time': 1630915200, 'volume': 53.042, 'open': 51851.5, 'high': 51852, 'low': 51722.5, 'close': 51724.5, 'turnover': 2743570.929}, {'id': 22336527, 'symbol': 'BTCUSDT', 'period': '60', 'interval': '60', 'start_at': 1630918800, 'open_time': 1630918800, 'volume': 52.195, 'open': 51724.5, 'high': 51914.5, 'low': 51719.5, 'close': 51905, 'turnover': 2709181.475}, {'id': 22339001, 'symbol': 'BTCUSDT', 'period': '60', 'interval': '60', 'start_at': 1630922400, 'open_time': 1630922400, 'volume': 33.557, 'open': 51905, 'high': 51905.5, 'low': 51812, 'close': 51813.5, 'turnover': 1738705.6195}, {'id': 22341495, 'symbol': 'BTCUSDT', 'period': '60', 'interval': '60', 'start_at': 1630926000, 'open_time': 1630926000, 'volume': 521.792, 'open': 51813.5, 'high': 52280.5, 'low': 47111, 'close': 51419.5, 'turnover': 26830283.744}, {'id': 22344018, 'symbol': 'BTCUSDT', 'period': '60', 'interval': '60', 'start_at': 1630929600, 'open_time': 1630929600, 'volume': 131.879, 'open': 51419.5, 'high': 51545, 'low': 51065.5, 'close': 51364.5, 'turnover': 6773898.8955}, {'id': 22346587, 'symbol': 'BTCUSDT', 'period': '60', 'interval': '60', 'start_at': 1630933200, 'open_time': 1630933200, 'volume': 154.671, 'open': 51364.5, 'high': 51549, 'low': 51220, 'close': 51532.5, 'turnover': 7970583.3075}, {'id': 22349072, 'symbol': 'BTCUSDT', 'period': '60', 'interval': '60', 'start_at': 1630936800, 'open_time': 1630936800, 'volume': 99.856, 'open': 51532.5, 'high': 51756, 'low': 51501.5, 'close': 51711.5, 'turnover': 5163703.544}, {'id': 22351545, 'symbol': 'BTCUSDT', 'period': '60', 'interval': '60', 'start_at': 1630940400, 'open_time': 1630940400, 'volume': 128.654, 'open': 51711.5, 'high': 51728, 'low': 51588, 'close': 51647, 'turnover': 6644593.138}, {'id': 22354069, 'symbol': 'BTCUSDT', 'period': '60', 'interval': '60', 'start_at': 1630944000, 'open_time': 1630944000, 'volume': 67.003, 'open': 51647, 'high': 51767.5, 'low': 51562.5, 'close': 51585, 'turnover': 3456349.755}, {'id': 22356585, 'symbol': 'BTCUSDT', 'period': '60', 'interval': '60', 'start_at': 1630947600, 'open_time': 1630947600, 'volume': 59.536, 'open': 51585, 'high': 51745.5, 'low': 51583.5, 'close': 51713.5, 'turnover': 3078814.936}, {'id': 22359069, 'symbol': 'BTCUSDT', 'period': '60', 'interval': '60', 'start_at': 1630951200, 'open_time': 1630951200, 'volume': 71.693, 'open': 51713.5, 'high': 51920, 'low': 51654, 'close': 51883, 'turnover': 3719647.919}, {'id': 22361604, 'symbol': 'BTCUSDT', 'period': '60', 'interval': '60', 'start_at': 1630954800, 'open_time': 1630954800, 'volume': 115.834, 'open': 51883, 'high': 52093.5, 'low': 51772, 'close': 51815, 'turnover': 6001938.71}, {'id': 22364062, 'symbol': 'BTCUSDT', 'period': '60', 'interval': '60', 'start_at': 1630958400, 'open_time': 1630958400, 'volume': 93.073, 'open': 51815, 'high': 51987, 'low': 51691, 'close': 51944, 'turnover': 4834583.912}, {'id': 22366602, 'symbol': 'BTCUSDT', 'period': '60', 'interval': '60', 'start_at': 1630962000, 'open_time': 1630962000, 'volume': 115.403, 'open': 51944, 'high': 52154, 'low': 51928.5, 'close': 52129.5, 'turnover': 6015900.6885}, {'id': 22369103, 'symbol': 'BTCUSDT', 'period': '60', 'interval': '60', 'start_at': 1630965600, 'open_time': 1630965600, 'volume': 274.226, 'open': 52129.5, 'high': 52700.5, 'low': 52129.5, 'close': 52543.5, 'turnover': 14408793.831}, {'id': 22371589, 'symbol': 'BTCUSDT', 'period': '60', 'interval': '60', 'start_at': 1630969200, 'open_time': 1630969200, 'volume': 204.646, 'open': 52543.5, 'high': 52850, 'low': 52400.5, 'close': 52701, 'turnover': 10785048.846}, {'id': 22374044, 'symbol': 'BTCUSDT', 'period': '60', 'interval': '60', 'start_at': 1630972800, 'open_time': 1630972800, 'volume': 66.453, 'open': 52701, 'high': 52739, 'low': 52433.5, 'close': 52524.5, 'turnover': 3490410.5985}, {'id': 22376659, 'symbol': 'BTCUSDT', 'period': '60', 'interval': '60', 'start_at': 1630976400, 'open_time': 1630976400, 'volume': 92.728, 'open': 52524.5, 'high': 52693.5, 'low': 52495, 'close': 52509, 'turnover': 4869054.552}, {'id': 22379170, 'symbol': 'BTCUSDT', 'period': '60', 'interval': '60', 'start_at': 1630980000, 'open_time': 1630980000, 'volume': 57.34, 'open': 52509, 'high': 52827, 'low': 52509, 'close': 52738.5, 'turnover': 3024025.59}, {'id': 22381667, 'symbol': 'BTCUSDT', 'period': '60', 'interval': '60', 'start_at': 1630983600, 'open_time': 1630983600, 'volume': 159.733, 'open': 52738.5, 'high': 53500, 'low': 52694, 'close': 52709.5, 'turnover': 8419446.5635}, {'id': 22384171, 'symbol': 'BTCUSDT', 'period': '60', 'interval': '60', 'start_at': 1630987200, 'open_time': 1630987200, 'volume': 124.739, 'open': 52709.5, 'high': 52713, 'low': 52542, 'close': 52570.5, 'turnover': 6557591.5995}, {'id': 22386658, 'symbol': 'BTCUSDT', 'period': '60', 'interval': '60', 'start_at': 1630990800, 'open_time': 1630990800, 'volume': 90.718, 'open': 52570.5, 'high': 52725.5, 'low': 52442.5, 'close': 52725.5, 'turnover': 4783151.909}, {'id': 22389170, 'symbol': 'BTCUSDT', 'period': '60', 'interval': '60', 'start_at': 1630994400, 'open_time': 1630994400, 'volume': 98.409, 'open': 52725.5, 'high': 52734, 'low': 52460, 'close': 52460, 'turnover': 5162536.14}, {'id': 22391698, 'symbol': 'BTCUSDT', 'period': '60', 'interval': '60', 'start_at': 1630998000, 'open_time': 1630998000, 'volume': 126.819, 'open': 52460, 'high': 52475, 'low': 52198, 'close': 52375.5, 'turnover': 6642208.5345}, {'id': 22394187, 'symbol': 'BTCUSDT', 'period': '60', 'interval': '60', 'start_at': 1631001600, 'open_time': 1631001600, 'volume': 329.986, 'open': 52375.5, 'high': 53500, 'low': 51280.5, 'close': 51328.5, 'turnover': 16937686.401}, {'id': 22396703, 'symbol': 'BTCUSDT', 'period': '60', 'interval': '60', 'start_at': 1631005200, 'open_time': 1631005200, 'volume': 469.534, 'open': 51328.5, 'high': 51477.5, 'low': 50597, 'close': 50870, 'turnover': 23885194.58}, {'id': 22399215, 'symbol': 'BTCUSDT', 'period': '60', 'interval': '60', 'start_at': 1631008800, 'open_time': 1631008800, 'volume': 170.613, 'open': 50870, 'high': 51246.5, 'low': 50870, 'close': 51148.5, 'turnover': 8726599.0305}, {'id': 22401696, 'symbol': 'BTCUSDT', 'period': '60', 'interval': '60', 'start_at': 1631012400, 'open_time': 1631012400, 'volume': 82.959, 'open': 51148.5, 'high': 51204, 'low': 50975, 'close': 51043.5, 'turnover': 4234517.7165}, {'id': 22404180, 'symbol': 'BTCUSDT', 'period': '60', 'interval': '60', 'start_at': 1631016000, 'open_time': 1631016000, 'volume': 252.662, 'open': 51043.5, 'high': 51097, 'low': 50659.5, 'close': 51007, 'turnover': 12887530.634}, {'id': 22406768, 'symbol': 'BTCUSDT', 'period': '60', 'interval': '60', 'start_at': 1631019600, 'open_time': 1631019600, 'volume': 201.28, 'open': 51007, 'high': 51095.5, 'low': 50650, 'close': 50650, 'turnover': 10194832}, {'id': 22409247, 'symbol': 'BTCUSDT', 'period': '60', 'interval': '60', 'start_at': 1631023200, 'open_time': 1631023200, 'volume': 1185.497, 'open': 50650, 'high': 50792, 'low': 47200, 'close': 47200.5, 'turnover': 55956051.1485}, {'id': 22411714, 'symbol': 'BTCUSDT', 'period': '60', 'interval': '60', 'start_at': 1631026800, 'open_time': 1631026800, 'volume': 1753.12, 'open': 47200.5, 'high': 49562, 'low': 42532, 'close': 46709, 'turnover': 81886482.08}, {'id': 22414213, 'symbol': 'BTCUSDT', 'period': '60', 'interval': '60', 'start_at': 1631030400, 'open_time': 1631030400, 'volume': 313.022, 'open': 46709, 'high': 49397, 'low': 46429, 'close': 47477.5, 'turnover': 14861502.005}, {'id': 22416761, 'symbol': 'BTCUSDT', 'period': '60', 'interval': '60', 'start_at': 1631034000, 'open_time': 1631034000, 'volume': 104.576, 'open': 47477.5, 'high': 47535, 'low': 46638.5, 'close': 46685, 'turnover': 4882130.56}, {'id': 22419240, 'symbol': 'BTCUSDT', 'period': '60', 'interval': '60', 'start_at': 1631037600, 'open_time': 1631037600, 'volume': 93.299, 'open': 46685, 'high': 46831.5, 'low': 46020, 'close': 46494, 'turnover': 4337843.706}]\n",
      "172\n"
     ]
    }
   ],
   "source": [
    "# resultだけを取ってくる\n",
    "Data = Historical_data[0]['result']\n",
    "print(Data)\n",
    "print(len(Data))"
   ]
  },
  {
   "cell_type": "code",
   "execution_count": 21,
   "id": "5fa5baea",
   "metadata": {},
   "outputs": [
    {
     "data": {
      "text/html": [
       "<div>\n",
       "<style scoped>\n",
       "    .dataframe tbody tr th:only-of-type {\n",
       "        vertical-align: middle;\n",
       "    }\n",
       "\n",
       "    .dataframe tbody tr th {\n",
       "        vertical-align: top;\n",
       "    }\n",
       "\n",
       "    .dataframe thead th {\n",
       "        text-align: right;\n",
       "    }\n",
       "</style>\n",
       "<table border=\"1\" class=\"dataframe\">\n",
       "  <thead>\n",
       "    <tr style=\"text-align: right;\">\n",
       "      <th></th>\n",
       "      <th>open</th>\n",
       "      <th>high</th>\n",
       "      <th>low</th>\n",
       "      <th>close</th>\n",
       "      <th>volume</th>\n",
       "    </tr>\n",
       "    <tr>\n",
       "      <th>date</th>\n",
       "      <th></th>\n",
       "      <th></th>\n",
       "      <th></th>\n",
       "      <th></th>\n",
       "      <th></th>\n",
       "    </tr>\n",
       "  </thead>\n",
       "  <tbody>\n",
       "    <tr>\n",
       "      <th>2021-09-01 00:00:00</th>\n",
       "      <td>47256.0</td>\n",
       "      <td>47484.5</td>\n",
       "      <td>47242.0</td>\n",
       "      <td>47443.0</td>\n",
       "      <td>124.369</td>\n",
       "    </tr>\n",
       "    <tr>\n",
       "      <th>2021-09-01 01:00:00</th>\n",
       "      <td>47443.0</td>\n",
       "      <td>47580.0</td>\n",
       "      <td>47323.5</td>\n",
       "      <td>47387.0</td>\n",
       "      <td>165.491</td>\n",
       "    </tr>\n",
       "    <tr>\n",
       "      <th>2021-09-01 02:00:00</th>\n",
       "      <td>47387.0</td>\n",
       "      <td>47439.5</td>\n",
       "      <td>47079.5</td>\n",
       "      <td>47145.5</td>\n",
       "      <td>116.118</td>\n",
       "    </tr>\n",
       "    <tr>\n",
       "      <th>2021-09-01 03:00:00</th>\n",
       "      <td>47145.5</td>\n",
       "      <td>47399.5</td>\n",
       "      <td>47083.5</td>\n",
       "      <td>47350.5</td>\n",
       "      <td>202.217</td>\n",
       "    </tr>\n",
       "    <tr>\n",
       "      <th>2021-09-01 04:00:00</th>\n",
       "      <td>47350.5</td>\n",
       "      <td>47399.5</td>\n",
       "      <td>47249.5</td>\n",
       "      <td>47352.5</td>\n",
       "      <td>74.082</td>\n",
       "    </tr>\n",
       "  </tbody>\n",
       "</table>\n",
       "</div>"
      ],
      "text/plain": [
       "                        open     high      low    close   volume\n",
       "date                                                            \n",
       "2021-09-01 00:00:00  47256.0  47484.5  47242.0  47443.0  124.369\n",
       "2021-09-01 01:00:00  47443.0  47580.0  47323.5  47387.0  165.491\n",
       "2021-09-01 02:00:00  47387.0  47439.5  47079.5  47145.5  116.118\n",
       "2021-09-01 03:00:00  47145.5  47399.5  47083.5  47350.5  202.217\n",
       "2021-09-01 04:00:00  47350.5  47399.5  47249.5  47352.5   74.082"
      ]
     },
     "execution_count": 21,
     "metadata": {},
     "output_type": "execute_result"
    }
   ],
   "source": [
    "Date = []\n",
    "Close_price = []\n",
    "Open_price = []\n",
    "High_price = []\n",
    "Low_price = []\n",
    "Volume = []\n",
    "for i in range(len(Data)):\n",
    "    Date.append(datetime.fromtimestamp(Data[i]['open_time']))\n",
    "    Close_price.append(Data[i]['close'])\n",
    "    Open_price.append(Data[i]['open'])\n",
    "    High_price.append(Data[i]['high'])\n",
    "    Low_price.append(Data[i]['low'])\n",
    "    Volume.append(Data[i]['volume'])\n",
    "\n",
    "    \n",
    "# pandas dataframeを作成\n",
    "df = pd.DataFrame({     'date' : Date,\n",
    "                        'open' : Open_price,\n",
    "                        'high' : High_price,\n",
    "                        'low' : Low_price,\n",
    "                        'close' : Close_price,\n",
    "                        'volume' : Volume })\n",
    "\n",
    "df = df.set_index('date')\n",
    "df.head()"
   ]
  },
  {
   "cell_type": "code",
   "execution_count": 22,
   "id": "02a84f20",
   "metadata": {},
   "outputs": [
    {
     "data": {
      "text/plain": [
       "Text(0.5, 1.0, 'BTC price change in Bybit')"
      ]
     },
     "execution_count": 22,
     "metadata": {},
     "output_type": "execute_result"
    },
    {
     "data": {
      "image/png": "[encoded data removed]",
      "text/plain": [
       "<Figure size 432x288 with 1 Axes>"
      ]
     },
     "metadata": {
      "needs_background": "light"
     },
     "output_type": "display_data"
    }
   ],
   "source": [
    "plt.plot(Date, Close_price)\n",
    "plt.xticks(rotation=30)\n",
    "plt.xlabel('Date')\n",
    "plt.ylabel('BTC price (USDT)')\n",
    "plt.title('BTC price change in Bybit')"
   ]
  },
  {
   "cell_type": "code",
   "execution_count": 23,
   "id": "2aa50865",
   "metadata": {},
   "outputs": [
    {
     "data": {
      "application/vnd.plotly.v1+json": {
       "config": {
        "plotlyServerURL": "https://plot.ly"
       },
       "data": [
        {
         "close": [
          47443,
          47387,
          47145.5,
          47350.5,
          47352.5,
          47025.5,
          47020,
          47106,
          47172.5,
          46782.5,
          46869,
          46913.5,
          47008,
          47154.5,
          47402.5,
          47338,
          47195,
          47385.5,
          47683.5,
          47549.5,
          47749.5,
          47747,
          47500.5,
          47341.5,
          47531,
          48461.5,
          48784,
          48720,
          48226.5,
          48292,
          48454,
          48462.5,
          48865,
          48816,
          49760.5,
          49656.5,
          49644.5,
          49444.5,
          49480.5,
          49958,
          49904.5,
          50132.5,
          49862,
          50092,
          50152.5,
          50080.5,
          50180,
          49576.5,
          49611,
          49631.5,
          49569.5,
          49409.5,
          49374.5,
          49590.5,
          49850,
          49751,
          49328,
          48602,
          48570,
          48985,
          49492.5,
          49734.5,
          49507,
          49436.5,
          49337,
          50031.5,
          50138,
          49843,
          50215.5,
          50711,
          50773.5,
          50755,
          50641.5,
          50554.5,
          50486,
          50531,
          50586,
          50229,
          50298.5,
          49726.5,
          50028.5,
          49959.5,
          49744,
          50100,
          50325.5,
          50402,
          50318.5,
          50370,
          50244.5,
          50169.5,
          50426,
          49868.5,
          49932.5,
          50294,
          50251,
          50016,
          49911,
          49858,
          50007,
          49922,
          50035,
          50218.5,
          50257.5,
          49950.5,
          49960,
          50212,
          50169,
          50207.5,
          49713,
          49862,
          49731,
          49880.5,
          49902.5,
          50173,
          50219,
          50058.5,
          50230,
          50146,
          50232.5,
          50268.5,
          50251,
          50394.5,
          50357,
          50463.5,
          50725,
          51757,
          51798,
          51851.5,
          51816,
          51826.5,
          51857.5,
          51686,
          51648,
          51760.5,
          51796,
          51881,
          51851.5,
          51724.5,
          51905,
          51813.5,
          51419.5,
          51364.5,
          51532.5,
          51711.5,
          51647,
          51585,
          51713.5,
          51883,
          51815,
          51944,
          52129.5,
          52543.5,
          52701,
          52524.5,
          52509,
          52738.5,
          52709.5,
          52570.5,
          52725.5,
          52460,
          52375.5,
          51328.5,
          50870,
          51148.5,
          51043.5,
          51007,
          50650,
          47200.5,
          46709,
          47477.5,
          46685,
          46494
         ],
         "decreasing": {
          "line": {
           "color": "red"
          }
         },
         "high": [
          47484.5,
          47580,
          47439.5,
          47399.5,
          47399.5,
          47352.5,
          47233,
          47119,
          48300,
          47328.5,
          46872,
          47088,
          47008.5,
          47248,
          47455.5,
          47488.5,
          47448.5,
          47408.5,
          47699.5,
          47757,
          47755,
          48300,
          47785,
          47661.5,
          47546,
          48630,
          49109.5,
          48906,
          48739.5,
          48300,
          48551.5,
          48758.5,
          48906,
          48993,
          51500,
          52500,
          49694,
          49683.5,
          49707,
          50038,
          50397.5,
          50246.5,
          50175,
          50149.5,
          50223.5,
          50300,
          50242.5,
          50418.5,
          49792.5,
          49793,
          49640,
          49615.5,
          49459.5,
          49653,
          49867,
          49855.5,
          49794,
          50292,
          48666.5,
          49000,
          49534,
          49773.5,
          49753,
          49627,
          49520.5,
          56668,
          50143.5,
          53000,
          50250,
          50953,
          50987,
          51103,
          50880.5,
          51180,
          50654.5,
          50618.5,
          50587,
          50586,
          50306,
          50298.5,
          50072,
          50168.5,
          49959.5,
          50100,
          51700,
          50473.5,
          50402,
          50385.5,
          50452.5,
          50244.5,
          50426,
          50526,
          50053.5,
          50360.5,
          50322.5,
          50251,
          50165,
          50077.5,
          50007,
          50050,
          50046.5,
          50268,
          50265,
          50311,
          50049,
          50276.5,
          50244.5,
          50280,
          50207.5,
          49891.5,
          49883.5,
          49948.5,
          50023.5,
          50173,
          50269,
          50293.5,
          50426,
          50299.5,
          50251,
          50520,
          50364.5,
          50394.5,
          50440.5,
          50476,
          50941,
          51824.5,
          51967.5,
          51900,
          51900,
          51900,
          51915.5,
          51874.5,
          51776.5,
          51778,
          51796.5,
          51924,
          52000,
          51852,
          51914.5,
          51905.5,
          52280.5,
          51545,
          51549,
          51756,
          51728,
          51767.5,
          51745.5,
          51920,
          52093.5,
          51987,
          52154,
          52700.5,
          52850,
          52739,
          52693.5,
          52827,
          53500,
          52713,
          52725.5,
          52734,
          52475,
          53500,
          51477.5,
          51246.5,
          51204,
          51097,
          51095.5,
          50792,
          49562,
          49397,
          47535,
          46831.5
         ],
         "increasing": {
          "line": {
           "color": "darkgreen"
          }
         },
         "low": [
          47242,
          47323.5,
          47079.5,
          47083.5,
          47249.5,
          46967,
          46919.5,
          46822.5,
          47039,
          46750,
          46545,
          46769.5,
          46759.5,
          47008,
          47154.5,
          47248.5,
          47128.5,
          47152,
          47368.5,
          47549.5,
          47549.5,
          47666.5,
          47437.5,
          47309.5,
          47341.5,
          47460,
          46596,
          48705,
          48100,
          48205,
          48284.5,
          48313,
          48436,
          48309,
          48717,
          48481.5,
          49643.5,
          49408.5,
          49444.5,
          49470,
          49800,
          49843.5,
          49793.5,
          49790.5,
          49938,
          49800,
          50022.5,
          49507,
          49334.5,
          49519.5,
          49372.5,
          49242,
          49279.5,
          49325,
          49581.5,
          49678,
          49302.5,
          47623,
          47436,
          48528.5,
          48950.5,
          49433.5,
          49432,
          49347.5,
          49258,
          47992.5,
          49874,
          49692.5,
          49595,
          49937.5,
          50623,
          47700,
          50600.5,
          50548,
          50425,
          50327,
          50342.5,
          50119,
          50104.5,
          49656,
          49637,
          49744,
          49620.5,
          49645.5,
          50071.5,
          50267,
          50253,
          50252.5,
          50178,
          50018.5,
          50146.5,
          49852.5,
          49769.5,
          49930.5,
          50129,
          49894,
          49795.5,
          49828,
          49471.5,
          49895,
          49669.5,
          50021,
          50134,
          49938,
          49785.5,
          49550.5,
          50000,
          50142.5,
          49708.5,
          49693,
          49675,
          49529.5,
          49880,
          49896,
          50094.5,
          50012.5,
          49956,
          50067.5,
          50102.5,
          50197,
          50118.5,
          50171,
          50334,
          50310.5,
          50419.5,
          50710.5,
          51610,
          51656.5,
          51677,
          51610.5,
          51748,
          51667.5,
          51542.5,
          51618.5,
          51685.5,
          51795.5,
          51797,
          51722.5,
          51719.5,
          51812,
          47111,
          51065.5,
          51220,
          51501.5,
          51588,
          51562.5,
          51583.5,
          51654,
          51772,
          51691,
          51928.5,
          52129.5,
          52400.5,
          52433.5,
          52495,
          52509,
          52694,
          52542,
          52442.5,
          52460,
          52198,
          51280.5,
          50597,
          50870,
          50975,
          50659.5,
          50650,
          47200,
          42532,
          46429,
          46638.5,
          46020
         ],
         "open": [
          47256,
          47443,
          47387,
          47145.5,
          47350.5,
          47352.5,
          47025.5,
          47020,
          47106,
          47172.5,
          46782.5,
          46869,
          46913.5,
          47008,
          47154.5,
          47402.5,
          47338,
          47195,
          47385.5,
          47683.5,
          47549.5,
          47749.5,
          47747,
          47500.5,
          47341.5,
          47531,
          48461.5,
          48784,
          48720,
          48226.5,
          48292,
          48454,
          48462.5,
          48865,
          48816,
          49760.5,
          49656.5,
          49644.5,
          49444.5,
          49480.5,
          49958,
          49904.5,
          50132.5,
          49862,
          50092,
          50152.5,
          50080.5,
          50180,
          49576.5,
          49611,
          49631.5,
          49569.5,
          49409.5,
          49374.5,
          49590.5,
          49850,
          49751,
          49328,
          48602,
          48570,
          48985,
          49492.5,
          49734.5,
          49507,
          49436.5,
          49337,
          50031.5,
          50138,
          49843,
          50215.5,
          50711,
          50773.5,
          50755,
          50641.5,
          50554.5,
          50486,
          50531,
          50586,
          50229,
          50298.5,
          49726.5,
          50028.5,
          49959.5,
          49744,
          50100,
          50325.5,
          50402,
          50318.5,
          50370,
          50244.5,
          50169.5,
          50426,
          49868.5,
          49932.5,
          50294,
          50251,
          50016,
          49911,
          49858,
          50007,
          49922,
          50035,
          50218.5,
          50257.5,
          49950.5,
          49960,
          50212,
          50169,
          50207.5,
          49713,
          49862,
          49731,
          49880.5,
          49902.5,
          50173,
          50219,
          50058.5,
          50230,
          50146,
          50232.5,
          50268.5,
          50251,
          50394.5,
          50357,
          50463.5,
          50725,
          51757,
          51798,
          51851.5,
          51816,
          51826.5,
          51857.5,
          51686,
          51648,
          51760.5,
          51796,
          51881,
          51851.5,
          51724.5,
          51905,
          51813.5,
          51419.5,
          51364.5,
          51532.5,
          51711.5,
          51647,
          51585,
          51713.5,
          51883,
          51815,
          51944,
          52129.5,
          52543.5,
          52701,
          52524.5,
          52509,
          52738.5,
          52709.5,
          52570.5,
          52725.5,
          52460,
          52375.5,
          51328.5,
          50870,
          51148.5,
          51043.5,
          51007,
          50650,
          47200.5,
          46709,
          47477.5,
          46685
         ],
         "type": "candlestick",
         "x": [
          "2021-09-01T00:00:00",
          "2021-09-01T01:00:00",
          "2021-09-01T02:00:00",
          "2021-09-01T03:00:00",
          "2021-09-01T04:00:00",
          "2021-09-01T05:00:00",
          "2021-09-01T06:00:00",
          "2021-09-01T07:00:00",
          "2021-09-01T08:00:00",
          "2021-09-01T09:00:00",
          "2021-09-01T10:00:00",
          "2021-09-01T11:00:00",
          "2021-09-01T12:00:00",
          "2021-09-01T13:00:00",
          "2021-09-01T14:00:00",
          "2021-09-01T15:00:00",
          "2021-09-01T16:00:00",
          "2021-09-01T17:00:00",
          "2021-09-01T18:00:00",
          "2021-09-01T19:00:00",
          "2021-09-01T20:00:00",
          "2021-09-01T21:00:00",
          "2021-09-01T22:00:00",
          "2021-09-01T23:00:00",
          "2021-09-02T00:00:00",
          "2021-09-02T01:00:00",
          "2021-09-02T02:00:00",
          "2021-09-02T03:00:00",
          "2021-09-02T04:00:00",
          "2021-09-02T05:00:00",
          "2021-09-02T06:00:00",
          "2021-09-02T07:00:00",
          "2021-09-02T08:00:00",
          "2021-09-02T09:00:00",
          "2021-09-02T10:00:00",
          "2021-09-02T11:00:00",
          "2021-09-02T12:00:00",
          "2021-09-02T13:00:00",
          "2021-09-02T14:00:00",
          "2021-09-02T15:00:00",
          "2021-09-02T16:00:00",
          "2021-09-02T17:00:00",
          "2021-09-02T18:00:00",
          "2021-09-02T19:00:00",
          "2021-09-02T20:00:00",
          "2021-09-02T21:00:00",
          "2021-09-02T22:00:00",
          "2021-09-02T23:00:00",
          "2021-09-03T00:00:00",
          "2021-09-03T01:00:00",
          "2021-09-03T02:00:00",
          "2021-09-03T03:00:00",
          "2021-09-03T04:00:00",
          "2021-09-03T05:00:00",
          "2021-09-03T06:00:00",
          "2021-09-03T07:00:00",
          "2021-09-03T08:00:00",
          "2021-09-03T09:00:00",
          "2021-09-03T10:00:00",
          "2021-09-03T11:00:00",
          "2021-09-03T12:00:00",
          "2021-09-03T13:00:00",
          "2021-09-03T14:00:00",
          "2021-09-03T15:00:00",
          "2021-09-03T16:00:00",
          "2021-09-03T17:00:00",
          "2021-09-03T18:00:00",
          "2021-09-03T19:00:00",
          "2021-09-03T20:00:00",
          "2021-09-03T21:00:00",
          "2021-09-03T22:00:00",
          "2021-09-03T23:00:00",
          "2021-09-04T00:00:00",
          "2021-09-04T01:00:00",
          "2021-09-04T02:00:00",
          "2021-09-04T03:00:00",
          "2021-09-04T04:00:00",
          "2021-09-04T05:00:00",
          "2021-09-04T06:00:00",
          "2021-09-04T07:00:00",
          "2021-09-04T08:00:00",
          "2021-09-04T09:00:00",
          "2021-09-04T10:00:00",
          "2021-09-04T11:00:00",
          "2021-09-04T12:00:00",
          "2021-09-04T13:00:00",
          "2021-09-04T14:00:00",
          "2021-09-04T15:00:00",
          "2021-09-04T16:00:00",
          "2021-09-04T17:00:00",
          "2021-09-04T18:00:00",
          "2021-09-04T19:00:00",
          "2021-09-04T20:00:00",
          "2021-09-04T21:00:00",
          "2021-09-04T22:00:00",
          "2021-09-04T23:00:00",
          "2021-09-05T00:00:00",
          "2021-09-05T01:00:00",
          "2021-09-05T02:00:00",
          "2021-09-05T03:00:00",
          "2021-09-05T04:00:00",
          "2021-09-05T05:00:00",
          "2021-09-05T06:00:00",
          "2021-09-05T07:00:00",
          "2021-09-05T08:00:00",
          "2021-09-05T09:00:00",
          "2021-09-05T10:00:00",
          "2021-09-05T11:00:00",
          "2021-09-05T12:00:00",
          "2021-09-05T13:00:00",
          "2021-09-05T14:00:00",
          "2021-09-05T15:00:00",
          "2021-09-05T16:00:00",
          "2021-09-05T17:00:00",
          "2021-09-05T18:00:00",
          "2021-09-05T19:00:00",
          "2021-09-05T20:00:00",
          "2021-09-05T21:00:00",
          "2021-09-05T22:00:00",
          "2021-09-05T23:00:00",
          "2021-09-06T00:00:00",
          "2021-09-06T01:00:00",
          "2021-09-06T02:00:00",
          "2021-09-06T03:00:00",
          "2021-09-06T04:00:00",
          "2021-09-06T05:00:00",
          "2021-09-06T06:00:00",
          "2021-09-06T07:00:00",
          "2021-09-06T08:00:00",
          "2021-09-06T09:00:00",
          "2021-09-06T10:00:00",
          "2021-09-06T11:00:00",
          "2021-09-06T12:00:00",
          "2021-09-06T13:00:00",
          "2021-09-06T14:00:00",
          "2021-09-06T15:00:00",
          "2021-09-06T16:00:00",
          "2021-09-06T17:00:00",
          "2021-09-06T18:00:00",
          "2021-09-06T19:00:00",
          "2021-09-06T20:00:00",
          "2021-09-06T21:00:00",
          "2021-09-06T22:00:00",
          "2021-09-06T23:00:00",
          "2021-09-07T00:00:00",
          "2021-09-07T01:00:00",
          "2021-09-07T02:00:00",
          "2021-09-07T03:00:00",
          "2021-09-07T04:00:00",
          "2021-09-07T05:00:00",
          "2021-09-07T06:00:00",
          "2021-09-07T07:00:00",
          "2021-09-07T08:00:00",
          "2021-09-07T09:00:00",
          "2021-09-07T10:00:00",
          "2021-09-07T11:00:00",
          "2021-09-07T12:00:00",
          "2021-09-07T13:00:00",
          "2021-09-07T14:00:00",
          "2021-09-07T15:00:00",
          "2021-09-07T16:00:00",
          "2021-09-07T17:00:00",
          "2021-09-07T18:00:00",
          "2021-09-07T19:00:00",
          "2021-09-07T20:00:00",
          "2021-09-07T21:00:00",
          "2021-09-07T22:00:00",
          "2021-09-07T23:00:00",
          "2021-09-08T00:00:00",
          "2021-09-08T01:00:00",
          "2021-09-08T02:00:00",
          "2021-09-08T03:00:00"
         ]
        }
       ],
       "layout": {
        "autosize": true,
        "height": 800,
        "template": {
         "data": {
          "bar": [
           {
            "error_x": {
             "color": "#2a3f5f"
            },
            "error_y": {
             "color": "#2a3f5f"
            },
            "marker": {
             "line": {
              "color": "#E5ECF6",
              "width": 0.5
             },
             "pattern": {
              "fillmode": "overlay",
              "size": 10,
              "solidity": 0.2
             }
            },
            "type": "bar"
           }
          ],
          "barpolar": [
           {
            "marker": {
             "line": {
              "color": "#E5ECF6",
              "width": 0.5
             },
             "pattern": {
              "fillmode": "overlay",
              "size": 10,
              "solidity": 0.2
             }
            },
            "type": "barpolar"
           }
          ],
          "carpet": [
           {
            "aaxis": {
             "endlinecolor": "#2a3f5f",
             "gridcolor": "white",
             "linecolor": "white",
             "minorgridcolor": "white",
             "startlinecolor": "#2a3f5f"
            },
            "baxis": {
             "endlinecolor": "#2a3f5f",
             "gridcolor": "white",
             "linecolor": "white",
             "minorgridcolor": "white",
             "startlinecolor": "#2a3f5f"
            },
            "type": "carpet"
           }
          ],
          "choropleth": [
           {
            "colorbar": {
             "outlinewidth": 0,
             "ticks": ""
            },
            "type": "choropleth"
           }
          ],
          "contour": [
           {
            "colorbar": {
             "outlinewidth": 0,
             "ticks": ""
            },
            "colorscale": [
             [
              0,
              "#0d0887"
             ],
             [
              0.1111111111111111,
              "#46039f"
             ],
             [
              0.2222222222222222,
              "#7201a8"
             ],
             [
              0.3333333333333333,
              "#9c179e"
             ],
             [
              0.4444444444444444,
              "#bd3786"
             ],
             [
              0.5555555555555556,
              "#d8576b"
             ],
             [
              0.6666666666666666,
              "#ed7953"
             ],
             [
              0.7777777777777778,
              "#fb9f3a"
             ],
             [
              0.8888888888888888,
              "#fdca26"
             ],
             [
              1,
              "#f0f921"
             ]
            ],
            "type": "contour"
           }
          ],
          "contourcarpet": [
           {
            "colorbar": {
             "outlinewidth": 0,
             "ticks": ""
            },
            "type": "contourcarpet"
           }
          ],
          "heatmap": [
           {
            "colorbar": {
             "outlinewidth": 0,
             "ticks": ""
            },
            "colorscale": [
             [
              0,
              "#0d0887"
             ],
             [
              0.1111111111111111,
              "#46039f"
             ],
             [
              0.2222222222222222,
              "#7201a8"
             ],
             [
              0.3333333333333333,
              "#9c179e"
             ],
             [
              0.4444444444444444,
              "#bd3786"
             ],
             [
              0.5555555555555556,
              "#d8576b"
             ],
             [
              0.6666666666666666,
              "#ed7953"
             ],
             [
              0.7777777777777778,
              "#fb9f3a"
             ],
             [
              0.8888888888888888,
              "#fdca26"
             ],
             [
              1,
              "#f0f921"
             ]
            ],
            "type": "heatmap"
           }
          ],
          "heatmapgl": [
           {
            "colorbar": {
             "outlinewidth": 0,
             "ticks": ""
            },
            "colorscale": [
             [
              0,
              "#0d0887"
             ],
             [
              0.1111111111111111,
              "#46039f"
             ],
             [
              0.2222222222222222,
              "#7201a8"
             ],
             [
              0.3333333333333333,
              "#9c179e"
             ],
             [
              0.4444444444444444,
              "#bd3786"
             ],
             [
              0.5555555555555556,
              "#d8576b"
             ],
             [
              0.6666666666666666,
              "#ed7953"
             ],
             [
              0.7777777777777778,
              "#fb9f3a"
             ],
             [
              0.8888888888888888,
              "#fdca26"
             ],
             [
              1,
              "#f0f921"
             ]
            ],
            "type": "heatmapgl"
           }
          ],
          "histogram": [
           {
            "marker": {
             "pattern": {
              "fillmode": "overlay",
              "size": 10,
              "solidity": 0.2
             }
            },
            "type": "histogram"
           }
          ],
          "histogram2d": [
           {
            "colorbar": {
             "outlinewidth": 0,
             "ticks": ""
            },
            "colorscale": [
             [
              0,
              "#0d0887"
             ],
             [
              0.1111111111111111,
              "#46039f"
             ],
             [
              0.2222222222222222,
              "#7201a8"
             ],
             [
              0.3333333333333333,
              "#9c179e"
             ],
             [
              0.4444444444444444,
              "#bd3786"
             ],
             [
              0.5555555555555556,
              "#d8576b"
             ],
             [
              0.6666666666666666,
              "#ed7953"
             ],
             [
              0.7777777777777778,
              "#fb9f3a"
             ],
             [
              0.8888888888888888,
              "#fdca26"
             ],
             [
              1,
              "#f0f921"
             ]
            ],
            "type": "histogram2d"
           }
          ],
          "histogram2dcontour": [
           {
            "colorbar": {
             "outlinewidth": 0,
             "ticks": ""
            },
            "colorscale": [
             [
              0,
              "#0d0887"
             ],
             [
              0.1111111111111111,
              "#46039f"
             ],
             [
              0.2222222222222222,
              "#7201a8"
             ],
             [
              0.3333333333333333,
              "#9c179e"
             ],
             [
              0.4444444444444444,
              "#bd3786"
             ],
             [
              0.5555555555555556,
              "#d8576b"
             ],
             [
              0.6666666666666666,
              "#ed7953"
             ],
             [
              0.7777777777777778,
              "#fb9f3a"
             ],
             [
              0.8888888888888888,
              "#fdca26"
             ],
             [
              1,
              "#f0f921"
             ]
            ],
            "type": "histogram2dcontour"
           }
          ],
          "mesh3d": [
           {
            "colorbar": {
             "outlinewidth": 0,
             "ticks": ""
            },
            "type": "mesh3d"
           }
          ],
          "parcoords": [
           {
            "line": {
             "colorbar": {
              "outlinewidth": 0,
              "ticks": ""
             }
            },
            "type": "parcoords"
           }
          ],
          "pie": [
           {
            "automargin": true,
            "type": "pie"
           }
          ],
          "scatter": [
           {
            "marker": {
             "colorbar": {
              "outlinewidth": 0,
              "ticks": ""
             }
            },
            "type": "scatter"
           }
          ],
          "scatter3d": [
           {
            "line": {
             "colorbar": {
              "outlinewidth": 0,
              "ticks": ""
             }
            },
            "marker": {
             "colorbar": {
              "outlinewidth": 0,
              "ticks": ""
             }
            },
            "type": "scatter3d"
           }
          ],
          "scattercarpet": [
           {
            "marker": {
             "colorbar": {
              "outlinewidth": 0,
              "ticks": ""
             }
            },
            "type": "scattercarpet"
           }
          ],
          "scattergeo": [
           {
            "marker": {
             "colorbar": {
              "outlinewidth": 0,
              "ticks": ""
             }
            },
            "type": "scattergeo"
           }
          ],
          "scattergl": [
           {
            "marker": {
             "colorbar": {
              "outlinewidth": 0,
              "ticks": ""
             }
            },
            "type": "scattergl"
           }
          ],
          "scattermapbox": [
           {
            "marker": {
             "colorbar": {
              "outlinewidth": 0,
              "ticks": ""
             }
            },
            "type": "scattermapbox"
           }
          ],
          "scatterpolar": [
           {
            "marker": {
             "colorbar": {
              "outlinewidth": 0,
              "ticks": ""
             }
            },
            "type": "scatterpolar"
           }
          ],
          "scatterpolargl": [
           {
            "marker": {
             "colorbar": {
              "outlinewidth": 0,
              "ticks": ""
             }
            },
            "type": "scatterpolargl"
           }
          ],
          "scatterternary": [
           {
            "marker": {
             "colorbar": {
              "outlinewidth": 0,
              "ticks": ""
             }
            },
            "type": "scatterternary"
           }
          ],
          "surface": [
           {
            "colorbar": {
             "outlinewidth": 0,
             "ticks": ""
            },
            "colorscale": [
             [
              0,
              "#0d0887"
             ],
             [
              0.1111111111111111,
              "#46039f"
             ],
             [
              0.2222222222222222,
              "#7201a8"
             ],
             [
              0.3333333333333333,
              "#9c179e"
             ],
             [
              0.4444444444444444,
              "#bd3786"
             ],
             [
              0.5555555555555556,
              "#d8576b"
             ],
             [
              0.6666666666666666,
              "#ed7953"
             ],
             [
              0.7777777777777778,
              "#fb9f3a"
             ],
             [
              0.8888888888888888,
              "#fdca26"
             ],
             [
              1,
              "#f0f921"
             ]
            ],
            "type": "surface"
           }
          ],
          "table": [
           {
            "cells": {
             "fill": {
              "color": "#EBF0F8"
             },
             "line": {
              "color": "white"
             }
            },
            "header": {
             "fill": {
              "color": "#C8D4E3"
             },
             "line": {
              "color": "white"
             }
            },
            "type": "table"
           }
          ]
         },
         "layout": {
          "annotationdefaults": {
           "arrowcolor": "#2a3f5f",
           "arrowhead": 0,
           "arrowwidth": 1
          },
          "autotypenumbers": "strict",
          "coloraxis": {
           "colorbar": {
            "outlinewidth": 0,
            "ticks": ""
           }
          },
          "colorscale": {
           "diverging": [
            [
             0,
             "#8e0152"
            ],
            [
             0.1,
             "#c51b7d"
            ],
            [
             0.2,
             "#de77ae"
            ],
            [
             0.3,
             "#f1b6da"
            ],
            [
             0.4,
             "#fde0ef"
            ],
            [
             0.5,
             "#f7f7f7"
            ],
            [
             0.6,
             "#e6f5d0"
            ],
            [
             0.7,
             "#b8e186"
            ],
            [
             0.8,
             "#7fbc41"
            ],
            [
             0.9,
             "#4d9221"
            ],
            [
             1,
             "#276419"
            ]
           ],
           "sequential": [
            [
             0,
             "#0d0887"
            ],
            [
             0.1111111111111111,
             "#46039f"
            ],
            [
             0.2222222222222222,
             "#7201a8"
            ],
            [
             0.3333333333333333,
             "#9c179e"
            ],
            [
             0.4444444444444444,
             "#bd3786"
            ],
            [
             0.5555555555555556,
             "#d8576b"
            ],
            [
             0.6666666666666666,
             "#ed7953"
            ],
            [
             0.7777777777777778,
             "#fb9f3a"
            ],
            [
             0.8888888888888888,
             "#fdca26"
            ],
            [
             1,
             "#f0f921"
            ]
           ],
           "sequentialminus": [
            [
             0,
             "#0d0887"
            ],
            [
             0.1111111111111111,
             "#46039f"
            ],
            [
             0.2222222222222222,
             "#7201a8"
            ],
            [
             0.3333333333333333,
             "#9c179e"
            ],
            [
             0.4444444444444444,
             "#bd3786"
            ],
            [
             0.5555555555555556,
             "#d8576b"
            ],
            [
             0.6666666666666666,
             "#ed7953"
            ],
            [
             0.7777777777777778,
             "#fb9f3a"
            ],
            [
             0.8888888888888888,
             "#fdca26"
            ],
            [
             1,
             "#f0f921"
            ]
           ]
          },
          "colorway": [
           "#636efa",
           "#EF553B",
           "#00cc96",
           "#ab63fa",
           "#FFA15A",
           "#19d3f3",
           "#FF6692",
           "#B6E880",
           "#FF97FF",
           "#FECB52"
          ],
          "font": {
           "color": "#2a3f5f"
          },
          "geo": {
           "bgcolor": "white",
           "lakecolor": "white",
           "landcolor": "#E5ECF6",
           "showlakes": true,
           "showland": true,
           "subunitcolor": "white"
          },
          "hoverlabel": {
           "align": "left"
          },
          "hovermode": "closest",
          "mapbox": {
           "style": "light"
          },
          "paper_bgcolor": "white",
          "plot_bgcolor": "#E5ECF6",
          "polar": {
           "angularaxis": {
            "gridcolor": "white",
            "linecolor": "white",
            "ticks": ""
           },
           "bgcolor": "#E5ECF6",
           "radialaxis": {
            "gridcolor": "white",
            "linecolor": "white",
            "ticks": ""
           }
          },
          "scene": {
           "xaxis": {
            "backgroundcolor": "#E5ECF6",
            "gridcolor": "white",
            "gridwidth": 2,
            "linecolor": "white",
            "showbackground": true,
            "ticks": "",
            "zerolinecolor": "white"
           },
           "yaxis": {
            "backgroundcolor": "#E5ECF6",
            "gridcolor": "white",
            "gridwidth": 2,
            "linecolor": "white",
            "showbackground": true,
            "ticks": "",
            "zerolinecolor": "white"
           },
           "zaxis": {
            "backgroundcolor": "#E5ECF6",
            "gridcolor": "white",
            "gridwidth": 2,
            "linecolor": "white",
            "showbackground": true,
            "ticks": "",
            "zerolinecolor": "white"
           }
          },
          "shapedefaults": {
           "line": {
            "color": "#2a3f5f"
           }
          },
          "ternary": {
           "aaxis": {
            "gridcolor": "white",
            "linecolor": "white",
            "ticks": ""
           },
           "baxis": {
            "gridcolor": "white",
            "linecolor": "white",
            "ticks": ""
           },
           "bgcolor": "#E5ECF6",
           "caxis": {
            "gridcolor": "white",
            "linecolor": "white",
            "ticks": ""
           }
          },
          "title": {
           "x": 0.05
          },
          "xaxis": {
           "automargin": true,
           "gridcolor": "white",
           "linecolor": "white",
           "ticks": "",
           "title": {
            "standoff": 15
           },
           "zerolinecolor": "white",
           "zerolinewidth": 2
          },
          "yaxis": {
           "automargin": true,
           "gridcolor": "white",
           "linecolor": "white",
           "ticks": "",
           "title": {
            "standoff": 15
           },
           "zerolinecolor": "white",
           "zerolinewidth": 2
          }
         }
        },
        "width": 1000
       }
      },
      "text/html": [
       "<div>                            <div id=\"46d3a68b-24c9-479f-99d8-4df6c7a9aebc\" class=\"plotly-graph-div\" style=\"height:800px; width:1000px;\"></div>            <script type=\"text/javascript\">                require([\"plotly\"], function(Plotly) {                    window.PLOTLYENV=window.PLOTLYENV || {};                                    if (document.getElementById(\"46d3a68b-24c9-479f-99d8-4df6c7a9aebc\")) {                    Plotly.newPlot(                        \"46d3a68b-24c9-479f-99d8-4df6c7a9aebc\",                        [{\"close\":[47443.0,47387.0,47145.5,47350.5,47352.5,47025.5,47020.0,47106.0,47172.5,46782.5,46869.0,46913.5,47008.0,47154.5,47402.5,47338.0,47195.0,47385.5,47683.5,47549.5,47749.5,47747.0,47500.5,47341.5,47531.0,48461.5,48784.0,48720.0,48226.5,48292.0,48454.0,48462.5,48865.0,48816.0,49760.5,49656.5,49644.5,49444.5,49480.5,49958.0,49904.5,50132.5,49862.0,50092.0,50152.5,50080.5,50180.0,49576.5,49611.0,49631.5,49569.5,49409.5,49374.5,49590.5,49850.0,49751.0,49328.0,48602.0,48570.0,48985.0,49492.5,49734.5,49507.0,49436.5,49337.0,50031.5,50138.0,49843.0,50215.5,50711.0,50773.5,50755.0,50641.5,50554.5,50486.0,50531.0,50586.0,50229.0,50298.5,49726.5,50028.5,49959.5,49744.0,50100.0,50325.5,50402.0,50318.5,50370.0,50244.5,50169.5,50426.0,49868.5,49932.5,50294.0,50251.0,50016.0,49911.0,49858.0,50007.0,49922.0,50035.0,50218.5,50257.5,49950.5,49960.0,50212.0,50169.0,50207.5,49713.0,49862.0,49731.0,49880.5,49902.5,50173.0,50219.0,50058.5,50230.0,50146.0,50232.5,50268.5,50251.0,50394.5,50357.0,50463.5,50725.0,51757.0,51798.0,51851.5,51816.0,51826.5,51857.5,51686.0,51648.0,51760.5,51796.0,51881.0,51851.5,51724.5,51905.0,51813.5,51419.5,51364.5,51532.5,51711.5,51647.0,51585.0,51713.5,51883.0,51815.0,51944.0,52129.5,52543.5,52701.0,52524.5,52509.0,52738.5,52709.5,52570.5,52725.5,52460.0,52375.5,51328.5,50870.0,51148.5,51043.5,51007.0,50650.0,47200.5,46709.0,47477.5,46685.0,46494.0],\"decreasing\":{\"line\":{\"color\":\"red\"}},\"high\":[47484.5,47580.0,47439.5,47399.5,47399.5,47352.5,47233.0,47119.0,48300.0,47328.5,46872.0,47088.0,47008.5,47248.0,47455.5,47488.5,47448.5,47408.5,47699.5,47757.0,47755.0,48300.0,47785.0,47661.5,47546.0,48630.0,49109.5,48906.0,48739.5,48300.0,48551.5,48758.5,48906.0,48993.0,51500.0,52500.0,49694.0,49683.5,49707.0,50038.0,50397.5,50246.5,50175.0,50149.5,50223.5,50300.0,50242.5,50418.5,49792.5,49793.0,49640.0,49615.5,49459.5,49653.0,49867.0,49855.5,49794.0,50292.0,48666.5,49000.0,49534.0,49773.5,49753.0,49627.0,49520.5,56668.0,50143.5,53000.0,50250.0,50953.0,50987.0,51103.0,50880.5,51180.0,50654.5,50618.5,50587.0,50586.0,50306.0,50298.5,50072.0,50168.5,49959.5,50100.0,51700.0,50473.5,50402.0,50385.5,50452.5,50244.5,50426.0,50526.0,50053.5,50360.5,50322.5,50251.0,50165.0,50077.5,50007.0,50050.0,50046.5,50268.0,50265.0,50311.0,50049.0,50276.5,50244.5,50280.0,50207.5,49891.5,49883.5,49948.5,50023.5,50173.0,50269.0,50293.5,50426.0,50299.5,50251.0,50520.0,50364.5,50394.5,50440.5,50476.0,50941.0,51824.5,51967.5,51900.0,51900.0,51900.0,51915.5,51874.5,51776.5,51778.0,51796.5,51924.0,52000.0,51852.0,51914.5,51905.5,52280.5,51545.0,51549.0,51756.0,51728.0,51767.5,51745.5,51920.0,52093.5,51987.0,52154.0,52700.5,52850.0,52739.0,52693.5,52827.0,53500.0,52713.0,52725.5,52734.0,52475.0,53500.0,51477.5,51246.5,51204.0,51097.0,51095.5,50792.0,49562.0,49397.0,47535.0,46831.5],\"increasing\":{\"line\":{\"color\":\"darkgreen\"}},\"low\":[47242.0,47323.5,47079.5,47083.5,47249.5,46967.0,46919.5,46822.5,47039.0,46750.0,46545.0,46769.5,46759.5,47008.0,47154.5,47248.5,47128.5,47152.0,47368.5,47549.5,47549.5,47666.5,47437.5,47309.5,47341.5,47460.0,46596.0,48705.0,48100.0,48205.0,48284.5,48313.0,48436.0,48309.0,48717.0,48481.5,49643.5,49408.5,49444.5,49470.0,49800.0,49843.5,49793.5,49790.5,49938.0,49800.0,50022.5,49507.0,49334.5,49519.5,49372.5,49242.0,49279.5,49325.0,49581.5,49678.0,49302.5,47623.0,47436.0,48528.5,48950.5,49433.5,49432.0,49347.5,49258.0,47992.5,49874.0,49692.5,49595.0,49937.5,50623.0,47700.0,50600.5,50548.0,50425.0,50327.0,50342.5,50119.0,50104.5,49656.0,49637.0,49744.0,49620.5,49645.5,50071.5,50267.0,50253.0,50252.5,50178.0,50018.5,50146.5,49852.5,49769.5,49930.5,50129.0,49894.0,49795.5,49828.0,49471.5,49895.0,49669.5,50021.0,50134.0,49938.0,49785.5,49550.5,50000.0,50142.5,49708.5,49693.0,49675.0,49529.5,49880.0,49896.0,50094.5,50012.5,49956.0,50067.5,50102.5,50197.0,50118.5,50171.0,50334.0,50310.5,50419.5,50710.5,51610.0,51656.5,51677.0,51610.5,51748.0,51667.5,51542.5,51618.5,51685.5,51795.5,51797.0,51722.5,51719.5,51812.0,47111.0,51065.5,51220.0,51501.5,51588.0,51562.5,51583.5,51654.0,51772.0,51691.0,51928.5,52129.5,52400.5,52433.5,52495.0,52509.0,52694.0,52542.0,52442.5,52460.0,52198.0,51280.5,50597.0,50870.0,50975.0,50659.5,50650.0,47200.0,42532.0,46429.0,46638.5,46020.0],\"open\":[47256.0,47443.0,47387.0,47145.5,47350.5,47352.5,47025.5,47020.0,47106.0,47172.5,46782.5,46869.0,46913.5,47008.0,47154.5,47402.5,47338.0,47195.0,47385.5,47683.5,47549.5,47749.5,47747.0,47500.5,47341.5,47531.0,48461.5,48784.0,48720.0,48226.5,48292.0,48454.0,48462.5,48865.0,48816.0,49760.5,49656.5,49644.5,49444.5,49480.5,49958.0,49904.5,50132.5,49862.0,50092.0,50152.5,50080.5,50180.0,49576.5,49611.0,49631.5,49569.5,49409.5,49374.5,49590.5,49850.0,49751.0,49328.0,48602.0,48570.0,48985.0,49492.5,49734.5,49507.0,49436.5,49337.0,50031.5,50138.0,49843.0,50215.5,50711.0,50773.5,50755.0,50641.5,50554.5,50486.0,50531.0,50586.0,50229.0,50298.5,49726.5,50028.5,49959.5,49744.0,50100.0,50325.5,50402.0,50318.5,50370.0,50244.5,50169.5,50426.0,49868.5,49932.5,50294.0,50251.0,50016.0,49911.0,49858.0,50007.0,49922.0,50035.0,50218.5,50257.5,49950.5,49960.0,50212.0,50169.0,50207.5,49713.0,49862.0,49731.0,49880.5,49902.5,50173.0,50219.0,50058.5,50230.0,50146.0,50232.5,50268.5,50251.0,50394.5,50357.0,50463.5,50725.0,51757.0,51798.0,51851.5,51816.0,51826.5,51857.5,51686.0,51648.0,51760.5,51796.0,51881.0,51851.5,51724.5,51905.0,51813.5,51419.5,51364.5,51532.5,51711.5,51647.0,51585.0,51713.5,51883.0,51815.0,51944.0,52129.5,52543.5,52701.0,52524.5,52509.0,52738.5,52709.5,52570.5,52725.5,52460.0,52375.5,51328.5,50870.0,51148.5,51043.5,51007.0,50650.0,47200.5,46709.0,47477.5,46685.0],\"type\":\"candlestick\",\"x\":[\"2021-09-01T00:00:00\",\"2021-09-01T01:00:00\",\"2021-09-01T02:00:00\",\"2021-09-01T03:00:00\",\"2021-09-01T04:00:00\",\"2021-09-01T05:00:00\",\"2021-09-01T06:00:00\",\"2021-09-01T07:00:00\",\"2021-09-01T08:00:00\",\"2021-09-01T09:00:00\",\"2021-09-01T10:00:00\",\"2021-09-01T11:00:00\",\"2021-09-01T12:00:00\",\"2021-09-01T13:00:00\",\"2021-09-01T14:00:00\",\"2021-09-01T15:00:00\",\"2021-09-01T16:00:00\",\"2021-09-01T17:00:00\",\"2021-09-01T18:00:00\",\"2021-09-01T19:00:00\",\"2021-09-01T20:00:00\",\"2021-09-01T21:00:00\",\"2021-09-01T22:00:00\",\"2021-09-01T23:00:00\",\"2021-09-02T00:00:00\",\"2021-09-02T01:00:00\",\"2021-09-02T02:00:00\",\"2021-09-02T03:00:00\",\"2021-09-02T04:00:00\",\"2021-09-02T05:00:00\",\"2021-09-02T06:00:00\",\"2021-09-02T07:00:00\",\"2021-09-02T08:00:00\",\"2021-09-02T09:00:00\",\"2021-09-02T10:00:00\",\"2021-09-02T11:00:00\",\"2021-09-02T12:00:00\",\"2021-09-02T13:00:00\",\"2021-09-02T14:00:00\",\"2021-09-02T15:00:00\",\"2021-09-02T16:00:00\",\"2021-09-02T17:00:00\",\"2021-09-02T18:00:00\",\"2021-09-02T19:00:00\",\"2021-09-02T20:00:00\",\"2021-09-02T21:00:00\",\"2021-09-02T22:00:00\",\"2021-09-02T23:00:00\",\"2021-09-03T00:00:00\",\"2021-09-03T01:00:00\",\"2021-09-03T02:00:00\",\"2021-09-03T03:00:00\",\"2021-09-03T04:00:00\",\"2021-09-03T05:00:00\",\"2021-09-03T06:00:00\",\"2021-09-03T07:00:00\",\"2021-09-03T08:00:00\",\"2021-09-03T09:00:00\",\"2021-09-03T10:00:00\",\"2021-09-03T11:00:00\",\"2021-09-03T12:00:00\",\"2021-09-03T13:00:00\",\"2021-09-03T14:00:00\",\"2021-09-03T15:00:00\",\"2021-09-03T16:00:00\",\"2021-09-03T17:00:00\",\"2021-09-03T18:00:00\",\"2021-09-03T19:00:00\",\"2021-09-03T20:00:00\",\"2021-09-03T21:00:00\",\"2021-09-03T22:00:00\",\"2021-09-03T23:00:00\",\"2021-09-04T00:00:00\",\"2021-09-04T01:00:00\",\"2021-09-04T02:00:00\",\"2021-09-04T03:00:00\",\"2021-09-04T04:00:00\",\"2021-09-04T05:00:00\",\"2021-09-04T06:00:00\",\"2021-09-04T07:00:00\",\"2021-09-04T08:00:00\",\"2021-09-04T09:00:00\",\"2021-09-04T10:00:00\",\"2021-09-04T11:00:00\",\"2021-09-04T12:00:00\",\"2021-09-04T13:00:00\",\"2021-09-04T14:00:00\",\"2021-09-04T15:00:00\",\"2021-09-04T16:00:00\",\"2021-09-04T17:00:00\",\"2021-09-04T18:00:00\",\"2021-09-04T19:00:00\",\"2021-09-04T20:00:00\",\"2021-09-04T21:00:00\",\"2021-09-04T22:00:00\",\"2021-09-04T23:00:00\",\"2021-09-05T00:00:00\",\"2021-09-05T01:00:00\",\"2021-09-05T02:00:00\",\"2021-09-05T03:00:00\",\"2021-09-05T04:00:00\",\"2021-09-05T05:00:00\",\"2021-09-05T06:00:00\",\"2021-09-05T07:00:00\",\"2021-09-05T08:00:00\",\"2021-09-05T09:00:00\",\"2021-09-05T10:00:00\",\"2021-09-05T11:00:00\",\"2021-09-05T12:00:00\",\"2021-09-05T13:00:00\",\"2021-09-05T14:00:00\",\"2021-09-05T15:00:00\",\"2021-09-05T16:00:00\",\"2021-09-05T17:00:00\",\"2021-09-05T18:00:00\",\"2021-09-05T19:00:00\",\"2021-09-05T20:00:00\",\"2021-09-05T21:00:00\",\"2021-09-05T22:00:00\",\"2021-09-05T23:00:00\",\"2021-09-06T00:00:00\",\"2021-09-06T01:00:00\",\"2021-09-06T02:00:00\",\"2021-09-06T03:00:00\",\"2021-09-06T04:00:00\",\"2021-09-06T05:00:00\",\"2021-09-06T06:00:00\",\"2021-09-06T07:00:00\",\"2021-09-06T08:00:00\",\"2021-09-06T09:00:00\",\"2021-09-06T10:00:00\",\"2021-09-06T11:00:00\",\"2021-09-06T12:00:00\",\"2021-09-06T13:00:00\",\"2021-09-06T14:00:00\",\"2021-09-06T15:00:00\",\"2021-09-06T16:00:00\",\"2021-09-06T17:00:00\",\"2021-09-06T18:00:00\",\"2021-09-06T19:00:00\",\"2021-09-06T20:00:00\",\"2021-09-06T21:00:00\",\"2021-09-06T22:00:00\",\"2021-09-06T23:00:00\",\"2021-09-07T00:00:00\",\"2021-09-07T01:00:00\",\"2021-09-07T02:00:00\",\"2021-09-07T03:00:00\",\"2021-09-07T04:00:00\",\"2021-09-07T05:00:00\",\"2021-09-07T06:00:00\",\"2021-09-07T07:00:00\",\"2021-09-07T08:00:00\",\"2021-09-07T09:00:00\",\"2021-09-07T10:00:00\",\"2021-09-07T11:00:00\",\"2021-09-07T12:00:00\",\"2021-09-07T13:00:00\",\"2021-09-07T14:00:00\",\"2021-09-07T15:00:00\",\"2021-09-07T16:00:00\",\"2021-09-07T17:00:00\",\"2021-09-07T18:00:00\",\"2021-09-07T19:00:00\",\"2021-09-07T20:00:00\",\"2021-09-07T21:00:00\",\"2021-09-07T22:00:00\",\"2021-09-07T23:00:00\",\"2021-09-08T00:00:00\",\"2021-09-08T01:00:00\",\"2021-09-08T02:00:00\",\"2021-09-08T03:00:00\"]}],                        {\"autosize\":true,\"height\":800,\"template\":{\"data\":{\"bar\":[{\"error_x\":{\"color\":\"#2a3f5f\"},\"error_y\":{\"color\":\"#2a3f5f\"},\"marker\":{\"line\":{\"color\":\"#E5ECF6\",\"width\":0.5},\"pattern\":{\"fillmode\":\"overlay\",\"size\":10,\"solidity\":0.2}},\"type\":\"bar\"}],\"barpolar\":[{\"marker\":{\"line\":{\"color\":\"#E5ECF6\",\"width\":0.5},\"pattern\":{\"fillmode\":\"overlay\",\"size\":10,\"solidity\":0.2}},\"type\":\"barpolar\"}],\"carpet\":[{\"aaxis\":{\"endlinecolor\":\"#2a3f5f\",\"gridcolor\":\"white\",\"linecolor\":\"white\",\"minorgridcolor\":\"white\",\"startlinecolor\":\"#2a3f5f\"},\"baxis\":{\"endlinecolor\":\"#2a3f5f\",\"gridcolor\":\"white\",\"linecolor\":\"white\",\"minorgridcolor\":\"white\",\"startlinecolor\":\"#2a3f5f\"},\"type\":\"carpet\"}],\"choropleth\":[{\"colorbar\":{\"outlinewidth\":0,\"ticks\":\"\"},\"type\":\"choropleth\"}],\"contour\":[{\"colorbar\":{\"outlinewidth\":0,\"ticks\":\"\"},\"colorscale\":[[0.0,\"#0d0887\"],[0.1111111111111111,\"#46039f\"],[0.2222222222222222,\"#7201a8\"],[0.3333333333333333,\"#9c179e\"],[0.4444444444444444,\"#bd3786\"],[0.5555555555555556,\"#d8576b\"],[0.6666666666666666,\"#ed7953\"],[0.7777777777777778,\"#fb9f3a\"],[0.8888888888888888,\"#fdca26\"],[1.0,\"#f0f921\"]],\"type\":\"contour\"}],\"contourcarpet\":[{\"colorbar\":{\"outlinewidth\":0,\"ticks\":\"\"},\"type\":\"contourcarpet\"}],\"heatmap\":[{\"colorbar\":{\"outlinewidth\":0,\"ticks\":\"\"},\"colorscale\":[[0.0,\"#0d0887\"],[0.1111111111111111,\"#46039f\"],[0.2222222222222222,\"#7201a8\"],[0.3333333333333333,\"#9c179e\"],[0.4444444444444444,\"#bd3786\"],[0.5555555555555556,\"#d8576b\"],[0.6666666666666666,\"#ed7953\"],[0.7777777777777778,\"#fb9f3a\"],[0.8888888888888888,\"#fdca26\"],[1.0,\"#f0f921\"]],\"type\":\"heatmap\"}],\"heatmapgl\":[{\"colorbar\":{\"outlinewidth\":0,\"ticks\":\"\"},\"colorscale\":[[0.0,\"#0d0887\"],[0.1111111111111111,\"#46039f\"],[0.2222222222222222,\"#7201a8\"],[0.3333333333333333,\"#9c179e\"],[0.4444444444444444,\"#bd3786\"],[0.5555555555555556,\"#d8576b\"],[0.6666666666666666,\"#ed7953\"],[0.7777777777777778,\"#fb9f3a\"],[0.8888888888888888,\"#fdca26\"],[1.0,\"#f0f921\"]],\"type\":\"heatmapgl\"}],\"histogram\":[{\"marker\":{\"pattern\":{\"fillmode\":\"overlay\",\"size\":10,\"solidity\":0.2}},\"type\":\"histogram\"}],\"histogram2d\":[{\"colorbar\":{\"outlinewidth\":0,\"ticks\":\"\"},\"colorscale\":[[0.0,\"#0d0887\"],[0.1111111111111111,\"#46039f\"],[0.2222222222222222,\"#7201a8\"],[0.3333333333333333,\"#9c179e\"],[0.4444444444444444,\"#bd3786\"],[0.5555555555555556,\"#d8576b\"],[0.6666666666666666,\"#ed7953\"],[0.7777777777777778,\"#fb9f3a\"],[0.8888888888888888,\"#fdca26\"],[1.0,\"#f0f921\"]],\"type\":\"histogram2d\"}],\"histogram2dcontour\":[{\"colorbar\":{\"outlinewidth\":0,\"ticks\":\"\"},\"colorscale\":[[0.0,\"#0d0887\"],[0.1111111111111111,\"#46039f\"],[0.2222222222222222,\"#7201a8\"],[0.3333333333333333,\"#9c179e\"],[0.4444444444444444,\"#bd3786\"],[0.5555555555555556,\"#d8576b\"],[0.6666666666666666,\"#ed7953\"],[0.7777777777777778,\"#fb9f3a\"],[0.8888888888888888,\"#fdca26\"],[1.0,\"#f0f921\"]],\"type\":\"histogram2dcontour\"}],\"mesh3d\":[{\"colorbar\":{\"outlinewidth\":0,\"ticks\":\"\"},\"type\":\"mesh3d\"}],\"parcoords\":[{\"line\":{\"colorbar\":{\"outlinewidth\":0,\"ticks\":\"\"}},\"type\":\"parcoords\"}],\"pie\":[{\"automargin\":true,\"type\":\"pie\"}],\"scatter\":[{\"marker\":{\"colorbar\":{\"outlinewidth\":0,\"ticks\":\"\"}},\"type\":\"scatter\"}],\"scatter3d\":[{\"line\":{\"colorbar\":{\"outlinewidth\":0,\"ticks\":\"\"}},\"marker\":{\"colorbar\":{\"outlinewidth\":0,\"ticks\":\"\"}},\"type\":\"scatter3d\"}],\"scattercarpet\":[{\"marker\":{\"colorbar\":{\"outlinewidth\":0,\"ticks\":\"\"}},\"type\":\"scattercarpet\"}],\"scattergeo\":[{\"marker\":{\"colorbar\":{\"outlinewidth\":0,\"ticks\":\"\"}},\"type\":\"scattergeo\"}],\"scattergl\":[{\"marker\":{\"colorbar\":{\"outlinewidth\":0,\"ticks\":\"\"}},\"type\":\"scattergl\"}],\"scattermapbox\":[{\"marker\":{\"colorbar\":{\"outlinewidth\":0,\"ticks\":\"\"}},\"type\":\"scattermapbox\"}],\"scatterpolar\":[{\"marker\":{\"colorbar\":{\"outlinewidth\":0,\"ticks\":\"\"}},\"type\":\"scatterpolar\"}],\"scatterpolargl\":[{\"marker\":{\"colorbar\":{\"outlinewidth\":0,\"ticks\":\"\"}},\"type\":\"scatterpolargl\"}],\"scatterternary\":[{\"marker\":{\"colorbar\":{\"outlinewidth\":0,\"ticks\":\"\"}},\"type\":\"scatterternary\"}],\"surface\":[{\"colorbar\":{\"outlinewidth\":0,\"ticks\":\"\"},\"colorscale\":[[0.0,\"#0d0887\"],[0.1111111111111111,\"#46039f\"],[0.2222222222222222,\"#7201a8\"],[0.3333333333333333,\"#9c179e\"],[0.4444444444444444,\"#bd3786\"],[0.5555555555555556,\"#d8576b\"],[0.6666666666666666,\"#ed7953\"],[0.7777777777777778,\"#fb9f3a\"],[0.8888888888888888,\"#fdca26\"],[1.0,\"#f0f921\"]],\"type\":\"surface\"}],\"table\":[{\"cells\":{\"fill\":{\"color\":\"#EBF0F8\"},\"line\":{\"color\":\"white\"}},\"header\":{\"fill\":{\"color\":\"#C8D4E3\"},\"line\":{\"color\":\"white\"}},\"type\":\"table\"}]},\"layout\":{\"annotationdefaults\":{\"arrowcolor\":\"#2a3f5f\",\"arrowhead\":0,\"arrowwidth\":1},\"autotypenumbers\":\"strict\",\"coloraxis\":{\"colorbar\":{\"outlinewidth\":0,\"ticks\":\"\"}},\"colorscale\":{\"diverging\":[[0,\"#8e0152\"],[0.1,\"#c51b7d\"],[0.2,\"#de77ae\"],[0.3,\"#f1b6da\"],[0.4,\"#fde0ef\"],[0.5,\"#f7f7f7\"],[0.6,\"#e6f5d0\"],[0.7,\"#b8e186\"],[0.8,\"#7fbc41\"],[0.9,\"#4d9221\"],[1,\"#276419\"]],\"sequential\":[[0.0,\"#0d0887\"],[0.1111111111111111,\"#46039f\"],[0.2222222222222222,\"#7201a8\"],[0.3333333333333333,\"#9c179e\"],[0.4444444444444444,\"#bd3786\"],[0.5555555555555556,\"#d8576b\"],[0.6666666666666666,\"#ed7953\"],[0.7777777777777778,\"#fb9f3a\"],[0.8888888888888888,\"#fdca26\"],[1.0,\"#f0f921\"]],\"sequentialminus\":[[0.0,\"#0d0887\"],[0.1111111111111111,\"#46039f\"],[0.2222222222222222,\"#7201a8\"],[0.3333333333333333,\"#9c179e\"],[0.4444444444444444,\"#bd3786\"],[0.5555555555555556,\"#d8576b\"],[0.6666666666666666,\"#ed7953\"],[0.7777777777777778,\"#fb9f3a\"],[0.8888888888888888,\"#fdca26\"],[1.0,\"#f0f921\"]]},\"colorway\":[\"#636efa\",\"#EF553B\",\"#00cc96\",\"#ab63fa\",\"#FFA15A\",\"#19d3f3\",\"#FF6692\",\"#B6E880\",\"#FF97FF\",\"#FECB52\"],\"font\":{\"color\":\"#2a3f5f\"},\"geo\":{\"bgcolor\":\"white\",\"lakecolor\":\"white\",\"landcolor\":\"#E5ECF6\",\"showlakes\":true,\"showland\":true,\"subunitcolor\":\"white\"},\"hoverlabel\":{\"align\":\"left\"},\"hovermode\":\"closest\",\"mapbox\":{\"style\":\"light\"},\"paper_bgcolor\":\"white\",\"plot_bgcolor\":\"#E5ECF6\",\"polar\":{\"angularaxis\":{\"gridcolor\":\"white\",\"linecolor\":\"white\",\"ticks\":\"\"},\"bgcolor\":\"#E5ECF6\",\"radialaxis\":{\"gridcolor\":\"white\",\"linecolor\":\"white\",\"ticks\":\"\"}},\"scene\":{\"xaxis\":{\"backgroundcolor\":\"#E5ECF6\",\"gridcolor\":\"white\",\"gridwidth\":2,\"linecolor\":\"white\",\"showbackground\":true,\"ticks\":\"\",\"zerolinecolor\":\"white\"},\"yaxis\":{\"backgroundcolor\":\"#E5ECF6\",\"gridcolor\":\"white\",\"gridwidth\":2,\"linecolor\":\"white\",\"showbackground\":true,\"ticks\":\"\",\"zerolinecolor\":\"white\"},\"zaxis\":{\"backgroundcolor\":\"#E5ECF6\",\"gridcolor\":\"white\",\"gridwidth\":2,\"linecolor\":\"white\",\"showbackground\":true,\"ticks\":\"\",\"zerolinecolor\":\"white\"}},\"shapedefaults\":{\"line\":{\"color\":\"#2a3f5f\"}},\"ternary\":{\"aaxis\":{\"gridcolor\":\"white\",\"linecolor\":\"white\",\"ticks\":\"\"},\"baxis\":{\"gridcolor\":\"white\",\"linecolor\":\"white\",\"ticks\":\"\"},\"bgcolor\":\"#E5ECF6\",\"caxis\":{\"gridcolor\":\"white\",\"linecolor\":\"white\",\"ticks\":\"\"}},\"title\":{\"x\":0.05},\"xaxis\":{\"automargin\":true,\"gridcolor\":\"white\",\"linecolor\":\"white\",\"ticks\":\"\",\"title\":{\"standoff\":15},\"zerolinecolor\":\"white\",\"zerolinewidth\":2},\"yaxis\":{\"automargin\":true,\"gridcolor\":\"white\",\"linecolor\":\"white\",\"ticks\":\"\",\"title\":{\"standoff\":15},\"zerolinecolor\":\"white\",\"zerolinewidth\":2}}},\"width\":1000},                        {\"responsive\": true}                    ).then(function(){\n",
       "                            \n",
       "var gd = document.getElementById('46d3a68b-24c9-479f-99d8-4df6c7a9aebc');\n",
       "var x = new MutationObserver(function (mutations, observer) {{\n",
       "        var display = window.getComputedStyle(gd).display;\n",
       "        if (!display || display === 'none') {{\n",
       "            console.log([gd, 'removed!']);\n",
       "            Plotly.purge(gd);\n",
       "            observer.disconnect();\n",
       "        }}\n",
       "}});\n",
       "\n",
       "// Listen for the removal of the full notebook cells\n",
       "var notebookContainer = gd.closest('#notebook-container');\n",
       "if (notebookContainer) {{\n",
       "    x.observe(notebookContainer, {childList: true});\n",
       "}}\n",
       "\n",
       "// Listen for the clearing of the current output cell\n",
       "var outputEl = gd.closest('.output');\n",
       "if (outputEl) {{\n",
       "    x.observe(outputEl, {childList: true});\n",
       "}}\n",
       "\n",
       "                        })                };                });            </script>        </div>"
      ]
     },
     "metadata": {},
     "output_type": "display_data"
    }
   ],
   "source": [
    "# ローソク足の表示 なんか色々動かせて超便利\n",
    "\n",
    "fig = go.Figure(data=[go.Candlestick(\n",
    "                        x=df.index,\n",
    "                        open=df['open'],\n",
    "                        high=df['high'],\n",
    "                        low=df['low'],\n",
    "                        close=df['close'],\n",
    "                        increasing_line_color= 'darkgreen',\n",
    "                        decreasing_line_color= 'red')])\n",
    "\n",
    "fig.update_layout(autosize=True,width=1000,height=800)\n",
    "fig"
   ]
  },
  {
   "cell_type": "code",
   "execution_count": null,
   "id": "445ceb43",
   "metadata": {},
   "outputs": [],
   "source": []
  }
 ],
 "metadata": {
  "kernelspec": {
   "display_name": "Python 3",
   "language": "python",
   "name": "python3"
  },
  "language_info": {
   "codemirror_mode": {
    "name": "ipython",
    "version": 3
   },
   "file_extension": ".py",
   "mimetype": "text/x-python",
   "name": "python",
   "nbconvert_exporter": "python",
   "pygments_lexer": "ipython3",
   "version": "3.8.8"
  }
 },
 "nbformat": 4,
 "nbformat_minor": 5
}
