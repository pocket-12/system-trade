{
 "cells": [
  {
   "cell_type": "markdown",
   "metadata": {},
   "source": [
    "# au カブコム証券\n",
    "\n",
    "kabu STATION API\n",
    "システムトレードの構築"
   ]
  },
  {
   "cell_type": "markdown",
   "metadata": {},
   "source": [
    "# 【前提】\n",
    " - PCにpython3がインストールされていること。\n",
    " - PUSH配信(websocket)をするには、python3のインストール後にコマンドプロンプトにて以下のコマンドを実行する。\n",
    "コマンド：py -m pip install websocket-client"
   ]
  },
  {
   "cell_type": "markdown",
   "metadata": {},
   "source": [
    "# 【注意】\n",
    "「token.py」ファイル名は、pythonで予約とされているため使用できません。\n"
   ]
  },
  {
   "cell_type": "markdown",
   "metadata": {},
   "source": [
    "# 【kabuステAPI実行方法】\n",
    "コマンドプロンプトから、各コマンドを実行する。"
   ]
  },
  {
   "cell_type": "markdown",
   "metadata": {},
   "source": [
    "# 【ファイルリスト】\n",
    "- １．トークン発行\n",
    "コマンド：python kabusapi_token.py\n",
    "※１で発行したtokenを２以降の各ファイル内の「X-API-KEY」に指定する\n",
    "\n",
    "- ２．注文発注（現物）\n",
    " - （１）買\n",
    "コマンド：python kabusapi_sendorder_cash_buy.py\n",
    " - （２）売\n",
    "コマンド：python kabusapi_sendorder_cash_sell.py\n",
    "\n",
    "- ３．注文発注（信用）\n",
    " - （１）新規\n",
    "コマンド：python kabusapi_sendorder_margin_new.py\n",
    " - （２）返済（決済順序）\n",
    "コマンド：python kabusapi_sendorder_margin_pay_ClosePositionOrder.py\n",
    " - （３）返済（返済建玉指定）\n",
    "コマンド：python kabusapi_sendorder_margin_pay_ClosePositions.py\n",
    "\n",
    "- ４．注文発注（先物）\n",
    " - （１）新規\n",
    "コマンド：python kabusapi_sendorder_future_new.py\n",
    " - （２）返済（決済順序）\n",
    "コマンド：python kabusapi_sendorder_future_pay_ClosePositionOrder.py\n",
    " - （３）返済（返済建玉指定）\n",
    "コマンド：python kabusapi_sendorder_future_pay_ClosePositions.py\n",
    "\n",
    "- ５．注文発注（OP）\n",
    " - （１）新規\n",
    "コマンド：python kabusapi_sendorder_option_new.py\n",
    " - （２）返済（決済順序）\n",
    "コマンド：python kabusapi_sendorder_option_pay_ClosePositionOrder.py\n",
    " - （ ３）返済（返済建玉指定）\n",
    "コマンド：python kabusapi_sendorder_option_pay_ClosePositions.py\n",
    "\n",
    "- ６．注文取消\n",
    "コマンド：python kabusapi_cancelorder.py\n",
    "\n",
    "- ７．取引余力（現物）\n",
    "コマンド：python kabusapi_cash.py\n",
    "\n",
    "- ８．取引余力（信用）\n",
    "コマンド：python kabusapi_margin.py\n",
    "\n",
    "- ９．取引余力（先物）\n",
    "コマンド：python kabusapi_wallet_future.py\n",
    "\n",
    "- 10．取引余力（OP）\n",
    "コマンド：python kabusapi_wallet_option.py\n",
    "\n",
    "- 11．時価情報・板情報\n",
    "コマンド：python kabusapi_board.py\n",
    "\n",
    "- 12．銘柄情報\n",
    "コマンド：python kabusapi_symbol.py\n",
    "\n",
    "- 13．注文約定照会\n",
    "コマンド：python kabusapi_orders.py\n",
    "\n",
    "- 14．残高照会\n",
    "コマンド：python kabusapi_positions.py\n",
    "\n",
    "- 15．先物銘柄コード取得\n",
    "コマンド：python kabusapi_symbolname_future.py\n",
    "\n",
    "- 16．オプション銘柄コード取得\n",
    "コマンド：python kabusapi_symbolname_option.py\n",
    "\n",
    "- 17．PUSH配信開始\n",
    "コマンド：python kabusapi_websocket.py\n",
    "\n",
    "- 18．銘柄登録\n",
    "コマンド：python kabusapi_register.py\n",
    "\n",
    "- 19．銘柄登録解除\n",
    "コマンド：python kabusapi_unregister.py\n",
    "\n",
    "- 20．銘柄登録全解除\n",
    "コマンド：python kabusapi_unregisterall.py\n",
    "- 28. 銘柄のランキング??\n",
    " python kabusapi_unregisterall.py\n",
    "// ライセンスについて\n",
    "Copyright (c) 2020 au Kabucom Securities Co., Ltd.\n",
    "Released under the MIT license\n",
    "https://opensource.org/licenses/mit-license.php"
   ]
  },
  {
   "cell_type": "markdown",
   "metadata": {},
   "source": [
    "## トークン発行コマンド\n",
    "【kabusapi_token.py】"
   ]
  },
  {
   "cell_type": "code",
   "execution_count": 1,
   "metadata": {},
   "outputs": [],
   "source": [
    "import urllib.request\n",
    "import json\n",
    "import pprint\n",
    "import sys\n",
    "import _thread\n",
    "import websocket\n"
   ]
  },
  {
   "cell_type": "code",
   "execution_count": 2,
   "metadata": {},
   "outputs": [],
   "source": [
    "password='Cooper2e'"
   ]
  },
  {
   "cell_type": "code",
   "execution_count": 3,
   "metadata": {},
   "outputs": [],
   "source": [
    "def get_token(password):\n",
    "    obj = { 'APIPassword': password}\n",
    "    json_data = json.dumps(obj).encode('utf8')\n",
    "    url = 'http://localhost:18081/kabusapi/token' #検証用\n",
    "    #url = 'http://localhost:18080/kabusapi/token' #本番用\n",
    "    req = urllib.request.Request(url, json_data, method='POST')\n",
    "    req.add_header('Content-Type', 'application/json')\n",
    "\n",
    "    try:\n",
    "        with urllib.request.urlopen(req) as res:\n",
    "            print(res.status, res.reason)\n",
    "            for header in res.getheaders():\n",
    "                print(header)\n",
    "            print()\n",
    "            content = json.loads(res.read())\n",
    "            pprint.pprint(content)\n",
    "            return content[\"Token\"]\n",
    "    except urllib.error.HTTPError as e:\n",
    "        print(e)\n",
    "        content = json.loads(e.read())\n",
    "        pprint.pprint(content)\n",
    "    except Exception as e:\n",
    "        print(e)\n",
    "        "
   ]
  },
  {
   "cell_type": "code",
   "execution_count": 4,
   "metadata": {},
   "outputs": [
    {
     "name": "stdout",
     "output_type": "stream",
     "text": [
      "200 OK\n",
      "('Content-Length', '59')\n",
      "('Content-Type', 'application/json; charset=utf-8')\n",
      "('Server', 'Microsoft-HTTPAPI/2.0')\n",
      "('X-Content-Type-Options', 'nosniff')\n",
      "('X-XSS-Protection', '1; mode=block')\n",
      "('X-Frame-Options', 'DENY')\n",
      "('Content-Security-Policy', \"default-src 'none'\")\n",
      "('Access-Control-Allow-Origin', '*')\n",
      "('Date', 'Fri, 29 Jan 2021 08:25:43 GMT')\n",
      "('Connection', 'close')\n",
      "\n",
      "{'ResultCode': 0, 'Token': '5a71ed688a19412cb03873f23c9f7379'}\n"
     ]
    }
   ],
   "source": [
    "token=get_token(\"Cooper2e\")"
   ]
  },
  {
   "cell_type": "code",
   "execution_count": 5,
   "metadata": {},
   "outputs": [
    {
     "name": "stdout",
     "output_type": "stream",
     "text": [
      "5a71ed688a19412cb03873f23c9f7379\n"
     ]
    }
   ],
   "source": [
    "print(token)"
   ]
  }
 ],
 "metadata": {
  "kernelspec": {
   "display_name": "Python 3",
   "language": "python",
   "name": "python3"
  },
  "language_info": {
   "codemirror_mode": {
    "name": "ipython",
    "version": 3
   },
   "file_extension": ".py",
   "mimetype": "text/x-python",
   "name": "python",
   "nbconvert_exporter": "python",
   "pygments_lexer": "ipython3",
   "version": "3.8.3"
  }
 },
 "nbformat": 4,
 "nbformat_minor": 4
}
