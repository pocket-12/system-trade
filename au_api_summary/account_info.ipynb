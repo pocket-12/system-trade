{
 "cells": [
  {
   "cell_type": "code",
   "execution_count": 4,
   "metadata": {},
   "outputs": [],
   "source": [
    "import urllib.request\n",
    "import json\n",
    "import pprint\n",
    "import sys\n",
    "import _thread\n",
    "import websocket"
   ]
  },
  {
   "cell_type": "code",
   "execution_count": 5,
   "metadata": {},
   "outputs": [],
   "source": [
    "password='Cooper2e'"
   ]
  },
  {
   "cell_type": "code",
   "execution_count": 6,
   "metadata": {},
   "outputs": [],
   "source": [
    "def get_token(password):\n",
    "    obj = { 'APIPassword': password}\n",
    "    json_data = json.dumps(obj).encode('utf8')\n",
    "    url = 'http://localhost:18081/kabusapi/token' #検証用\n",
    "    #url = 'http://localhost:18080/kabusapi/token' #本番用\n",
    "    req = urllib.request.Request(url, json_data, method='POST')\n",
    "    req.add_header('Content-Type', 'application/json')\n",
    "\n",
    "    try:\n",
    "        with urllib.request.urlopen(req) as res:\n",
    "            print(res.status, res.reason)\n",
    "            for header in res.getheaders():\n",
    "                print(header)\n",
    "            print()\n",
    "            content = json.loads(res.read())\n",
    "            pprint.pprint(content)\n",
    "            return content[\"Token\"]\n",
    "    except urllib.error.HTTPError as e:\n",
    "        print(e)\n",
    "        content = json.loads(e.read())\n",
    "        pprint.pprint(content)\n",
    "    except Exception as e:\n",
    "        print(e)\n",
    "        "
   ]
  },
  {
   "cell_type": "code",
   "execution_count": 7,
   "metadata": {},
   "outputs": [
    {
     "name": "stdout",
     "output_type": "stream",
     "text": [
      "200 OK\n",
      "('Content-Length', '59')\n",
      "('Content-Type', 'application/json; charset=utf-8')\n",
      "('Server', 'Microsoft-HTTPAPI/2.0')\n",
      "('X-Content-Type-Options', 'nosniff')\n",
      "('X-XSS-Protection', '1; mode=block')\n",
      "('X-Frame-Options', 'DENY')\n",
      "('Content-Security-Policy', \"default-src 'none'\")\n",
      "('Access-Control-Allow-Origin', '*')\n",
      "('Date', 'Fri, 29 Jan 2021 14:56:56 GMT')\n",
      "('Connection', 'close')\n",
      "\n",
      "{'ResultCode': 0, 'Token': '95e2800e055c46d89404c74d9c76127a'}\n"
     ]
    }
   ],
   "source": [
    "token=get_token(\"Cooper2e\")"
   ]
  },
  {
   "cell_type": "markdown",
   "metadata": {},
   "source": [
    "# 1．取引余力（現物）"
   ]
  },
  {
   "cell_type": "code",
   "execution_count": 8,
   "metadata": {},
   "outputs": [],
   "source": [
    "def get_cash():\n",
    "    url = 'http://localhost:18081/kabusapi/wallet/cash'\n",
    "    req = urllib.request.Request(url, method='GET')\n",
    "    req.add_header('Content-Type', 'application/json')\n",
    "    req.add_header('X-API-KEY',token)\n",
    "\n",
    "    try:\n",
    "        with urllib.request.urlopen(req) as res:\n",
    "            print(res.status, res.reason)\n",
    "            for header in res.getheaders():\n",
    "                print(header)\n",
    "            print()\n",
    "            content = json.loads(res.read())\n",
    "            pprint.pprint(content)\n",
    "            return content\n",
    "    except urllib.error.HTTPError as e:\n",
    "        print(e)\n",
    "        content = json.loads(e.read())\n",
    "        pprint.pprint(content)\n",
    "    except Exception as e:\n",
    "        print(e)"
   ]
  },
  {
   "cell_type": "code",
   "execution_count": 9,
   "metadata": {},
   "outputs": [
    {
     "name": "stdout",
     "output_type": "stream",
     "text": [
      "200 OK\n",
      "('Content-Length', '27')\n",
      "('Content-Type', 'application/json; charset=utf-8')\n",
      "('Server', 'Microsoft-HTTPAPI/2.0')\n",
      "('X-Content-Type-Options', 'nosniff')\n",
      "('X-XSS-Protection', '1; mode=block')\n",
      "('X-Frame-Options', 'DENY')\n",
      "('Content-Security-Policy', \"default-src 'none'\")\n",
      "('Access-Control-Allow-Origin', '*')\n",
      "('Date', 'Fri, 29 Jan 2021 14:56:59 GMT')\n",
      "('Connection', 'close')\n",
      "\n",
      "{'StockAccountWallet': None}\n"
     ]
    },
    {
     "data": {
      "text/plain": [
       "{'StockAccountWallet': None}"
      ]
     },
     "execution_count": 9,
     "metadata": {},
     "output_type": "execute_result"
    }
   ],
   "source": [
    "get_cash()"
   ]
  },
  {
   "cell_type": "markdown",
   "metadata": {},
   "source": [
    "# 2．取引余力（信用）"
   ]
  },
  {
   "cell_type": "code",
   "execution_count": 11,
   "metadata": {},
   "outputs": [],
   "source": [
    "def get_margin():\n",
    "    url = 'http://localhost:18081/kabusapi/wallet/margin'\n",
    "    req = urllib.request.Request(url, method='GET')\n",
    "    req.add_header('Content-Type', 'application/json')\n",
    "    req.add_header('X-API-KEY', token)\n",
    "\n",
    "    try:\n",
    "        with urllib.request.urlopen(req) as res:\n",
    "            print(res.status, res.reason)\n",
    "            for header in res.getheaders():\n",
    "                print(header)\n",
    "            print()\n",
    "            content = json.loads(res.read())\n",
    "            pprint.pprint(content)\n",
    "    except urllib.error.HTTPError as e:\n",
    "        print(e)\n",
    "        content = json.loads(e.read())\n",
    "        pprint.pprint(content)\n",
    "    except Exception as e:\n",
    "        print(e)"
   ]
  },
  {
   "cell_type": "code",
   "execution_count": 12,
   "metadata": {},
   "outputs": [
    {
     "name": "stdout",
     "output_type": "stream",
     "text": [
      "200 OK\n",
      "('Content-Length', '117')\n",
      "('Content-Type', 'application/json; charset=utf-8')\n",
      "('Server', 'Microsoft-HTTPAPI/2.0')\n",
      "('X-Content-Type-Options', 'nosniff')\n",
      "('X-XSS-Protection', '1; mode=block')\n",
      "('X-Frame-Options', 'DENY')\n",
      "('Content-Security-Policy', \"default-src 'none'\")\n",
      "('Access-Control-Allow-Origin', '*')\n",
      "('Date', 'Fri, 29 Jan 2021 14:57:20 GMT')\n",
      "('Connection', 'close')\n",
      "\n",
      "{'CashOfConsignmentDepositRate': None,\n",
      " 'ConsignmentDepositRate': None,\n",
      " 'DepositkeepRate': None,\n",
      " 'MarginAccountWallet': None}\n"
     ]
    }
   ],
   "source": [
    "get_margin()"
   ]
  },
  {
   "cell_type": "markdown",
   "metadata": {},
   "source": [
    "# 3.注文約定照会 "
   ]
  },
  {
   "cell_type": "code",
   "execution_count": 13,
   "metadata": {},
   "outputs": [],
   "source": [
    "def get_orders():\n",
    "    url = 'http://localhost:18081/kabusapi/orders'\n",
    "    params = { 'product': 0 }               # product - 0:すべて、1:現物、2:信用、3:先物、4:OP\n",
    "    #params['id'] = '20201207A02N04830518' # id='xxxxxxxxxxxxxxxxxxxx'\n",
    "    #params['updtime'] = 20201101123456    # updtime=yyyyMMddHHmmss\n",
    "    #params['details'] =  'false'          # details='true'/'false'\n",
    "    #params['symbol'] = '9433'             # symbol='xxxx'\n",
    "    #params['state'] = 5                   # state - 1:待機（発注待機）、2:処理中（発注送信中）、3:処理済（発注済・訂正済）、4:訂正取消送信中、5:終了（発注エラー・取消済・全約定・失効・期限切れ）\n",
    "    #params['side'] = '2'                  # side - '1':売、'2':買\n",
    "    #params['cashmargin'] = 3              # cashmargin - 2:新規、3:返済\n",
    "\n",
    "    req = urllib.request.Request('{}?{}'.format(url, urllib.parse.urlencode(params)), method='GET')\n",
    "    req.add_header('Content-Type', 'application/json')\n",
    "    req.add_header('X-API-KEY',  token)\n",
    "\n",
    "    try:\n",
    "        with urllib.request.urlopen(req) as res:\n",
    "            print(res.status, res.reason)\n",
    "            for header in res.getheaders():\n",
    "                print(header)\n",
    "            print()\n",
    "            content = json.loads(res.read())\n",
    "            pprint.pprint(content)\n",
    "            return content\n",
    "    except urllib.error.HTTPError as e:\n",
    "        print(e)\n",
    "        content = json.loads(e.read())\n",
    "        pprint.pprint(content)\n",
    "    except Exception as e:\n",
    "        print(e)"
   ]
  },
  {
   "cell_type": "code",
   "execution_count": 14,
   "metadata": {},
   "outputs": [
    {
     "name": "stdout",
     "output_type": "stream",
     "text": [
      "200 OK\n",
      "('Content-Length', '2')\n",
      "('Content-Type', 'application/json; charset=utf-8')\n",
      "('Server', 'Microsoft-HTTPAPI/2.0')\n",
      "('X-Content-Type-Options', 'nosniff')\n",
      "('X-XSS-Protection', '1; mode=block')\n",
      "('X-Frame-Options', 'DENY')\n",
      "('Content-Security-Policy', \"default-src 'none'\")\n",
      "('Access-Control-Allow-Origin', '*')\n",
      "('Date', 'Fri, 29 Jan 2021 14:57:46 GMT')\n",
      "('Connection', 'close')\n",
      "\n",
      "[]\n"
     ]
    },
    {
     "data": {
      "text/plain": [
       "[]"
      ]
     },
     "execution_count": 14,
     "metadata": {},
     "output_type": "execute_result"
    }
   ],
   "source": [
    "get_orders()"
   ]
  },
  {
   "cell_type": "markdown",
   "metadata": {},
   "source": [
    "# 4.残高照会 "
   ]
  },
  {
   "cell_type": "code",
   "execution_count": 15,
   "metadata": {},
   "outputs": [],
   "source": [
    "def get_positions():\n",
    "    url = 'http://localhost:18081/kabusapi/positions'\n",
    "    params = { 'product': 0 }   # product - 0:すべて、1:現物、2:信用、3:先物、4:OP\n",
    "    #params['symbol'] = '9433'  # symbol='xxxx'\n",
    "    req = urllib.request.Request('{}?{}'.format(url, urllib.parse.urlencode(params)), method='GET')\n",
    "    req.add_header('Content-Type', 'application/json')\n",
    "    req.add_header('X-API-KEY', token)\n",
    "\n",
    "    try:\n",
    "        with urllib.request.urlopen(req) as res:\n",
    "            print(res.status, res.reason)\n",
    "            for header in res.getheaders():\n",
    "                print(header)\n",
    "            print()\n",
    "            content = json.loads(res.read())\n",
    "            pprint.pprint(content)\n",
    "            return content\n",
    "    except urllib.error.HTTPError as e:\n",
    "        print(e)\n",
    "        content = json.loads(e.read())\n",
    "        pprint.pprint(content)\n",
    "    except Exception as e:\n",
    "        print(e)"
   ]
  },
  {
   "cell_type": "code",
   "execution_count": 16,
   "metadata": {},
   "outputs": [
    {
     "name": "stdout",
     "output_type": "stream",
     "text": [
      "200 OK\n",
      "('Content-Length', '2')\n",
      "('Content-Type', 'application/json; charset=utf-8')\n",
      "('Server', 'Microsoft-HTTPAPI/2.0')\n",
      "('X-Content-Type-Options', 'nosniff')\n",
      "('X-XSS-Protection', '1; mode=block')\n",
      "('X-Frame-Options', 'DENY')\n",
      "('Content-Security-Policy', \"default-src 'none'\")\n",
      "('Access-Control-Allow-Origin', '*')\n",
      "('Date', 'Fri, 29 Jan 2021 14:57:51 GMT')\n",
      "('Connection', 'close')\n",
      "\n",
      "[]\n"
     ]
    },
    {
     "data": {
      "text/plain": [
       "[]"
      ]
     },
     "execution_count": 16,
     "metadata": {},
     "output_type": "execute_result"
    }
   ],
   "source": [
    "get_positions()"
   ]
  },
  {
   "cell_type": "markdown",
   "metadata": {},
   "source": [
    "# 5.取引余力（先物）"
   ]
  },
  {
   "cell_type": "code",
   "execution_count": null,
   "metadata": {},
   "outputs": [],
   "source": [
    "url = 'http://localhost:18080/kabusapi/wallet/future'\n",
    "req = urllib.request.Request(url, method='GET')\n",
    "req.add_header('Content-Type', 'application/json')\n",
    "req.add_header('X-API-KEY', 'ed94b0d34f9441c3931621e55230e402')\n",
    "\n",
    "try:\n",
    "    with urllib.request.urlopen(req) as res:\n",
    "        print(res.status, res.reason)\n",
    "        for header in res.getheaders():\n",
    "            print(header)\n",
    "        print()\n",
    "        content = json.loads(res.read())\n",
    "        pprint.pprint(content)\n",
    "except urllib.error.HTTPError as e:\n",
    "    print(e)\n",
    "    content = json.loads(e.read())\n",
    "    pprint.pprint(content)\n",
    "except Exception as e:\n",
    "    print(e)"
   ]
  },
  {
   "cell_type": "markdown",
   "metadata": {},
   "source": [
    "# 6．取引余力（OP）"
   ]
  },
  {
   "cell_type": "code",
   "execution_count": null,
   "metadata": {},
   "outputs": [],
   "source": [
    "url = 'http://localhost:18080/kabusapi/wallet/option'\n",
    "req = urllib.request.Request(url, method='GET')\n",
    "req.add_header('Content-Type', 'application/json')\n",
    "req.add_header('X-API-KEY', 'ed94b0d34f9441c3931621e55230e402')\n",
    "\n",
    "try:\n",
    "    with urllib.request.urlopen(req) as res:\n",
    "        print(res.status, res.reason)\n",
    "        for header in res.getheaders():\n",
    "            print(header)\n",
    "        print()\n",
    "        content = json.loads(res.read())\n",
    "        pprint.pprint(content)\n",
    "except urllib.error.HTTPError as e:\n",
    "    print(e)\n",
    "    content = json.loads(e.read())\n",
    "    pprint.pprint(content)\n",
    "except Exception as e:\n",
    "    print(e)"
   ]
  },
  {
   "cell_type": "code",
   "execution_count": null,
   "metadata": {},
   "outputs": [],
   "source": []
  }
 ],
 "metadata": {
  "kernelspec": {
   "display_name": "Python 3",
   "language": "python",
   "name": "python3"
  },
  "language_info": {
   "codemirror_mode": {
    "name": "ipython",
    "version": 3
   },
   "file_extension": ".py",
   "mimetype": "text/x-python",
   "name": "python",
   "nbconvert_exporter": "python",
   "pygments_lexer": "ipython3",
   "version": "3.8.3"
  }
 },
 "nbformat": 4,
 "nbformat_minor": 4
}
