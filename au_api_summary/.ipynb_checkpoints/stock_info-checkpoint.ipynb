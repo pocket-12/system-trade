{
 "cells": [
  {
   "cell_type": "code",
   "execution_count": 5,
   "metadata": {},
   "outputs": [],
   "source": [
    "import urllib.request\n",
    "import json\n",
    "import pprint\n",
    "import sys\n",
    "import _thread\n",
    "import websocket"
   ]
  },
  {
   "cell_type": "code",
   "execution_count": 6,
   "metadata": {},
   "outputs": [],
   "source": [
    "password='Cooper2e'"
   ]
  },
  {
   "cell_type": "code",
   "execution_count": 7,
   "metadata": {},
   "outputs": [],
   "source": [
    "def get_token(password):\n",
    "    obj = { 'APIPassword': password}\n",
    "    json_data = json.dumps(obj).encode('utf8')\n",
    "    url = 'http://localhost:18081/kabusapi/token' #検証用\n",
    "    #url = 'http://localhost:18080/kabusapi/token' #本番用\n",
    "    req = urllib.request.Request(url, json_data, method='POST')\n",
    "    req.add_header('Content-Type', 'application/json')\n",
    "\n",
    "    try:\n",
    "        with urllib.request.urlopen(req) as res:\n",
    "            print(res.status, res.reason)\n",
    "            for header in res.getheaders():\n",
    "                print(header)\n",
    "            print()\n",
    "            content = json.loads(res.read())\n",
    "            pprint.pprint(content)\n",
    "            return content[\"Token\"]\n",
    "    except urllib.error.HTTPError as e:\n",
    "        print(e)\n",
    "        content = json.loads(e.read())\n",
    "        pprint.pprint(content)\n",
    "    except Exception as e:\n",
    "        print(e)\n",
    "        "
   ]
  },
  {
   "cell_type": "code",
   "execution_count": 8,
   "metadata": {},
   "outputs": [
    {
     "name": "stdout",
     "output_type": "stream",
     "text": [
      "200 OK\n",
      "('Content-Length', '59')\n",
      "('Content-Type', 'application/json; charset=utf-8')\n",
      "('Server', 'Microsoft-HTTPAPI/2.0')\n",
      "('X-Content-Type-Options', 'nosniff')\n",
      "('X-XSS-Protection', '1; mode=block')\n",
      "('X-Frame-Options', 'DENY')\n",
      "('Content-Security-Policy', \"default-src 'none'\")\n",
      "('Access-Control-Allow-Origin', '*')\n",
      "('Date', 'Fri, 29 Jan 2021 17:03:17 GMT')\n",
      "('Connection', 'close')\n",
      "\n",
      "{'ResultCode': 0, 'Token': '4106877c77bd4a83887f7e87321fa8e3'}\n"
     ]
    }
   ],
   "source": [
    "token=get_token(\"Cooper2e\")"
   ]
  },
  {
   "cell_type": "markdown",
   "metadata": {},
   "source": [
    "# 1.時価情報・板情報 "
   ]
  },
  {
   "cell_type": "code",
   "execution_count": 9,
   "metadata": {},
   "outputs": [],
   "source": [
    "def get_board(code):\n",
    "    url = 'http://localhost:18081/kabusapi/board/'+code+'@1'\n",
    "    req = urllib.request.Request(url, method='GET')\n",
    "    req.add_header('Content-Type', 'application/json')\n",
    "    req.add_header('X-API-KEY',  token)\n",
    "\n",
    "    try:\n",
    "        with urllib.request.urlopen(req) as res:\n",
    "            print(res.status, res.reason)\n",
    "            for header in res.getheaders():\n",
    "                print(header)\n",
    "            print()\n",
    "            content = json.loads(res.read())\n",
    "            pprint.pprint(content)\n",
    "            return content\n",
    "    except urllib.error.HTTPError as e:\n",
    "        print(e)\n",
    "        content = json.loads(e.read())\n",
    "        pprint.pprint(content)\n",
    "    except Exception as e:\n",
    "        print(e)"
   ]
  },
  {
   "cell_type": "code",
   "execution_count": 8,
   "metadata": {},
   "outputs": [
    {
     "name": "stdout",
     "output_type": "stream",
     "text": [
      "200 OK\n",
      "('Content-Length', '969')\n",
      "('Content-Type', 'application/json; charset=utf-8')\n",
      "('Server', 'Microsoft-HTTPAPI/2.0')\n",
      "('X-Content-Type-Options', 'nosniff')\n",
      "('X-XSS-Protection', '1; mode=block')\n",
      "('X-Frame-Options', 'DENY')\n",
      "('Content-Security-Policy', \"default-src 'none'\")\n",
      "('Access-Control-Allow-Origin', '*')\n",
      "('Date', 'Fri, 29 Jan 2021 15:01:07 GMT')\n",
      "('Connection', 'close')\n",
      "\n",
      "{'AskPrice': None,\n",
      " 'AskQty': None,\n",
      " 'AskSign': None,\n",
      " 'AskTime': None,\n",
      " 'BidPrice': None,\n",
      " 'BidQty': None,\n",
      " 'BidSign': None,\n",
      " 'BidTime': None,\n",
      " 'Buy1': None,\n",
      " 'Buy10': None,\n",
      " 'Buy2': None,\n",
      " 'Buy3': None,\n",
      " 'Buy4': None,\n",
      " 'Buy5': None,\n",
      " 'Buy6': None,\n",
      " 'Buy7': None,\n",
      " 'Buy8': None,\n",
      " 'Buy9': None,\n",
      " 'CalcPrice': None,\n",
      " 'ChangePreviousClose': None,\n",
      " 'ChangePreviousClosePer': None,\n",
      " 'CurrentPrice': None,\n",
      " 'CurrentPriceChangeStatus': None,\n",
      " 'CurrentPriceStatus': None,\n",
      " 'CurrentPriceTime': None,\n",
      " 'Exchange': 0,\n",
      " 'ExchangeName': None,\n",
      " 'HighPrice': None,\n",
      " 'HighPriceTime': None,\n",
      " 'LowPrice': None,\n",
      " 'LowPriceTime': None,\n",
      " 'MarketOrderBuyQty': None,\n",
      " 'MarketOrderSellQty': None,\n",
      " 'OpeningPrice': None,\n",
      " 'OpeningPriceTime': None,\n",
      " 'OverSellQty': None,\n",
      " 'PreviousClose': None,\n",
      " 'PreviousCloseTime': None,\n",
      " 'Sell1': None,\n",
      " 'Sell10': None,\n",
      " 'Sell2': None,\n",
      " 'Sell3': None,\n",
      " 'Sell4': None,\n",
      " 'Sell5': None,\n",
      " 'Sell6': None,\n",
      " 'Sell7': None,\n",
      " 'Sell8': None,\n",
      " 'Sell9': None,\n",
      " 'Symbol': None,\n",
      " 'SymbolName': None,\n",
      " 'TotalMarketValue': None,\n",
      " 'TradingValue': None,\n",
      " 'TradingVolume': None,\n",
      " 'TradingVolumeTime': None,\n",
      " 'UnderBuyQty': None,\n",
      " 'VWAP': None}\n"
     ]
    }
   ],
   "source": [
    "info=get_board('2121')"
   ]
  },
  {
   "cell_type": "markdown",
   "metadata": {},
   "source": [
    "# 2.銘柄情報 "
   ]
  },
  {
   "cell_type": "code",
   "execution_count": 9,
   "metadata": {},
   "outputs": [],
   "source": [
    "def get_symbol(code):\n",
    "    url = 'http://localhost:18081/kabusapi/symbol/'+code+'@1'\n",
    "    req = urllib.request.Request(url, method='GET')\n",
    "    req.add_header('Content-Type', 'application/json')\n",
    "    req.add_header('X-API-KEY', token)\n",
    "\n",
    "    try:\n",
    "        with urllib.request.urlopen(req) as res:\n",
    "            print(res.status, res.reason)\n",
    "            for header in res.getheaders():\n",
    "                print(header)\n",
    "            print()\n",
    "            content = json.loads(res.read())\n",
    "            pprint.pprint(content)\n",
    "            return content\n",
    "    except urllib.error.HTTPError as e:\n",
    "        print(e)\n",
    "        content = json.loads(e.read())\n",
    "        pprint.pprint(content)\n",
    "    except Exception as e:\n",
    "        print(e)"
   ]
  },
  {
   "cell_type": "code",
   "execution_count": 10,
   "metadata": {},
   "outputs": [
    {
     "name": "stdout",
     "output_type": "stream",
     "text": [
      "200 OK\n",
      "('Content-Length', '326')\n",
      "('Content-Type', 'application/json; charset=utf-8')\n",
      "('Server', 'Microsoft-HTTPAPI/2.0')\n",
      "('X-Content-Type-Options', 'nosniff')\n",
      "('X-XSS-Protection', '1; mode=block')\n",
      "('X-Frame-Options', 'DENY')\n",
      "('Content-Security-Policy', \"default-src 'none'\")\n",
      "('Access-Control-Allow-Origin', '*')\n",
      "('Date', 'Fri, 29 Jan 2021 15:01:09 GMT')\n",
      "('Connection', 'close')\n",
      "\n",
      "{'BisCategory': None,\n",
      " 'DisplayName': None,\n",
      " 'Exchange': 0,\n",
      " 'ExchangeName': None,\n",
      " 'FiscalYearEndBasic': None,\n",
      " 'KCMarginBuy': False,\n",
      " 'KCMarginSell': False,\n",
      " 'LowerLimit': 0.0,\n",
      " 'MarginBuy': False,\n",
      " 'MarginSell': False,\n",
      " 'PriceRangeGroup': None,\n",
      " 'Symbol': None,\n",
      " 'SymbolName': None,\n",
      " 'TotalMarketValue': None,\n",
      " 'TotalStocks': None,\n",
      " 'TradingUnit': 0.0,\n",
      " 'UpperLimit': 0.0}\n"
     ]
    }
   ],
   "source": [
    "symbol=get_symbol('2121')"
   ]
  },
  {
   "cell_type": "markdown",
   "metadata": {},
   "source": [
    "# 3.銘柄登録 "
   ]
  },
  {
   "cell_type": "code",
   "execution_count": 11,
   "metadata": {},
   "outputs": [],
   "source": [
    "'''\n",
    "\n",
    "'''\n",
    "\n",
    "def register():\n",
    "    obj = { 'Symbols':\n",
    "            [ \n",
    "                {'Symbol': '9433', 'Exchange': 1},\n",
    "                {'Symbol': '165120018', 'Exchange': 2},\n",
    "                {'Symbol': '145123218', 'Exchange': 2}\n",
    "            ] }\n",
    "    json_data = json.dumps(obj).encode('utf8')\n",
    "\n",
    "    url = 'http://localhost:18081/kabusapi/register'\n",
    "    req = urllib.request.Request(url, json_data, method='PUT')\n",
    "    req.add_header('Content-Type', 'application/json')\n",
    "    req.add_header('X-API-KEY', 'ed94b0d34f9441c3931621e55230e402')\n",
    "\n",
    "    try:\n",
    "        with urllib.request.urlopen(req) as res:\n",
    "            print(res.status, res.reason)\n",
    "            for header in res.getheaders():\n",
    "                print(header)\n",
    "            print()\n",
    "            content = json.loads(res.read())\n",
    "            pprint.pprint(content)\n",
    "            return content\n",
    "    except urllib.error.HTTPError as e:\n",
    "        print(e)\n",
    "        content = json.loads(e.read())\n",
    "        pprint.pprint(content)\n",
    "    except Exception as e:\n",
    "        print(e)"
   ]
  },
  {
   "cell_type": "code",
   "execution_count": 12,
   "metadata": {},
   "outputs": [
    {
     "name": "stdout",
     "output_type": "stream",
     "text": [
      "HTTP Error 401: Unauthorized\n",
      "{'Code': 4001009, 'Message': 'APIキー不一致'}\n"
     ]
    }
   ],
   "source": [
    "register()"
   ]
  },
  {
   "cell_type": "markdown",
   "metadata": {},
   "source": [
    "# 4.PUSH配信開始 "
   ]
  },
  {
   "cell_type": "code",
   "execution_count": null,
   "metadata": {},
   "outputs": [],
   "source": [
    "\n",
    "def on_message(ws, message):\n",
    "    print('--- RECV MSG. --- ')\n",
    "    print(message)\n",
    "\n",
    "def on_error(ws, error):\n",
    "    print('--- ERROR --- ')\n",
    "    print(error)\n",
    "\n",
    "def on_close(ws):\n",
    "    print('--- DISCONNECTED --- ')\n",
    "\n",
    "def on_open(ws):\n",
    "    print('--- CONNECTED --- ')\n",
    "    def run(*args):\n",
    "        while(True):\n",
    "            line = sys.stdin.readline()\n",
    "            if line != '':\n",
    "                print('closing...')\n",
    "                ws.close()\n",
    "    _thread.start_new_thread(run, ())\n",
    "\n",
    "url = 'ws://localhost:18080/kabusapi/websocket'\n",
    "# websocket.enableTrace(True)\n",
    "ws = websocket.WebSocketApp(url,\n",
    "                          on_message = on_message,\n",
    "                          on_error = on_error,\n",
    "                          on_close = on_close)\n",
    "ws.on_open = on_open\n",
    "ws.run_forever()"
   ]
  },
  {
   "cell_type": "markdown",
   "metadata": {},
   "source": [
    "# 5.銘柄登録解除 "
   ]
  },
  {
   "cell_type": "code",
   "execution_count": null,
   "metadata": {},
   "outputs": [],
   "source": [
    "obj = { 'Symbols':\n",
    "        [ \n",
    "            {'Symbol': '9433', 'Exchange': 1},\n",
    "            {'Symbol': '165120018', 'Exchange': 2},\n",
    "            {'Symbol': '145123218', 'Exchange': 2}\n",
    "        ] }\n",
    "json_data = json.dumps(obj).encode('utf8')\n",
    "\n",
    "url = 'http://localhost:18080/kabusapi/unregister'\n",
    "req = urllib.request.Request(url, json_data, method='PUT')\n",
    "req.add_header('Content-Type', 'application/json')\n",
    "req.add_header('X-API-KEY', 'ed94b0d34f9441c3931621e55230e402')\n",
    "\n",
    "try:\n",
    "    with urllib.request.urlopen(req) as res:\n",
    "        print(res.status, res.reason)\n",
    "        for header in res.getheaders():\n",
    "            print(header)\n",
    "        print()\n",
    "        content = json.loads(res.read())\n",
    "        pprint.pprint(content)\n",
    "except urllib.error.HTTPError as e:\n",
    "    print(e)\n",
    "    content = json.loads(e.read())\n",
    "    pprint.pprint(content)\n",
    "except Exception as e:\n",
    "    print(e)"
   ]
  },
  {
   "cell_type": "markdown",
   "metadata": {},
   "source": [
    "# 6.銘柄登録全解除 "
   ]
  },
  {
   "cell_type": "code",
   "execution_count": null,
   "metadata": {},
   "outputs": [],
   "source": [
    "url = 'http://localhost:18081/kabusapi/unregister/all'\n",
    "req = urllib.request.Request(url, method='PUT')\n",
    "req.add_header('Content-Type', 'application/json')\n",
    "req.add_header('X-API-KEY', 'ed94b0d34f9441c3931621e55230e402')\n",
    "# req.add_header('Content-Length', 0)\n",
    "\n",
    "try:\n",
    "    with urllib.request.urlopen(req) as res:\n",
    "        print(res.status, res.reason)\n",
    "        for header in res.getheaders():\n",
    "            print(header)\n",
    "        print()\n",
    "        content = json.loads(res.read())\n",
    "        pprint.pprint(content)\n",
    "except urllib.error.HTTPError as e:\n",
    "    print(e)\n",
    "    content = json.loads(e.read())\n",
    "    pprint.pprint(content)\n",
    "except Exception as e:\n",
    "    print(e)"
   ]
  },
  {
   "cell_type": "markdown",
   "metadata": {},
   "source": [
    "# 7.先物銘柄コード取得 "
   ]
  },
  {
   "cell_type": "code",
   "execution_count": null,
   "metadata": {},
   "outputs": [],
   "source": [
    "url = 'http://localhost:18080/kabusapi/symbolname/future'\n",
    "params = { 'FutureCode': 'NK225', 'DerivMonth': 202012 }\n",
    "\n",
    "req = urllib.request.Request('{}?{}'.format(url, urllib.parse.urlencode(params)), method='GET')\n",
    "req.add_header('Content-Type', 'application/json')\n",
    "req.add_header('X-API-KEY', 'ed94b0d34f9441c3931621e55230e402')\n",
    "\n",
    "try:\n",
    "    with urllib.request.urlopen(req) as res:\n",
    "        print(res.status, res.reason)\n",
    "        for header in res.getheaders():\n",
    "            print(header)\n",
    "        print()\n",
    "        content = json.loads(res.read())\n",
    "        pprint.pprint(content)\n",
    "except urllib.error.HTTPError as e:\n",
    "    print(e)\n",
    "    content = json.loads(e.read())\n",
    "    pprint.pprint(content)\n",
    "except Exception as e:\n",
    "    print(e)"
   ]
  },
  {
   "cell_type": "markdown",
   "metadata": {},
   "source": [
    "# 8.オプション銘柄コード取得 "
   ]
  },
  {
   "cell_type": "code",
   "execution_count": null,
   "metadata": {},
   "outputs": [],
   "source": [
    "url = 'http://localhost:18080/kabusapi/symbolname/option'\n",
    "params = { 'DerivMonth': 202012, 'PutOrCall': 'C', 'StrikePrice': 24000 }\n",
    "\n",
    "req = urllib.request.Request('{}?{}'.format(url, urllib.parse.urlencode(params)), method='GET')\n",
    "req.add_header('Content-Type', 'application/json')\n",
    "req.add_header('X-API-KEY', 'ed94b0d34f9441c3931621e55230e402')\n",
    "\n",
    "try:\n",
    "    with urllib.request.urlopen(req) as res:\n",
    "        print(res.status, res.reason)\n",
    "        for header in res.getheaders():\n",
    "            print(header)\n",
    "        print()\n",
    "        content = json.loads(res.read())\n",
    "        pprint.pprint(content)\n",
    "except urllib.error.HTTPError as e:\n",
    "    print(e)\n",
    "    content = json.loads(e.read())\n",
    "    pprint.pprint(content)\n",
    "except Exception as e:\n",
    "    print(e)"
   ]
  },
  {
   "cell_type": "markdown",
   "metadata": {},
   "source": [
    "# ランキング？"
   ]
  },
  {
   "cell_type": "code",
   "execution_count": null,
   "metadata": {},
   "outputs": [],
   "source": [
    "url = 'http://localhost:18080/kabusapi/ranking' #?type=1&ExchangeDivision=ALL\n",
    "params = { 'type': 15 } #type - 1:値上がり率（デフォルト）2:値下がり率 3:売買高上位 4:売買代金 5:TICK回数 6:売買高急増 7:売買代金急増 8:信用売残増 9:信用売残減 10:信用買残増 11:信用買残減 12:信用高倍率 13:信用低倍率 14:業種別値上がり率 15:業種別値下がり率\n",
    "params['ExchangeDivision'] = 'S' #ExchangeDivision - ALL:全市場（デフォルト）T:東証全体 T1:東証一部 T2:東証二部 TM:マザーズ JQ:JASDAQ M:名証 FK:福証 S:札証\n",
    "req = urllib.request.Request('{}?{}'.format(url, urllib.parse.urlencode(params)), method='GET')\n",
    "req.add_header('Content-Type', 'application/json')\n",
    "req.add_header('X-API-KEY', 'f2a3579e776f4b6b8015a96c8bdafdce')\n",
    "\n",
    "try:\n",
    "    with urllib.request.urlopen(req) as res:\n",
    "        print(res.status, res.reason)\n",
    "        for header in res.getheaders():\n",
    "            print(header)\n",
    "        print()\n",
    "        content = json.loads(res.read())\n",
    "        pprint.pprint(content)\n",
    "except urllib.error.HTTPError as e:\n",
    "    print(e)\n",
    "    content = json.loads(e.read())\n",
    "    pprint.pprint(content)\n",
    "except Exception as e:\n",
    "    print(e)"
   ]
  }
 ],
 "metadata": {
  "kernelspec": {
   "display_name": "Python 3",
   "language": "python",
   "name": "python3"
  },
  "language_info": {
   "codemirror_mode": {
    "name": "ipython",
    "version": 3
   },
   "file_extension": ".py",
   "mimetype": "text/x-python",
   "name": "python",
   "nbconvert_exporter": "python",
   "pygments_lexer": "ipython3",
   "version": "3.8.3"
  }
 },
 "nbformat": 4,
 "nbformat_minor": 4
}
