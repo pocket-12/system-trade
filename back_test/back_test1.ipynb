{
 "cells": [
  {
   "cell_type": "code",
   "execution_count": 1,
   "metadata": {},
   "outputs": [],
   "source": []
  },
  {
   "cell_type": "code",
   "execution_count": 2,
   "metadata": {},
   "outputs": [
    {
     "ename": "SelectorSyntaxError",
     "evalue": "Expected ident, got <S ' ' at 7> (<string>)",
     "output_type": "error",
     "traceback": [
      "Traceback \u001b[1;36m(most recent call last)\u001b[0m:\n",
      "  File \u001b[0;32m\"C:\\Users\\pocke\\Anaconda3\\lib\\site-packages\\IPython\\core\\interactiveshell.py\"\u001b[0m, line \u001b[0;32m3343\u001b[0m, in \u001b[0;35mrun_code\u001b[0m\n    exec(code_obj, self.user_global_ns, self.user_ns)\n",
      "  File \u001b[0;32m\"<ipython-input-2-084298e9a230>\"\u001b[0m, line \u001b[0;32m2\u001b[0m, in \u001b[0;35m<module>\u001b[0m\n    sector = q. find(' table. kobetsu_ data_ table 2 a')[ 0]. text\n",
      "  File \u001b[0;32m\"C:\\Users\\pocke\\Anaconda3\\lib\\site-packages\\pyquery\\pyquery.py\"\u001b[0m, line \u001b[0;32m629\u001b[0m, in \u001b[0;35mfind\u001b[0m\n    xpath = self._css_to_xpath(selector)\n",
      "  File \u001b[0;32m\"C:\\Users\\pocke\\Anaconda3\\lib\\site-packages\\pyquery\\pyquery.py\"\u001b[0m, line \u001b[0;32m243\u001b[0m, in \u001b[0;35m_css_to_xpath\u001b[0m\n    return self._translator.css_to_xpath(selector, prefix)\n",
      "  File \u001b[0;32m\"C:\\Users\\pocke\\Anaconda3\\lib\\site-packages\\cssselect\\xpath.py\"\u001b[0m, line \u001b[0;32m192\u001b[0m, in \u001b[0;35mcss_to_xpath\u001b[0m\n    for selector in parse(css))\n",
      "  File \u001b[0;32m\"C:\\Users\\pocke\\Anaconda3\\lib\\site-packages\\cssselect\\parser.py\"\u001b[0m, line \u001b[0;32m415\u001b[0m, in \u001b[0;35mparse\u001b[0m\n    return list(parse_selector_group(stream))\n",
      "  File \u001b[0;32m\"C:\\Users\\pocke\\Anaconda3\\lib\\site-packages\\cssselect\\parser.py\"\u001b[0m, line \u001b[0;32m428\u001b[0m, in \u001b[0;35mparse_selector_group\u001b[0m\n    yield Selector(*parse_selector(stream))\n",
      "  File \u001b[0;32m\"C:\\Users\\pocke\\Anaconda3\\lib\\site-packages\\cssselect\\parser.py\"\u001b[0m, line \u001b[0;32m436\u001b[0m, in \u001b[0;35mparse_selector\u001b[0m\n    result, pseudo_element = parse_simple_selector(stream)\n",
      "  File \u001b[0;32m\"C:\\Users\\pocke\\Anaconda3\\lib\\site-packages\\cssselect\\parser.py\"\u001b[0m, line \u001b[0;32m492\u001b[0m, in \u001b[0;35mparse_simple_selector\u001b[0m\n    result = Class(result, stream.next_ident())\n",
      "\u001b[1;36m  File \u001b[1;32m\"C:\\Users\\pocke\\Anaconda3\\lib\\site-packages\\cssselect\\parser.py\"\u001b[1;36m, line \u001b[1;32m819\u001b[1;36m, in \u001b[1;35mnext_ident\u001b[1;36m\u001b[0m\n\u001b[1;33m    raise SelectorSyntaxError('Expected ident, got %s' % (next,))\u001b[0m\n",
      "\u001b[1;36m  File \u001b[1;32m\"<string>\"\u001b[1;36m, line \u001b[1;32munknown\u001b[0m\n\u001b[1;31mSelectorSyntaxError\u001b[0m\u001b[1;31m:\u001b[0m Expected ident, got <S ' ' at 7>\n"
     ]
    }
   ],
   "source": []
  },
  {
   "cell_type": "code",
   "execution_count": null,
   "metadata": {},
   "outputs": [],
   "source": []
  }
 ],
 "metadata": {
  "kernelspec": {
   "display_name": "Python 3",
   "language": "python",
   "name": "python3"
  },
  "language_info": {
   "codemirror_mode": {
    "name": "ipython",
    "version": 3
   },
   "file_extension": ".py",
   "mimetype": "text/x-python",
   "name": "python",
   "nbconvert_exporter": "python",
   "pygments_lexer": "ipython3",
   "version": "3.8.3"
  }
 },
 "nbformat": 4,
 "nbformat_minor": 4
}
