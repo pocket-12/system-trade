{
 "cells": [
  {
   "cell_type": "markdown",
   "metadata": {},
   "source": [
    "# 日経平均のMACD,ボリンジャーバンド、RSI、移動平均線のグラフ化"
   ]
  },
  {
   "cell_type": "code",
   "execution_count": 1,
   "metadata": {},
   "outputs": [
    {
     "ename": "SyntaxError",
     "evalue": "invalid character in identifier (<ipython-input-1-fafd9a62f909>, line 7)",
     "output_type": "error",
     "traceback": [
      "\u001b[1;36m  File \u001b[1;32m\"<ipython-input-1-fafd9a62f909>\"\u001b[1;36m, line \u001b[1;32m7\u001b[0m\n\u001b[1;33m    import talib as ta　#テクニカル分析に用いる\u001b[0m\n\u001b[1;37m                      ^\u001b[0m\n\u001b[1;31mSyntaxError\u001b[0m\u001b[1;31m:\u001b[0m invalid character in identifier\n"
     ]
    }
   ],
   "source": [
    "import pandas as pd\n",
    "import numpy as np\n",
    "from pandas_datareader import data\n",
    "import matplotlib.pyplot as plt\n",
    "%matplotlib inline\n",
    "import tensorflow #機械学習に用いる\n",
    "import talib as ta　#テクニカル分析に用いる\n",
    "#グラフ化のときの警告をなくす\n",
    "import warnings\n",
    "warnings.simplefilter('ignore')"
   ]
  },
  {
   "cell_type": "code",
   "execution_count": null,
   "metadata": {},
   "outputs": [],
   "source": [
    "start ='2019-07-01'\n",
    "end ='2021-01-10'\n",
    "\n",
    "df=data.DataReader('^N225','yahoo',start,end)\n",
    "\n",
    "#為替'DEXJPUS'\n",
    "#ビットコイン’BTC=JPY’"
   ]
  },
  {
   "cell_type": "code",
   "execution_count": null,
   "metadata": {},
   "outputs": [],
   "source": [
    "df.head(10)"
   ]
  },
  {
   "cell_type": "code",
   "execution_count": null,
   "metadata": {},
   "outputs": [],
   "source": [
    "date=df.index #日付\n",
    "close=df['Adj Close']#終値"
   ]
  },
  {
   "cell_type": "markdown",
   "metadata": {},
   "source": [
    "# ■移動平均線"
   ]
  },
  {
   "cell_type": "code",
   "execution_count": null,
   "metadata": {},
   "outputs": [],
   "source": [
    "span01=5\n",
    "span02=25\n",
    "span03=50\n",
    "\n",
    "df['sma01']=close.rolling(window=span01).mean() #5日移動平均\n",
    "df['sma02']=close.rolling(window=span02).mean() #25日移動平均\n",
    "df['sma03']=close.rolling(window=span03).mean() #50日移動平均"
   ]
  },
  {
   "cell_type": "code",
   "execution_count": null,
   "metadata": {},
   "outputs": [],
   "source": [
    "#株価、5日、２５日、５０日の移動平均線、出来高をグラフ化\n",
    "plt.figure(figsize=(30,15))\n",
    "plt.subplot(2,1,1)\n",
    "\n",
    "plt.plot(date,close,label='Close',color='#99b898')\n",
    "plt.plot(date,df['sma01'],label='sma01',color='#e84a5f')\n",
    "plt.plot(date,df['sma02'],label='sma02',color='#ff847c')\n",
    "plt.plot(date,df['sma03'],label='sma03',color='#feceab')\n",
    "plt.legend()\n",
    "\n",
    "plt.subplot(2,1,2)\n",
    "plt.bar(date,df['Volume'],label='Volume',color='grey')\n",
    "plt.legend()"
   ]
  },
  {
   "cell_type": "markdown",
   "metadata": {},
   "source": [
    "# ■MACD\n",
    "トレンドをみる指標  \n",
    "０以上なら上昇トレンド  \n",
    "０以下なら下降トレンド"
   ]
  },
  {
   "cell_type": "code",
   "execution_count": null,
   "metadata": {},
   "outputs": [],
   "source": [
    "df['macd'],df['macdsignal'],df['macdhist']=ta.MACD(close,fastperiod=12,slowperiod=26,signalperiod=9) #talibを使ってMACDを計算(fastperiod短期移動平均,slowperiod長期移動平均,signalperiodMACDシグナル)"
   ]
  },
  {
   "cell_type": "code",
   "execution_count": 2,
   "metadata": {},
   "outputs": [
    {
     "ename": "NameError",
     "evalue": "name 'df' is not defined",
     "output_type": "error",
     "traceback": [
      "\u001b[1;31m---------------------------------------------------------------------------\u001b[0m",
      "\u001b[1;31mNameError\u001b[0m                                 Traceback (most recent call last)",
      "\u001b[1;32m<ipython-input-2-26afc90272dc>\u001b[0m in \u001b[0;36m<module>\u001b[1;34m\u001b[0m\n\u001b[1;32m----> 1\u001b[1;33m \u001b[0mdf\u001b[0m\u001b[1;33m.\u001b[0m\u001b[0mhead\u001b[0m\u001b[1;33m(\u001b[0m\u001b[1;33m)\u001b[0m\u001b[1;33m\u001b[0m\u001b[1;33m\u001b[0m\u001b[0m\n\u001b[0m\u001b[0;32m      2\u001b[0m \u001b[1;31m#最初データは平均を使うのでない\u001b[0m\u001b[1;33m\u001b[0m\u001b[1;33m\u001b[0m\u001b[1;33m\u001b[0m\u001b[0m\n",
      "\u001b[1;31mNameError\u001b[0m: name 'df' is not defined"
     ]
    }
   ],
   "source": [
    "df.head()\n",
    "#最初データは平均を使うのでない"
   ]
  },
  {
   "cell_type": "code",
   "execution_count": null,
   "metadata": {},
   "outputs": [],
   "source": [
    "df.tail()"
   ]
  },
  {
   "cell_type": "code",
   "execution_count": null,
   "metadata": {},
   "outputs": [],
   "source": [
    "#MACDの折れ線グラフを表示\n",
    "plt.figure(figsize=(30,15))\n",
    "plt.subplot(2,1,1)\n",
    "\n",
    "plt.plot(date,close,label='Close',color='#99b898')\n",
    "# plt.plot(date,df['sma01'],label='sma01',color='#e84a5f')\n",
    "# plt.plot(date,df['sma02'],label='sma02',color='#ff847c')\n",
    "# plt.plot(date,df['sma03'],label='sma03',color='#feceab')\n",
    "plt.legend()\n",
    "\n",
    "plt.subplot(2,1,2)\n",
    "plt.fill_between(date,df['macdhist'],color='grey',alpha=0.5,label='MACD_hist')\n",
    "#plt.hlines(0,start,end,\"gray\",linestyles=\"dashed\")\n",
    "#hlinesで基準線の表示、エラー出るのでコメントアウト\n",
    "plt.legend()"
   ]
  },
  {
   "cell_type": "markdown",
   "metadata": {},
   "source": [
    "# ■RSI\n",
    "売られすぎ、買われすぎを表す指標  \n",
    "\n",
    "20から30%を下回る....売られすぎ➡逆張りの買いと判断  \n",
    "70から80%を上回る....買われすぎ➡逆張りの売りと判断  \n"
   ]
  },
  {
   "cell_type": "code",
   "execution_count": null,
   "metadata": {},
   "outputs": [],
   "source": [
    "df['RSI']=ta.RSI(close,timeperiod=span02)"
   ]
  },
  {
   "cell_type": "code",
   "execution_count": null,
   "metadata": {},
   "outputs": [],
   "source": [
    "df.tail()"
   ]
  },
  {
   "cell_type": "code",
   "execution_count": null,
   "metadata": {},
   "outputs": [],
   "source": [
    "#RSIグラフを表示\n",
    "plt.figure(figsize=(30,15))\n",
    "plt.subplot(2,1,1)\n",
    "\n",
    "plt.plot(date,close,label='Close',color='#99b898')\n",
    "plt.plot(date,df['sma01'],label='sma01',color='#e84a5f')\n",
    "plt.plot(date,df['sma02'],label='sma02',color='#ff847c')\n",
    "plt.plot(date,df['sma03'],label='sma03',color='#feceab')\n",
    "plt.legend()\n",
    "\n",
    "plt.subplot(2,1,2)\n",
    "plt.plot(date,df['RSI'],label='RSI',color=\"grey\")\n",
    "plt.ylim(0,100)\n",
    "#plt.hlines([30,50,70],start,end,\"gray\",linestyles=\"dashed\")\n",
    "plt.legend()"
   ]
  },
  {
   "cell_type": "markdown",
   "metadata": {},
   "source": [
    "# ■ボリンジャーバンド\n",
    "RSI同様に売られすぎ、買われすぎを示す  \n",
    "  \n",
    "移動平均などの一定期間の平均に対して、一定期間の標準偏差を足したものと引いたもの。  \n",
    "一般的にはプラスマイナス標準偏差の２倍を使う。  \n",
    "終値は２本のラインの間に収まる。収まらない場合、売られすぎ、買われすぎ。"
   ]
  },
  {
   "cell_type": "code",
   "execution_count": null,
   "metadata": {},
   "outputs": [],
   "source": [
    "df[\"upper\"],df[\"middle\"],df[\"lower\"]=ta.BBANDS(close,timeperiod=span02,nbdevup=2,nbdevdn=2,matype=0)\n",
    "#mattype0...単純移動平均、1...指数移動平均,2....加重移動平均"
   ]
  },
  {
   "cell_type": "code",
   "execution_count": null,
   "metadata": {},
   "outputs": [],
   "source": [
    "df.tail()"
   ]
  },
  {
   "cell_type": "code",
   "execution_count": null,
   "metadata": {},
   "outputs": [],
   "source": [
    "#RSIグラフを表示\n",
    "plt.figure(figsize=(30,15))\n",
    "plt.subplot(2,1,1)\n",
    "\n",
    "plt.plot(date,close,label='Close',color='#99b898')\n",
    "plt.fill_between(date,df[\"upper\"],df[\"lower\"],color=\"grey\",alpha=0.3)\n",
    "plt.legend()\n",
    "\n"
   ]
  },
  {
   "cell_type": "markdown",
   "metadata": {},
   "source": [
    "# ■すべての指標を表示"
   ]
  },
  {
   "cell_type": "code",
   "execution_count": null,
   "metadata": {},
   "outputs": [],
   "source": [
    "plt.figure(figsize=(30,15))\n",
    "plt.subplot(5,1,1)\n",
    "\n",
    "plt.plot(date,close,label='Close',color='#99b898')\n",
    "plt.plot(date,df['sma01'],label='sma01',color='#e84a5f')\n",
    "plt.plot(date,df['sma02'],label='sma02',color='#ff847c')\n",
    "plt.plot(date,df['sma03'],label='sma03',color='#feceab')\n",
    "plt.legend()\n",
    "\n",
    "plt.subplot(5,1,2)\n",
    "plt.bar(date,df['Volume'],label='Volume',color='grey')\n",
    "plt.legend()\n",
    "\n",
    "plt.subplot(5,1,3)\n",
    "plt.fill_between(date,df['macdhist'],color='grey',alpha=0.5,label='MACD_hist')\n",
    "plt.hlines(0,start,end,\"gray\",linestyles=\"dashed\")\n",
    "plt.legend()\n",
    "\n",
    "plt.subplot(5,1,4)\n",
    "plt.plot(date,df['RSI'],label='RSI',color=\"grey\")\n",
    "plt.ylim(0,100)\n",
    "plt.hlines([30,50,70],start,end,\"gray\",linestyles=\"dashed\")\n",
    "plt.legend()\n",
    "\n",
    "plt.subplot(5,1,5)\n",
    "plt.plot(date,close,label='Close',color='#99b898')\n",
    "plt.fill_between(date,df[\"upper\"],df[\"lower\"],color=\"grey\",alpha=0.3)\n",
    "plt.legend()\n",
    "\n",
    "\n",
    "\n"
   ]
  },
  {
   "cell_type": "code",
   "execution_count": null,
   "metadata": {},
   "outputs": [],
   "source": []
  }
 ],
 "metadata": {
  "kernelspec": {
   "display_name": "Python 3",
   "language": "python",
   "name": "python3"
  },
  "language_info": {
   "codemirror_mode": {
    "name": "ipython",
    "version": 3
   },
   "file_extension": ".py",
   "mimetype": "text/x-python",
   "name": "python",
   "nbconvert_exporter": "python",
   "pygments_lexer": "ipython3",
   "version": "3.8.3"
  }
 },
 "nbformat": 4,
 "nbformat_minor": 2
}
